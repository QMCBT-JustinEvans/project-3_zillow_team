{
 "cells": [
  {
   "cell_type": "code",
   "execution_count": 1,
   "id": "cb3d49a0",
   "metadata": {},
   "outputs": [],
   "source": [
    "import pandas as pd\n",
    "import numpy as np\n",
    "import seaborn as sns\n",
    "import matplotlib as plt\n",
    "import matplotlib.pyplot as plt\n",
    "%matplotlib inline\n",
    "import statsmodels.api as sm\n",
    "import statsmodels.formula.api as smf\n",
    "import patsy\n",
    "from sklearn.metrics import mean_squared_error, r2_score\n",
    "from sklearn.linear_model import LinearRegression, Lasso, Ridge, ElasticNet\n",
    "from sklearn.linear_model import LassoCV, RidgeCV, ElasticNetCV\n",
    "from sklearn.preprocessing import StandardScaler, PolynomialFeatures"
   ]
  },
  {
   "cell_type": "code",
   "execution_count": 2,
   "id": "aa177f8f",
   "metadata": {},
   "outputs": [
    {
     "name": "stdout",
     "output_type": "stream",
     "text": [
      "**CUSTOM EXPLORATION FUNCTIONS\n",
      "nunique_column_all(df): PRINT NUNIQUE OF ALL COLUMNS\n",
      "nunique_column_objects(df): PRINT NUNIQUE OF COLUMNS THAT ARE OBJECTS\n",
      "nunique_column_qty(df): PRINT NUNIQUE OF COLUMNS THAT ARE *NOT* OBJECTS\n",
      "numeric_range(df): COMPUTE RANGE FOR ALL NUMERIC VARIABLES\n",
      "\n",
      "**USEFUL EXPLORATORY CODE**\n",
      "DFNAME.head()\n",
      "DFNAME.shape\n",
      "DFNAME.shape[0] #read row count\n",
      "DFNAME.describe().T\n",
      "DFNAME.columns.to_list()\n",
      "DFNAME.COLUMNNAME.value_counts(dropna=False)\n",
      "DFNAME.dtypes\n",
      "DFNAME.select_dtypes(include='object').columns\n",
      "DFNAME.select_dtypes(include='float').columns\n",
      "pd.crosstab(DFNAME.COLUMN-1, DFNAME.COLUMN-2)\n"
     ]
    }
   ],
   "source": [
    "import requests\n",
    "import numpy as np\n",
    "import pandas as pd\n",
    "import seaborn as sns\n",
    "import pandas as pd\n",
    "from xml.etree import ElementTree\n",
    "from scipy import stats\n",
    "\n",
    "import matplotlib.pyplot as plt\n",
    "# Only works inside notebook\n",
    "%matplotlib inline \n",
    "#import matplotlib as mpl\n",
    "#mpl.rcParams['agg.path.chunksize'] = 10000 # assists with processor speed\n",
    "\n",
    "# Decision Tree and Model Evaluation Imports\n",
    "from sklearn.model_selection import train_test_split\n",
    "from sklearn.ensemble import RandomForestClassifier\n",
    "from sklearn.neighbors import KNeighborsClassifier\n",
    "from sklearn.feature_selection import RFE\n",
    "from sklearn.tree import DecisionTreeClassifier\n",
    "from sklearn.tree import plot_tree, export_text\n",
    "\n",
    "# import sklearn.linear_model\n",
    "from sklearn.linear_model import LassoLars\n",
    "from sklearn.linear_model import TweedieRegressor\n",
    "from sklearn.linear_model import LogisticRegression\n",
    "\n",
    "# import sklearn.metrics\n",
    "from sklearn.metrics import ConfusionMatrixDisplay\n",
    "from sklearn.metrics import confusion_matrix \n",
    "from sklearn.metrics import plot_confusion_matrix \n",
    "from sklearn.metrics import classification_report \n",
    "from sklearn.metrics import mean_squared_error\n",
    "\n",
    "# import sklearn.preprocessing\n",
    "import sklearn.preprocessing\n",
    "from sklearn.preprocessing import MinMaxScaler \n",
    "from sklearn.preprocessing import StandardScaler\n",
    "from sklearn.preprocessing import RobustScaler\n",
    "from sklearn.preprocessing import QuantileTransformer\n",
    "\n",
    "# import helper files from local environment\n",
    "from env import user, password, host\n",
    "import QMCBT_00_quicktips as qt\n",
    "import QMCBT_01_acquire as acquire\n",
    "import QMCBT_02_prepare as prepare\n",
    "import QMCBT_03_explore as explore\n",
    "import QMCBT_04_model as model\n",
    "import QMCBT_05_evaluate as evaluate\n",
    "import QMCBT_explore_evaluate as ee\n",
    "import QMCBT_wrangle as w\n",
    "\n",
    "# Set Alpha\n",
    "α = Alpha = alpha = 0.05\n",
    "random_state=1992\n",
    "np.random.seed(1992)\n",
    "\n",
    "# allows import reload without needing to clear kernel and rerun\n",
    "from importlib import reload\n",
    "# reload(packagename) \n",
    "\n",
    "import warnings\n",
    "warnings.filterwarnings(\"ignore\")"
   ]
  },
  {
   "cell_type": "code",
   "execution_count": 3,
   "id": "8a87a15c",
   "metadata": {},
   "outputs": [
    {
     "data": {
      "text/html": [
       "<style>table {align:left;display:block}</style>"
      ],
      "text/plain": [
       "<IPython.core.display.HTML object>"
      ]
     },
     "execution_count": 3,
     "metadata": {},
     "output_type": "execute_result"
    }
   ],
   "source": [
    "# Left Align Tables in Jupyter Notebook\n",
    "from IPython.core.display import HTML\n",
    "table_css = 'table {align:left;display:block}'\n",
    "HTML('<style>{}</style>'.format(table_css))"
   ]
  },
  {
   "cell_type": "markdown",
   "id": "73035cca",
   "metadata": {},
   "source": [
    "<div class=\"alert alert-success\">\n",
    "\n",
    "# Acquire & Prepare:"
   ]
  },
  {
   "cell_type": "code",
   "execution_count": 4,
   "id": "1c64d2da",
   "metadata": {},
   "outputs": [],
   "source": [
    "# Read in csv from local file as leam_df (Life Expectancy And Mortality DataFrame)\n",
    "leam_df = pd.read_csv('clean_leam.csv', index_col=0)"
   ]
  },
  {
   "cell_type": "markdown",
   "id": "358e0e12",
   "metadata": {},
   "source": [
    "<div class=\"alert alert-warning\">\n",
    "\n",
    "## Split"
   ]
  },
  {
   "cell_type": "code",
   "execution_count": 5,
   "id": "a1e24072",
   "metadata": {},
   "outputs": [],
   "source": [
    "def split(df, stratify=False, target=None):\n",
    "    \"\"\"\n",
    "    This Function splits the DataFrame into train, validate, and test\n",
    "    then prints a graphic representation and a mini report showing the shape of the original DataFrame\n",
    "    compared to the shape of the train, validate, and test DataFrames.\n",
    "    \n",
    "    IMPORTS Required:\n",
    "    from sklearn.model_selection import train_test_split\n",
    "    \n",
    "    ARGUMENTS:\n",
    "          df - Input the DataFrame you will split\n",
    "    stratify - True will stratify for your Target (Do NOT stratify on continuous data)\n",
    "               False will ignore this function\n",
    "      target - Only needed if you will stratify\n",
    "    \"\"\"\n",
    "    \n",
    "    # Do NOT stratify on continuous data\n",
    "    if stratify:\n",
    "        # Split df into train and test using sklearn\n",
    "        train, test = train_test_split(df, test_size=.2, random_state=1992, stratify=df[target])\n",
    "        # Split train_df into train and validate using sklearn\n",
    "        train, validate = train_test_split(train, test_size=.25, random_state=1992, stratify=df[target])\n",
    "        \n",
    "    else:\n",
    "        train, test = train_test_split(df, test_size=.2, random_state=1992)\n",
    "        train, validate = train_test_split(train, test_size=.37, random_state=1992)\n",
    "    \n",
    "    # reset index for train validate and test\n",
    "    train.reset_index(drop=True, inplace=True)\n",
    "    validate.reset_index(drop=True, inplace=True)\n",
    "    test.reset_index(drop=True, inplace=True)\n",
    "\n",
    "    train_prcnt = round((train.shape[0] / df.shape[0]), 2)*100\n",
    "    validate_prcnt = round((validate.shape[0] / df.shape[0]), 2)*100\n",
    "    test_prcnt = round((test.shape[0] / df.shape[0]), 2)*100\n",
    "    \n",
    "    print('________________________________________________________________')\n",
    "    print('|                              DF                              |')\n",
    "    print('|--------------------:--------------------:--------------------|')\n",
    "    print('|        Train       |      Validate      |        Test        |')\n",
    "    print(':--------------------------------------------------------------:')\n",
    "    print()\n",
    "    print()\n",
    "    print(f'Prepared df: {df.shape}')\n",
    "    print()\n",
    "    print(f'      Train: {train.shape} - {train_prcnt}%')\n",
    "    print(f'   Validate: {validate.shape} - {validate_prcnt}%')\n",
    "    print(f'       Test: {test.shape} - {test_prcnt}%')\n",
    " \n",
    "    \n",
    "    return train, validate, test"
   ]
  },
  {
   "cell_type": "code",
   "execution_count": 6,
   "id": "a2f699a3",
   "metadata": {},
   "outputs": [
    {
     "name": "stdout",
     "output_type": "stream",
     "text": [
      "________________________________________________________________\n",
      "|                              DF                              |\n",
      "|--------------------:--------------------:--------------------|\n",
      "|        Train       |      Validate      |        Test        |\n",
      ":--------------------------------------------------------------:\n",
      "\n",
      "\n",
      "Prepared df: (2208, 10)\n",
      "\n",
      "      Train: (1112, 10) - 50.0%\n",
      "   Validate: (654, 10) - 30.0%\n",
      "       Test: (442, 10) - 20.0%\n"
     ]
    }
   ],
   "source": [
    "train, validate, test = split(leam_df)"
   ]
  },
  {
   "cell_type": "markdown",
   "id": "053dcfad",
   "metadata": {},
   "source": [
    "<div class=\"alert alert-warning\">\n",
    "\n",
    "## Xy Split"
   ]
  },
  {
   "cell_type": "code",
   "execution_count": 7,
   "id": "3696d79d",
   "metadata": {},
   "outputs": [],
   "source": [
    "def Xy_split(feature_cols, target, train, validate, test):\n",
    "    \"\"\"\n",
    "    This function will split the train, validate, and test data by the Feature Columns selected and the Target.\n",
    "    \n",
    "    Imports Needed:\n",
    "    from sklearn.model_selection import train_test_split\n",
    "    \n",
    "    Arguments Taken:\n",
    "       feature_cols: list['1','2','3'] the feature columns you want to run your model against.\n",
    "             target: list the 'target' feature that you will try to predict\n",
    "              train: Assign the name of your train DataFrame\n",
    "           validate: Assign the name of your validate DataFrame\n",
    "               test: Assign the name of your test DataFrame\n",
    "    \"\"\"\n",
    "    \n",
    "    print('_______________________________________________________________')\n",
    "    print('|                              DF                             |')\n",
    "    print('|-------------------:-------------------:---------------------|')\n",
    "    print('|       Train       |       Validate    |          Test       |')\n",
    "    print('|-------------------:-------------------:---------------------|')\n",
    "    print('| x_train | y_train |   x_val  |  y_val |   x_test  |  y_test |')\n",
    "    print(':-------------------------------------------------------------:')\n",
    "    \n",
    "    X_train, y_train = train[feature_cols], train[target]\n",
    "    X_val, y_val = validate[feature_cols], validate[target]\n",
    "    X_test, y_test = test[feature_cols], test[target]\n",
    "\n",
    "    print()\n",
    "    print()\n",
    "    print(f'   X_train: {X_train.shape}   {X_train.columns}')\n",
    "    print(f'   y_train: {y_train.shape}     Index({target})')\n",
    "    print()\n",
    "    print(f'X_validate: {X_val.shape}   {X_val.columns}')\n",
    "    print(f'y_validate: {y_val.shape}     Index({target})')\n",
    "    print()\n",
    "    print(f'    X_test: {X_test.shape}   {X_test.columns}')\n",
    "    print(f'    y_test: {y_test.shape}     Index({target})')\n",
    "    \n",
    "    \n",
    "    return X_train, y_train, X_val, y_val, X_test, y_test"
   ]
  },
  {
   "cell_type": "code",
   "execution_count": 8,
   "id": "bf8111e6",
   "metadata": {},
   "outputs": [
    {
     "name": "stdout",
     "output_type": "stream",
     "text": [
      "_______________________________________________________________\n",
      "|                              DF                             |\n",
      "|-------------------:-------------------:---------------------|\n",
      "|       Train       |       Validate    |          Test       |\n",
      "|-------------------:-------------------:---------------------|\n",
      "| x_train | y_train |   x_val  |  y_val |   x_test  |  y_test |\n",
      ":-------------------------------------------------------------:\n",
      "\n",
      "\n",
      "   X_train: (1112, 3)   Index(['YEAR', 'SEX_FMLE', 'SEX_BTSX'], dtype='object')\n",
      "   y_train: (1112,)     Index(life_expectancy)\n",
      "\n",
      "X_validate: (654, 3)   Index(['YEAR', 'SEX_FMLE', 'SEX_BTSX'], dtype='object')\n",
      "y_validate: (654,)     Index(life_expectancy)\n",
      "\n",
      "    X_test: (442, 3)   Index(['YEAR', 'SEX_FMLE', 'SEX_BTSX'], dtype='object')\n",
      "    y_test: (442,)     Index(life_expectancy)\n"
     ]
    }
   ],
   "source": [
    "feature_cols = ['YEAR','SEX_FMLE','SEX_BTSX',] \n",
    "target = 'life_expectancy'\n",
    "\n",
    "X_train, y_train, X_val, y_val, X_test, y_test = Xy_split(feature_cols, target, train, validate, test)"
   ]
  },
  {
   "cell_type": "code",
   "execution_count": 9,
   "id": "ee0eb841",
   "metadata": {},
   "outputs": [
    {
     "data": {
      "text/html": [
       "<div>\n",
       "<style scoped>\n",
       "    .dataframe tbody tr th:only-of-type {\n",
       "        vertical-align: middle;\n",
       "    }\n",
       "\n",
       "    .dataframe tbody tr th {\n",
       "        vertical-align: top;\n",
       "    }\n",
       "\n",
       "    .dataframe thead th {\n",
       "        text-align: right;\n",
       "    }\n",
       "</style>\n",
       "<table border=\"1\" class=\"dataframe\">\n",
       "  <thead>\n",
       "    <tr style=\"text-align: right;\">\n",
       "      <th></th>\n",
       "      <th>0</th>\n",
       "      <th>1</th>\n",
       "      <th>2</th>\n",
       "      <th>3</th>\n",
       "      <th>4</th>\n",
       "    </tr>\n",
       "  </thead>\n",
       "  <tbody>\n",
       "    <tr>\n",
       "      <th>YEAR</th>\n",
       "      <td>2019</td>\n",
       "      <td>2015</td>\n",
       "      <td>2019</td>\n",
       "      <td>2019</td>\n",
       "      <td>2015</td>\n",
       "    </tr>\n",
       "    <tr>\n",
       "      <th>COUNTRY</th>\n",
       "      <td>MDG</td>\n",
       "      <td>MWI</td>\n",
       "      <td>CAN</td>\n",
       "      <td>KOR</td>\n",
       "      <td>NER</td>\n",
       "    </tr>\n",
       "    <tr>\n",
       "      <th>WHOSIS_000001</th>\n",
       "      <td>66.59742</td>\n",
       "      <td>59.67438</td>\n",
       "      <td>80.3959</td>\n",
       "      <td>86.08791</td>\n",
       "      <td>60.2756</td>\n",
       "    </tr>\n",
       "    <tr>\n",
       "      <th>WHOSIS_000002</th>\n",
       "      <td>57.73955</td>\n",
       "      <td>52.84434</td>\n",
       "      <td>70.51</td>\n",
       "      <td>74.6607</td>\n",
       "      <td>53.8392</td>\n",
       "    </tr>\n",
       "    <tr>\n",
       "      <th>WHOSIS_000007</th>\n",
       "      <td>12.94762</td>\n",
       "      <td>10.92255</td>\n",
       "      <td>18.2056</td>\n",
       "      <td>21.20124</td>\n",
       "      <td>12.49067</td>\n",
       "    </tr>\n",
       "    <tr>\n",
       "      <th>WHOSIS_000015</th>\n",
       "      <td>17.3255</td>\n",
       "      <td>14.63438</td>\n",
       "      <td>23.83582</td>\n",
       "      <td>27.8674</td>\n",
       "      <td>16.16279</td>\n",
       "    </tr>\n",
       "    <tr>\n",
       "      <th>life_expectancy</th>\n",
       "      <td>38.652523</td>\n",
       "      <td>34.518912</td>\n",
       "      <td>48.23683</td>\n",
       "      <td>52.454312</td>\n",
       "      <td>35.692065</td>\n",
       "    </tr>\n",
       "    <tr>\n",
       "      <th>SEX_BTSX</th>\n",
       "      <td>0</td>\n",
       "      <td>0</td>\n",
       "      <td>0</td>\n",
       "      <td>0</td>\n",
       "      <td>0</td>\n",
       "    </tr>\n",
       "    <tr>\n",
       "      <th>SEX_FMLE</th>\n",
       "      <td>1</td>\n",
       "      <td>0</td>\n",
       "      <td>0</td>\n",
       "      <td>1</td>\n",
       "      <td>0</td>\n",
       "    </tr>\n",
       "    <tr>\n",
       "      <th>SEX_MLE</th>\n",
       "      <td>0</td>\n",
       "      <td>1</td>\n",
       "      <td>1</td>\n",
       "      <td>0</td>\n",
       "      <td>1</td>\n",
       "    </tr>\n",
       "  </tbody>\n",
       "</table>\n",
       "</div>"
      ],
      "text/plain": [
       "                         0          1         2          3          4\n",
       "YEAR                  2019       2015      2019       2019       2015\n",
       "COUNTRY                MDG        MWI       CAN        KOR        NER\n",
       "WHOSIS_000001     66.59742   59.67438   80.3959   86.08791    60.2756\n",
       "WHOSIS_000002     57.73955   52.84434     70.51    74.6607    53.8392\n",
       "WHOSIS_000007     12.94762   10.92255   18.2056   21.20124   12.49067\n",
       "WHOSIS_000015      17.3255   14.63438  23.83582    27.8674   16.16279\n",
       "life_expectancy  38.652523  34.518912  48.23683  52.454312  35.692065\n",
       "SEX_BTSX                 0          0         0          0          0\n",
       "SEX_FMLE                 1          0         0          1          0\n",
       "SEX_MLE                  0          1         1          0          1"
      ]
     },
     "execution_count": 9,
     "metadata": {},
     "output_type": "execute_result"
    }
   ],
   "source": [
    "train.head().T"
   ]
  },
  {
   "cell_type": "markdown",
   "id": "99fbf7b9",
   "metadata": {},
   "source": [
    "<div class=\"alert alert-success\">\n",
    "\n",
    "# Model:"
   ]
  },
  {
   "cell_type": "markdown",
   "id": "d4e6f36f",
   "metadata": {},
   "source": [
    "<div class=\"alert alert-warning\">\n",
    "\n",
    "## Predictions DataFrame:"
   ]
  },
  {
   "cell_type": "code",
   "execution_count": 10,
   "id": "07294fa3",
   "metadata": {},
   "outputs": [
    {
     "data": {
      "text/html": [
       "<div>\n",
       "<style scoped>\n",
       "    .dataframe tbody tr th:only-of-type {\n",
       "        vertical-align: middle;\n",
       "    }\n",
       "\n",
       "    .dataframe tbody tr th {\n",
       "        vertical-align: top;\n",
       "    }\n",
       "\n",
       "    .dataframe thead th {\n",
       "        text-align: right;\n",
       "    }\n",
       "</style>\n",
       "<table border=\"1\" class=\"dataframe\">\n",
       "  <thead>\n",
       "    <tr style=\"text-align: right;\">\n",
       "      <th></th>\n",
       "      <th>actual</th>\n",
       "    </tr>\n",
       "  </thead>\n",
       "  <tbody>\n",
       "    <tr>\n",
       "      <th>0</th>\n",
       "      <td>44.264637</td>\n",
       "    </tr>\n",
       "    <tr>\n",
       "      <th>1</th>\n",
       "      <td>42.609115</td>\n",
       "    </tr>\n",
       "    <tr>\n",
       "      <th>2</th>\n",
       "      <td>49.878860</td>\n",
       "    </tr>\n",
       "    <tr>\n",
       "      <th>3</th>\n",
       "      <td>41.265250</td>\n",
       "    </tr>\n",
       "    <tr>\n",
       "      <th>4</th>\n",
       "      <td>35.610018</td>\n",
       "    </tr>\n",
       "  </tbody>\n",
       "</table>\n",
       "</div>"
      ],
      "text/plain": [
       "      actual\n",
       "0  44.264637\n",
       "1  42.609115\n",
       "2  49.878860\n",
       "3  41.265250\n",
       "4  35.610018"
      ]
     },
     "execution_count": 10,
     "metadata": {},
     "output_type": "execute_result"
    }
   ],
   "source": [
    "predictions = pd.DataFrame({'actual': validate.life_expectancy})\n",
    "predictions.head()"
   ]
  },
  {
   "cell_type": "markdown",
   "id": "b2fc9135",
   "metadata": {
    "slideshow": {
     "slide_type": "slide"
    }
   },
   "source": [
    "<div class=\"alert alert-warning\">\n",
    "\n",
    "\n",
    "\n",
    "## Simple Model\n",
    "\n",
    "$$ y = mx + b $$\n",
    "\n",
    "$$y = f(x)$$"
   ]
  },
  {
   "cell_type": "code",
   "execution_count": 11,
   "id": "311af606",
   "metadata": {},
   "outputs": [],
   "source": [
    "from sklearn.linear_model import LinearRegression\n",
    "\n",
    "# 1. make the thing\n",
    "lm = LinearRegression()\n",
    "# 2. fit the thing\n",
    "lm.fit(X_train, y_train)\n",
    "# 3. use the thing (make predictions)\n",
    "predictions['simple_lm'] = lm.predict(X_val)"
   ]
  },
  {
   "cell_type": "code",
   "execution_count": 12,
   "id": "fbba28a4",
   "metadata": {},
   "outputs": [
    {
     "data": {
      "text/html": [
       "<div>\n",
       "<style scoped>\n",
       "    .dataframe tbody tr th:only-of-type {\n",
       "        vertical-align: middle;\n",
       "    }\n",
       "\n",
       "    .dataframe tbody tr th {\n",
       "        vertical-align: top;\n",
       "    }\n",
       "\n",
       "    .dataframe thead th {\n",
       "        text-align: right;\n",
       "    }\n",
       "</style>\n",
       "<table border=\"1\" class=\"dataframe\">\n",
       "  <thead>\n",
       "    <tr style=\"text-align: right;\">\n",
       "      <th></th>\n",
       "      <th>actual</th>\n",
       "      <th>simple_lm</th>\n",
       "    </tr>\n",
       "  </thead>\n",
       "  <tbody>\n",
       "    <tr>\n",
       "      <th>0</th>\n",
       "      <td>44.264637</td>\n",
       "      <td>40.930571</td>\n",
       "    </tr>\n",
       "    <tr>\n",
       "      <th>1</th>\n",
       "      <td>42.609115</td>\n",
       "      <td>41.023107</td>\n",
       "    </tr>\n",
       "    <tr>\n",
       "      <th>2</th>\n",
       "      <td>49.878860</td>\n",
       "      <td>44.296996</td>\n",
       "    </tr>\n",
       "    <tr>\n",
       "      <th>3</th>\n",
       "      <td>41.265250</td>\n",
       "      <td>43.588275</td>\n",
       "    </tr>\n",
       "    <tr>\n",
       "      <th>4</th>\n",
       "      <td>35.610018</td>\n",
       "      <td>40.939312</td>\n",
       "    </tr>\n",
       "  </tbody>\n",
       "</table>\n",
       "</div>"
      ],
      "text/plain": [
       "      actual  simple_lm\n",
       "0  44.264637  40.930571\n",
       "1  42.609115  41.023107\n",
       "2  49.878860  44.296996\n",
       "3  41.265250  43.588275\n",
       "4  35.610018  40.939312"
      ]
     },
     "execution_count": 12,
     "metadata": {},
     "output_type": "execute_result"
    }
   ],
   "source": [
    "predictions.head()"
   ]
  },
  {
   "cell_type": "markdown",
   "id": "18ab479c",
   "metadata": {
    "slideshow": {
     "slide_type": "slide"
    }
   },
   "source": [
    "### Examine The Model\n",
    "\n",
    "- **coefficients**: define how our prediction changes as x changes. A one-unit increase in x causes our model to predict a `coef` unit change in y, holding all other independent variables constant\n",
    "- **intercept**: Value we predict if x is 0. Depending on our x variables, this may not be valuable\n"
   ]
  },
  {
   "cell_type": "code",
   "execution_count": 13,
   "id": "173b63bc",
   "metadata": {},
   "outputs": [
    {
     "data": {
      "text/plain": [
       "(array([0.17718025, 3.273889  , 1.51082808]), -316.70382803644895)"
      ]
     },
     "execution_count": 13,
     "metadata": {},
     "output_type": "execute_result"
    }
   ],
   "source": [
    "# Coefficients & Intercept\n",
    "lm.coef_, lm.intercept_"
   ]
  },
  {
   "cell_type": "code",
   "execution_count": 14,
   "id": "92abba76",
   "metadata": {},
   "outputs": [
    {
     "name": "stdout",
     "output_type": "stream",
     "text": [
      "life_expectancy (y) = 0.177 * Selected Features (X) + -316.704\n"
     ]
    }
   ],
   "source": [
    "# Human Readable\n",
    "print('life_expectancy (y) = {:.3f} * Selected Features (X) + {:.3f}'.format(lm.coef_[0], lm.intercept_))"
   ]
  },
  {
   "cell_type": "code",
   "execution_count": 15,
   "id": "6e6a9996",
   "metadata": {},
   "outputs": [
    {
     "data": {
      "text/plain": [
       "(654, 2)"
      ]
     },
     "execution_count": 15,
     "metadata": {},
     "output_type": "execute_result"
    }
   ],
   "source": [
    "predictions.shape"
   ]
  },
  {
   "cell_type": "code",
   "execution_count": 16,
   "id": "d36779ef",
   "metadata": {},
   "outputs": [
    {
     "data": {
      "text/plain": [
       "<matplotlib.legend.Legend at 0x134049be0>"
      ]
     },
     "execution_count": 16,
     "metadata": {},
     "output_type": "execute_result"
    },
    {
     "data": {
      "image/png": "[encoded data removed]",
      "text/plain": [
       "<Figure size 1152x648 with 1 Axes>"
      ]
     },
     "metadata": {
      "needs_background": "light"
     },
     "output_type": "display_data"
    }
   ],
   "source": [
    "x_pred = np.linspace(1999, 2020, 654)\n",
    "y_pred = predictions.simple_lm\n",
    "\n",
    "plt.figure(figsize=(16, 9))\n",
    "plt.scatter(train.YEAR, train.life_expectancy, label='actual')\n",
    "plt.scatter(train.YEAR, lm.predict(train[feature_cols]), label='simple_lm')\n",
    "plt.plot(x_pred, y_pred, ls='--', c='red', label='linear model prediction line')\n",
    "plt.hlines(0, -25, 100, ls=':', color='grey')\n",
    "plt.vlines(0, -10, 100, ls=':', color='grey')\n",
    "plt.xlim(1999, 2020)\n",
    "plt\n",
    "\n",
    "plt.xlabel('YEAR')\n",
    "plt.ylabel('Life Expectancy')\n",
    "plt.legend()"
   ]
  },
  {
   "cell_type": "markdown",
   "id": "a9608bce",
   "metadata": {
    "slideshow": {
     "slide_type": "slide"
    }
   },
   "source": [
    "### Model Interpretation"
   ]
  },
  {
   "cell_type": "code",
   "execution_count": 17,
   "id": "ddad9ad7",
   "metadata": {},
   "outputs": [
    {
     "name": "stdout",
     "output_type": "stream",
     "text": [
      "For every 1 year increase in Life Expcetancy, we predict a 0.18 year increase across Observed Features\n"
     ]
    }
   ],
   "source": [
    "# life_expectancy (y) = 0.177 * [YEAR, SEX_FMLE, SEX_BTSX] (X) + -316.704\n",
    "print(f'For every 1 year increase in Life Expcetancy, we predict a {lm.coef_[0]:.2f} year increase across Observed Features')"
   ]
  },
  {
   "cell_type": "code",
   "execution_count": 18,
   "id": "832120bc",
   "metadata": {},
   "outputs": [
    {
     "data": {
      "text/html": [
       "<div>\n",
       "<style scoped>\n",
       "    .dataframe tbody tr th:only-of-type {\n",
       "        vertical-align: middle;\n",
       "    }\n",
       "\n",
       "    .dataframe tbody tr th {\n",
       "        vertical-align: top;\n",
       "    }\n",
       "\n",
       "    .dataframe thead th {\n",
       "        text-align: right;\n",
       "    }\n",
       "</style>\n",
       "<table border=\"1\" class=\"dataframe\">\n",
       "  <thead>\n",
       "    <tr style=\"text-align: right;\">\n",
       "      <th></th>\n",
       "      <th>actual</th>\n",
       "      <th>simple_lm</th>\n",
       "    </tr>\n",
       "  </thead>\n",
       "  <tbody>\n",
       "    <tr>\n",
       "      <th>0</th>\n",
       "      <td>44.264637</td>\n",
       "      <td>40.930571</td>\n",
       "    </tr>\n",
       "    <tr>\n",
       "      <th>1</th>\n",
       "      <td>42.609115</td>\n",
       "      <td>41.023107</td>\n",
       "    </tr>\n",
       "    <tr>\n",
       "      <th>2</th>\n",
       "      <td>49.878860</td>\n",
       "      <td>44.296996</td>\n",
       "    </tr>\n",
       "    <tr>\n",
       "      <th>3</th>\n",
       "      <td>41.265250</td>\n",
       "      <td>43.588275</td>\n",
       "    </tr>\n",
       "    <tr>\n",
       "      <th>4</th>\n",
       "      <td>35.610018</td>\n",
       "      <td>40.939312</td>\n",
       "    </tr>\n",
       "    <tr>\n",
       "      <th>...</th>\n",
       "      <td>...</td>\n",
       "      <td>...</td>\n",
       "    </tr>\n",
       "    <tr>\n",
       "      <th>649</th>\n",
       "      <td>32.081648</td>\n",
       "      <td>39.428484</td>\n",
       "    </tr>\n",
       "    <tr>\n",
       "      <th>650</th>\n",
       "      <td>39.203695</td>\n",
       "      <td>39.167510</td>\n",
       "    </tr>\n",
       "    <tr>\n",
       "      <th>651</th>\n",
       "      <td>27.608877</td>\n",
       "      <td>37.656682</td>\n",
       "    </tr>\n",
       "    <tr>\n",
       "      <th>652</th>\n",
       "      <td>48.564900</td>\n",
       "      <td>40.314386</td>\n",
       "    </tr>\n",
       "    <tr>\n",
       "      <th>653</th>\n",
       "      <td>30.324255</td>\n",
       "      <td>37.656682</td>\n",
       "    </tr>\n",
       "  </tbody>\n",
       "</table>\n",
       "<p>654 rows × 2 columns</p>\n",
       "</div>"
      ],
      "text/plain": [
       "        actual  simple_lm\n",
       "0    44.264637  40.930571\n",
       "1    42.609115  41.023107\n",
       "2    49.878860  44.296996\n",
       "3    41.265250  43.588275\n",
       "4    35.610018  40.939312\n",
       "..         ...        ...\n",
       "649  32.081648  39.428484\n",
       "650  39.203695  39.167510\n",
       "651  27.608877  37.656682\n",
       "652  48.564900  40.314386\n",
       "653  30.324255  37.656682\n",
       "\n",
       "[654 rows x 2 columns]"
      ]
     },
     "execution_count": 18,
     "metadata": {},
     "output_type": "execute_result"
    }
   ],
   "source": [
    "predictions"
   ]
  },
  {
   "cell_type": "markdown",
   "id": "c324e22a",
   "metadata": {
    "slideshow": {
     "slide_type": "slide"
    }
   },
   "source": [
    "<div class=\"alert alert-warning\">\n",
    "\n",
    "\n",
    "## Multiple Regression + RFE\n",
    "\n",
    "$$ y = m_1x_1 + m_2x_2 + b $$\n",
    "\n",
    "$$ y = f(x1, x2, ...) $$"
   ]
  },
  {
   "cell_type": "code",
   "execution_count": 19,
   "id": "e9b56cc7",
   "metadata": {},
   "outputs": [
    {
     "name": "stdout",
     "output_type": "stream",
     "text": [
      "selected top 2 features: Index(['SEX_FMLE', 'SEX_BTSX'], dtype='object')\n"
     ]
    }
   ],
   "source": [
    "lm = LinearRegression()\n",
    "k = 2\n",
    "\n",
    "# 1. Transform our X\n",
    "rfe = RFE(lm, n_features_to_select=2)\n",
    "rfe.fit(X_train, y_train)\n",
    "print('selected top 2 features:', X_train.columns[rfe.support_])\n",
    "X_train_rfe = rfe.transform(X_train)"
   ]
  },
  {
   "cell_type": "code",
   "execution_count": 20,
   "id": "290d44cc",
   "metadata": {},
   "outputs": [
    {
     "data": {
      "text/plain": [
       "(1112, 3)"
      ]
     },
     "execution_count": 20,
     "metadata": {},
     "output_type": "execute_result"
    }
   ],
   "source": [
    "X_train.shape"
   ]
  },
  {
   "cell_type": "code",
   "execution_count": 21,
   "id": "c9ad594f",
   "metadata": {},
   "outputs": [
    {
     "data": {
      "text/plain": [
       "(1112, 2)"
      ]
     },
     "execution_count": 21,
     "metadata": {},
     "output_type": "execute_result"
    }
   ],
   "source": [
    "X_train_rfe.shape"
   ]
  },
  {
   "cell_type": "code",
   "execution_count": 22,
   "id": "554f94d8",
   "metadata": {},
   "outputs": [
    {
     "data": {
      "text/html": [
       "<div>\n",
       "<style scoped>\n",
       "    .dataframe tbody tr th:only-of-type {\n",
       "        vertical-align: middle;\n",
       "    }\n",
       "\n",
       "    .dataframe tbody tr th {\n",
       "        vertical-align: top;\n",
       "    }\n",
       "\n",
       "    .dataframe thead th {\n",
       "        text-align: right;\n",
       "    }\n",
       "</style>\n",
       "<table border=\"1\" class=\"dataframe\">\n",
       "  <thead>\n",
       "    <tr style=\"text-align: right;\">\n",
       "      <th></th>\n",
       "      <th>actual</th>\n",
       "      <th>simple_lm</th>\n",
       "      <th>multiple_rfe</th>\n",
       "    </tr>\n",
       "  </thead>\n",
       "  <tbody>\n",
       "    <tr>\n",
       "      <th>0</th>\n",
       "      <td>44.264637</td>\n",
       "      <td>40.930571</td>\n",
       "      <td>42.808379</td>\n",
       "    </tr>\n",
       "    <tr>\n",
       "      <th>1</th>\n",
       "      <td>42.609115</td>\n",
       "      <td>41.023107</td>\n",
       "      <td>39.598978</td>\n",
       "    </tr>\n",
       "    <tr>\n",
       "      <th>2</th>\n",
       "      <td>49.878860</td>\n",
       "      <td>44.296996</td>\n",
       "      <td>42.808379</td>\n",
       "    </tr>\n",
       "    <tr>\n",
       "      <th>3</th>\n",
       "      <td>41.265250</td>\n",
       "      <td>43.588275</td>\n",
       "      <td>42.808379</td>\n",
       "    </tr>\n",
       "    <tr>\n",
       "      <th>4</th>\n",
       "      <td>35.610018</td>\n",
       "      <td>40.939312</td>\n",
       "      <td>41.238702</td>\n",
       "    </tr>\n",
       "  </tbody>\n",
       "</table>\n",
       "</div>"
      ],
      "text/plain": [
       "      actual  simple_lm  multiple_rfe\n",
       "0  44.264637  40.930571     42.808379\n",
       "1  42.609115  41.023107     39.598978\n",
       "2  49.878860  44.296996     42.808379\n",
       "3  41.265250  43.588275     42.808379\n",
       "4  35.610018  40.939312     41.238702"
      ]
     },
     "execution_count": 22,
     "metadata": {},
     "output_type": "execute_result"
    }
   ],
   "source": [
    "# 2. Use the transformed x in our model\n",
    "lm.fit(X_train_rfe, y_train)\n",
    "\n",
    "# 3. Make predictions\n",
    "X_val_rfe = rfe.transform(X_val)\n",
    "predictions['multiple_rfe'] = lm.predict(X_val_rfe)\n",
    "\n",
    "predictions.head()"
   ]
  },
  {
   "cell_type": "markdown",
   "id": "6ef3d35e",
   "metadata": {
    "slideshow": {
     "slide_type": "slide"
    }
   },
   "source": [
    "### Examine the Model"
   ]
  },
  {
   "cell_type": "code",
   "execution_count": 23,
   "id": "fd59071c",
   "metadata": {
    "slideshow": {
     "slide_type": "-"
    }
   },
   "outputs": [
    {
     "data": {
      "text/plain": [
       "Index(['SEX_FMLE', 'SEX_BTSX'], dtype='object')"
      ]
     },
     "execution_count": 23,
     "metadata": {},
     "output_type": "execute_result"
    }
   ],
   "source": [
    "X_train.columns[rfe.support_]"
   ]
  },
  {
   "cell_type": "code",
   "execution_count": 24,
   "id": "239907d1",
   "metadata": {},
   "outputs": [
    {
     "data": {
      "text/plain": [
       "(array([3.20940008, 1.63972307]), 39.598978456873326)"
      ]
     },
     "execution_count": 24,
     "metadata": {},
     "output_type": "execute_result"
    }
   ],
   "source": [
    "lm.coef_, lm.intercept_"
   ]
  },
  {
   "cell_type": "code",
   "execution_count": 25,
   "id": "3be50427",
   "metadata": {},
   "outputs": [
    {
     "name": "stdout",
     "output_type": "stream",
     "text": [
      "life_expectancy = 3.21 x SEX_FMLE + 1.64 x SEX_BTSX + 39.60\n"
     ]
    }
   ],
   "source": [
    "print(f'{target} = {lm.coef_[0]:.2f} x {X_train.columns[rfe.support_][0]} + {lm.coef_[1]:.2f} x {X_train.columns[rfe.support_][1]} + {lm.intercept_:.2f}')"
   ]
  },
  {
   "cell_type": "code",
   "execution_count": 26,
   "id": "1e38ebb9",
   "metadata": {},
   "outputs": [
    {
     "data": {
      "text/html": [
       "<div>\n",
       "<style scoped>\n",
       "    .dataframe tbody tr th:only-of-type {\n",
       "        vertical-align: middle;\n",
       "    }\n",
       "\n",
       "    .dataframe tbody tr th {\n",
       "        vertical-align: top;\n",
       "    }\n",
       "\n",
       "    .dataframe thead th {\n",
       "        text-align: right;\n",
       "    }\n",
       "</style>\n",
       "<table border=\"1\" class=\"dataframe\">\n",
       "  <thead>\n",
       "    <tr style=\"text-align: right;\">\n",
       "      <th></th>\n",
       "      <th>SEX_FMLE</th>\n",
       "      <th>SEX_BTSX</th>\n",
       "      <th>predicted_life_expectancy</th>\n",
       "    </tr>\n",
       "  </thead>\n",
       "  <tbody>\n",
       "    <tr>\n",
       "      <th>0</th>\n",
       "      <td>0</td>\n",
       "      <td>1</td>\n",
       "      <td>41.238702</td>\n",
       "    </tr>\n",
       "    <tr>\n",
       "      <th>1</th>\n",
       "      <td>1</td>\n",
       "      <td>0</td>\n",
       "      <td>42.808379</td>\n",
       "    </tr>\n",
       "    <tr>\n",
       "      <th>2</th>\n",
       "      <td>0</td>\n",
       "      <td>0</td>\n",
       "      <td>39.598978</td>\n",
       "    </tr>\n",
       "  </tbody>\n",
       "</table>\n",
       "</div>"
      ],
      "text/plain": [
       "   SEX_FMLE  SEX_BTSX  predicted_life_expectancy\n",
       "0         0         1                  41.238702\n",
       "1         1         0                  42.808379\n",
       "2         0         0                  39.598978"
      ]
     },
     "execution_count": 26,
     "metadata": {},
     "output_type": "execute_result"
    }
   ],
   "source": [
    "X = pd.DataFrame({\n",
    "    'SEX_FMLE': [0, 1, 0],\n",
    "    'SEX_BTSX': [1, 0, 0]\n",
    "})\n",
    "\n",
    "X['predicted_life_expectancy'] = lm.predict(X)\n",
    "X"
   ]
  },
  {
   "cell_type": "markdown",
   "id": "fff2d044",
   "metadata": {
    "slideshow": {
     "slide_type": "slide"
    }
   },
   "source": [
    "<div class=\"alert alert-warning\">\n",
    "\n",
    "\n",
    "\n",
    "## Polynomial Features\n",
    "\n",
    "First off...what the heck is a polynomial?\n",
    "\n",
    "$$ y = a_0x^0 + a_1x^1 + a_2x^2 + ... + a_nx^n $$\n",
    "\n",
    "or a simpler form:\n",
    "\n",
    "$$ y = a_0 + a_1x + a_2x^2 + ... + a_nx^n $$\n",
    "\n",
    "`degree = order = n`\n",
    "\n",
    "What does a polynomial look like when graphed on a coordinate plane? Well it depends on\n",
    "- The intercept\n",
    "- The coefficients\n",
    "\n",
    "Consider this third degree polynomial:\n",
    "\n",
    "$$ y = 2x + x^3 $$"
   ]
  },
  {
   "cell_type": "markdown",
   "id": "e3ff7911",
   "metadata": {},
   "source": [
    "<div class=\"alert alert-warning\">\n",
    "\n",
    "\n",
    "## Polynomial Degree 2"
   ]
  },
  {
   "cell_type": "code",
   "execution_count": 27,
   "id": "a86efc91",
   "metadata": {},
   "outputs": [
    {
     "data": {
      "text/html": [
       "<div>\n",
       "<style scoped>\n",
       "    .dataframe tbody tr th:only-of-type {\n",
       "        vertical-align: middle;\n",
       "    }\n",
       "\n",
       "    .dataframe tbody tr th {\n",
       "        vertical-align: top;\n",
       "    }\n",
       "\n",
       "    .dataframe thead th {\n",
       "        text-align: right;\n",
       "    }\n",
       "</style>\n",
       "<table border=\"1\" class=\"dataframe\">\n",
       "  <thead>\n",
       "    <tr style=\"text-align: right;\">\n",
       "      <th></th>\n",
       "      <th>0</th>\n",
       "      <th>1</th>\n",
       "      <th>2</th>\n",
       "      <th>3</th>\n",
       "      <th>4</th>\n",
       "    </tr>\n",
       "  </thead>\n",
       "  <tbody>\n",
       "    <tr>\n",
       "      <th>YEAR</th>\n",
       "      <td>2019.0</td>\n",
       "      <td>2015.0</td>\n",
       "      <td>2019.0</td>\n",
       "      <td>2019.0</td>\n",
       "      <td>2015.0</td>\n",
       "    </tr>\n",
       "    <tr>\n",
       "      <th>SEX_FMLE</th>\n",
       "      <td>1.0</td>\n",
       "      <td>0.0</td>\n",
       "      <td>0.0</td>\n",
       "      <td>1.0</td>\n",
       "      <td>0.0</td>\n",
       "    </tr>\n",
       "    <tr>\n",
       "      <th>SEX_BTSX</th>\n",
       "      <td>0.0</td>\n",
       "      <td>0.0</td>\n",
       "      <td>0.0</td>\n",
       "      <td>0.0</td>\n",
       "      <td>0.0</td>\n",
       "    </tr>\n",
       "    <tr>\n",
       "      <th>YEAR^2</th>\n",
       "      <td>4076361.0</td>\n",
       "      <td>4060225.0</td>\n",
       "      <td>4076361.0</td>\n",
       "      <td>4076361.0</td>\n",
       "      <td>4060225.0</td>\n",
       "    </tr>\n",
       "    <tr>\n",
       "      <th>YEAR SEX_FMLE</th>\n",
       "      <td>2019.0</td>\n",
       "      <td>0.0</td>\n",
       "      <td>0.0</td>\n",
       "      <td>2019.0</td>\n",
       "      <td>0.0</td>\n",
       "    </tr>\n",
       "    <tr>\n",
       "      <th>YEAR SEX_BTSX</th>\n",
       "      <td>0.0</td>\n",
       "      <td>0.0</td>\n",
       "      <td>0.0</td>\n",
       "      <td>0.0</td>\n",
       "      <td>0.0</td>\n",
       "    </tr>\n",
       "    <tr>\n",
       "      <th>SEX_FMLE^2</th>\n",
       "      <td>1.0</td>\n",
       "      <td>0.0</td>\n",
       "      <td>0.0</td>\n",
       "      <td>1.0</td>\n",
       "      <td>0.0</td>\n",
       "    </tr>\n",
       "    <tr>\n",
       "      <th>SEX_FMLE SEX_BTSX</th>\n",
       "      <td>0.0</td>\n",
       "      <td>0.0</td>\n",
       "      <td>0.0</td>\n",
       "      <td>0.0</td>\n",
       "      <td>0.0</td>\n",
       "    </tr>\n",
       "    <tr>\n",
       "      <th>SEX_BTSX^2</th>\n",
       "      <td>0.0</td>\n",
       "      <td>0.0</td>\n",
       "      <td>0.0</td>\n",
       "      <td>0.0</td>\n",
       "      <td>0.0</td>\n",
       "    </tr>\n",
       "  </tbody>\n",
       "</table>\n",
       "</div>"
      ],
      "text/plain": [
       "                           0          1          2          3          4\n",
       "YEAR                  2019.0     2015.0     2019.0     2019.0     2015.0\n",
       "SEX_FMLE                 1.0        0.0        0.0        1.0        0.0\n",
       "SEX_BTSX                 0.0        0.0        0.0        0.0        0.0\n",
       "YEAR^2             4076361.0  4060225.0  4076361.0  4076361.0  4060225.0\n",
       "YEAR SEX_FMLE         2019.0        0.0        0.0     2019.0        0.0\n",
       "YEAR SEX_BTSX            0.0        0.0        0.0        0.0        0.0\n",
       "SEX_FMLE^2               1.0        0.0        0.0        1.0        0.0\n",
       "SEX_FMLE SEX_BTSX        0.0        0.0        0.0        0.0        0.0\n",
       "SEX_BTSX^2               0.0        0.0        0.0        0.0        0.0"
      ]
     },
     "execution_count": 27,
     "metadata": {},
     "output_type": "execute_result"
    }
   ],
   "source": [
    "# 1. Generate Polynomial Features\n",
    "poly = PolynomialFeatures(degree=2, include_bias=False, interaction_only=False)\n",
    "poly.fit(X_train)\n",
    "X_train_poly = pd.DataFrame(\n",
    "    poly.transform(X_train),\n",
    "    columns=poly.get_feature_names(X_train.columns),\n",
    "    index=train.index,\n",
    ")\n",
    "X_train_poly.head().T"
   ]
  },
  {
   "cell_type": "code",
   "execution_count": 28,
   "id": "7aa04bfe",
   "metadata": {
    "slideshow": {
     "slide_type": "slide"
    }
   },
   "outputs": [],
   "source": [
    "# 2. Use the features\n",
    "lm = LinearRegression()\n",
    "lm.fit(X_train_poly, y_train)\n",
    "\n",
    "X_val_poly = poly.transform(X_val)\n",
    "predictions['polynomial degree 2'] = lm.predict(X_val_poly)"
   ]
  },
  {
   "cell_type": "code",
   "execution_count": 29,
   "id": "c6971115",
   "metadata": {},
   "outputs": [
    {
     "data": {
      "text/html": [
       "<div>\n",
       "<style scoped>\n",
       "    .dataframe tbody tr th:only-of-type {\n",
       "        vertical-align: middle;\n",
       "    }\n",
       "\n",
       "    .dataframe tbody tr th {\n",
       "        vertical-align: top;\n",
       "    }\n",
       "\n",
       "    .dataframe thead th {\n",
       "        text-align: right;\n",
       "    }\n",
       "</style>\n",
       "<table border=\"1\" class=\"dataframe\">\n",
       "  <thead>\n",
       "    <tr style=\"text-align: right;\">\n",
       "      <th></th>\n",
       "      <th>actual</th>\n",
       "      <th>simple_lm</th>\n",
       "      <th>multiple_rfe</th>\n",
       "      <th>polynomial degree 2</th>\n",
       "    </tr>\n",
       "  </thead>\n",
       "  <tbody>\n",
       "    <tr>\n",
       "      <th>0</th>\n",
       "      <td>44.264637</td>\n",
       "      <td>40.930571</td>\n",
       "      <td>42.808379</td>\n",
       "      <td>41.290096</td>\n",
       "    </tr>\n",
       "    <tr>\n",
       "      <th>1</th>\n",
       "      <td>42.609115</td>\n",
       "      <td>41.023107</td>\n",
       "      <td>39.598978</td>\n",
       "      <td>41.325406</td>\n",
       "    </tr>\n",
       "    <tr>\n",
       "      <th>2</th>\n",
       "      <td>49.878860</td>\n",
       "      <td>44.296996</td>\n",
       "      <td>42.808379</td>\n",
       "      <td>43.980035</td>\n",
       "    </tr>\n",
       "    <tr>\n",
       "      <th>3</th>\n",
       "      <td>41.265250</td>\n",
       "      <td>43.588275</td>\n",
       "      <td>42.808379</td>\n",
       "      <td>43.441534</td>\n",
       "    </tr>\n",
       "    <tr>\n",
       "      <th>4</th>\n",
       "      <td>35.610018</td>\n",
       "      <td>40.939312</td>\n",
       "      <td>41.238702</td>\n",
       "      <td>40.974954</td>\n",
       "    </tr>\n",
       "  </tbody>\n",
       "</table>\n",
       "</div>"
      ],
      "text/plain": [
       "      actual  simple_lm  multiple_rfe  polynomial degree 2\n",
       "0  44.264637  40.930571     42.808379            41.290096\n",
       "1  42.609115  41.023107     39.598978            41.325406\n",
       "2  49.878860  44.296996     42.808379            43.980035\n",
       "3  41.265250  43.588275     42.808379            43.441534\n",
       "4  35.610018  40.939312     41.238702            40.974954"
      ]
     },
     "execution_count": 29,
     "metadata": {},
     "output_type": "execute_result"
    }
   ],
   "source": [
    "predictions.head()"
   ]
  },
  {
   "cell_type": "markdown",
   "id": "7fcb0960",
   "metadata": {},
   "source": [
    "#### Examine the coefficients of the resulting model."
   ]
  },
  {
   "cell_type": "code",
   "execution_count": 30,
   "id": "df65062b",
   "metadata": {},
   "outputs": [
    {
     "data": {
      "text/plain": [
       "YEAR SEX_FMLE        -0.075382\n",
       "YEAR SEX_BTSX        -0.046843\n",
       "YEAR^2               -0.000463\n",
       "SEX_FMLE SEX_BTSX     0.000000\n",
       "YEAR                  2.079220\n",
       "SEX_BTSX^2           47.857357\n",
       "SEX_BTSX             47.857357\n",
       "SEX_FMLE             77.425648\n",
       "SEX_FMLE^2           77.425648\n",
       "dtype: float64"
      ]
     },
     "execution_count": 30,
     "metadata": {},
     "output_type": "execute_result"
    }
   ],
   "source": [
    "feature_names = poly.get_feature_names(X_train.columns)\n",
    "pd.Series(lm.coef_, index=feature_names).sort_values()"
   ]
  },
  {
   "cell_type": "markdown",
   "id": "9b6f151c",
   "metadata": {
    "slideshow": {
     "slide_type": "slide"
    }
   },
   "source": [
    "<div class=\"alert alert-warning\">\n",
    "\n",
    "\n",
    "## Polynomial Only Interaction"
   ]
  },
  {
   "cell_type": "code",
   "execution_count": 31,
   "id": "9539624e",
   "metadata": {},
   "outputs": [
    {
     "data": {
      "text/plain": [
       "YEAR SEX_FMLE         -0.075271\n",
       "YEAR SEX_BTSX         -0.047128\n",
       "SEX_FMLE SEX_BTSX      0.000000\n",
       "YEAR                   0.217294\n",
       "SEX_BTSX              96.287789\n",
       "SEX_FMLE             154.628259\n",
       "dtype: float64"
      ]
     },
     "execution_count": 31,
     "metadata": {},
     "output_type": "execute_result"
    }
   ],
   "source": [
    "poly = PolynomialFeatures(degree=2, include_bias=False, interaction_only=True)\n",
    "poly.fit(X_train)\n",
    "X_train_poly = pd.DataFrame(\n",
    "    poly.transform(X_train),\n",
    "    columns=poly.get_feature_names(X_train.columns),\n",
    "    index=train.index,\n",
    ")\n",
    "lm = LinearRegression()\n",
    "lm.fit(X_train_poly, y_train)\n",
    "\n",
    "X_val_poly = poly.transform(X_val)\n",
    "predictions['polynomial only interaction'] = lm.predict(X_val_poly)\n",
    "\n",
    "pd.Series(lm.coef_, index=poly.get_feature_names(X_train.columns)).sort_values()"
   ]
  },
  {
   "cell_type": "code",
   "execution_count": 32,
   "id": "e4530034",
   "metadata": {},
   "outputs": [
    {
     "data": {
      "text/html": [
       "<div>\n",
       "<style scoped>\n",
       "    .dataframe tbody tr th:only-of-type {\n",
       "        vertical-align: middle;\n",
       "    }\n",
       "\n",
       "    .dataframe tbody tr th {\n",
       "        vertical-align: top;\n",
       "    }\n",
       "\n",
       "    .dataframe thead th {\n",
       "        text-align: right;\n",
       "    }\n",
       "</style>\n",
       "<table border=\"1\" class=\"dataframe\">\n",
       "  <thead>\n",
       "    <tr style=\"text-align: right;\">\n",
       "      <th></th>\n",
       "      <th>actual</th>\n",
       "      <th>simple_lm</th>\n",
       "      <th>multiple_rfe</th>\n",
       "      <th>polynomial degree 2</th>\n",
       "      <th>polynomial only interaction</th>\n",
       "    </tr>\n",
       "  </thead>\n",
       "  <tbody>\n",
       "    <tr>\n",
       "      <th>0</th>\n",
       "      <td>44.264637</td>\n",
       "      <td>40.930571</td>\n",
       "      <td>42.808379</td>\n",
       "      <td>41.290096</td>\n",
       "      <td>41.303182</td>\n",
       "    </tr>\n",
       "    <tr>\n",
       "      <th>1</th>\n",
       "      <td>42.609115</td>\n",
       "      <td>41.023107</td>\n",
       "      <td>39.598978</td>\n",
       "      <td>41.325406</td>\n",
       "      <td>41.345527</td>\n",
       "    </tr>\n",
       "    <tr>\n",
       "      <th>2</th>\n",
       "      <td>49.878860</td>\n",
       "      <td>44.296996</td>\n",
       "      <td>42.808379</td>\n",
       "      <td>43.980035</td>\n",
       "      <td>44.001611</td>\n",
       "    </tr>\n",
       "    <tr>\n",
       "      <th>3</th>\n",
       "      <td>41.265250</td>\n",
       "      <td>43.588275</td>\n",
       "      <td>42.808379</td>\n",
       "      <td>43.441534</td>\n",
       "      <td>43.433521</td>\n",
       "    </tr>\n",
       "    <tr>\n",
       "      <th>4</th>\n",
       "      <td>35.610018</td>\n",
       "      <td>40.939312</td>\n",
       "      <td>41.238702</td>\n",
       "      <td>40.974954</td>\n",
       "      <td>40.951165</td>\n",
       "    </tr>\n",
       "  </tbody>\n",
       "</table>\n",
       "</div>"
      ],
      "text/plain": [
       "      actual  simple_lm  multiple_rfe  polynomial degree 2  \\\n",
       "0  44.264637  40.930571     42.808379            41.290096   \n",
       "1  42.609115  41.023107     39.598978            41.325406   \n",
       "2  49.878860  44.296996     42.808379            43.980035   \n",
       "3  41.265250  43.588275     42.808379            43.441534   \n",
       "4  35.610018  40.939312     41.238702            40.974954   \n",
       "\n",
       "   polynomial only interaction  \n",
       "0                    41.303182  \n",
       "1                    41.345527  \n",
       "2                    44.001611  \n",
       "3                    43.433521  \n",
       "4                    40.951165  "
      ]
     },
     "execution_count": 32,
     "metadata": {},
     "output_type": "execute_result"
    }
   ],
   "source": [
    "predictions.head()"
   ]
  },
  {
   "cell_type": "markdown",
   "id": "f375ed14",
   "metadata": {
    "slideshow": {
     "slide_type": "slide"
    }
   },
   "source": [
    "Takeaway: interaction terms can be useful if you suspect there's a multiplicative relationship between independent variables. Higher order polynomial features should be used with caution (usually when you have domain knowledge that says this is the right thing to do).\n",
    "\n",
    "Example: Telco churn, using monthly charges and tenure to predict total charges. monthly charges times tenure will give us a good number for total charges."
   ]
  },
  {
   "cell_type": "markdown",
   "id": "65fe8f14",
   "metadata": {},
   "source": [
    "<div class=\"alert alert-warning\">\n",
    "\n",
    "\n",
    "\n",
    "## Lasso-Lars\n",
    "\n",
    "Performs intrinsic feature selection and noise reduction to avoid overfitting.\n",
    "\n",
    "The most important hyperparameter is `alpha`. \n",
    "- `alpha` determines the degree of regularization applied to the model. \n",
    "- The lowest `alpha` is zero, and this represents no regularization (identical to OLS). \n",
    "- There is no limit to `alpha`, but as it rises, it will reach a point where performance no longer changes (often because you've regularized all of your coefficients to zero. \n",
    "\n",
    "Generally speaking, the higher the alpha, the lower your risk for overfitting. \n",
    "\n",
    "`alpha` = 1.0 is a good place to start."
   ]
  },
  {
   "cell_type": "code",
   "execution_count": 33,
   "id": "d99463ca",
   "metadata": {},
   "outputs": [],
   "source": [
    "from sklearn.linear_model import LassoLars"
   ]
  },
  {
   "cell_type": "markdown",
   "id": "784fdb3c",
   "metadata": {},
   "source": [
    "`alpha = 0`"
   ]
  },
  {
   "cell_type": "code",
   "execution_count": 34,
   "id": "6c99d444",
   "metadata": {},
   "outputs": [],
   "source": [
    "# create the model object\n",
    "lars = LassoLars(alpha=0)\n",
    "\n",
    "# fit the model to our training data\n",
    "lars.fit(X_train, y_train)\n",
    "\n",
    "# predict validate\n",
    "X_val_pred_lars = lars.predict(X_val)"
   ]
  },
  {
   "cell_type": "code",
   "execution_count": 35,
   "id": "7ed1307f",
   "metadata": {},
   "outputs": [
    {
     "data": {
      "text/plain": [
       "YEAR        0.177180\n",
       "SEX_BTSX    1.510828\n",
       "SEX_FMLE    3.273889\n",
       "dtype: float64"
      ]
     },
     "execution_count": 35,
     "metadata": {},
     "output_type": "execute_result"
    }
   ],
   "source": [
    "pd.Series(lars.coef_, index=X_train.columns).sort_values()"
   ]
  },
  {
   "cell_type": "markdown",
   "id": "c42f339e",
   "metadata": {},
   "source": [
    "`alpha = 0.5`"
   ]
  },
  {
   "cell_type": "code",
   "execution_count": 36,
   "id": "5c865e44",
   "metadata": {},
   "outputs": [],
   "source": [
    "# create the model object\n",
    "lars = LassoLars(alpha=0.5)\n",
    "\n",
    "# fit the model to our training data= \n",
    "lars.fit(X_train, y_train)\n",
    "\n",
    "# predict validate\n",
    "X_val_pred_lars = lars.predict(X_val)"
   ]
  },
  {
   "cell_type": "code",
   "execution_count": 37,
   "id": "5be20684",
   "metadata": {},
   "outputs": [
    {
     "data": {
      "text/plain": [
       "YEAR        0.0\n",
       "SEX_FMLE    0.0\n",
       "SEX_BTSX    0.0\n",
       "dtype: float64"
      ]
     },
     "execution_count": 37,
     "metadata": {},
     "output_type": "execute_result"
    }
   ],
   "source": [
    "pd.Series(lars.coef_, index=X_train.columns).sort_values()"
   ]
  },
  {
   "cell_type": "markdown",
   "id": "cb876151",
   "metadata": {},
   "source": [
    "`alpha = 1.0`"
   ]
  },
  {
   "cell_type": "code",
   "execution_count": 38,
   "id": "e40c62cd",
   "metadata": {},
   "outputs": [],
   "source": [
    "# create the model object\n",
    "lars = LassoLars(alpha=1)\n",
    "\n",
    "# fit the model to our training data\n",
    "lars.fit(X_train, y_train)\n",
    "\n",
    "# predict validate\n",
    "X_val_pred_lars = lars.predict(X_val)\n",
    "\n",
    "# Add lassolars predictions to our predictions DataFrame\n",
    "predictions['lasso_lars'] = X_val_pred_lars"
   ]
  },
  {
   "cell_type": "code",
   "execution_count": 39,
   "id": "614c7027",
   "metadata": {},
   "outputs": [
    {
     "data": {
      "text/plain": [
       "YEAR        0.0\n",
       "SEX_FMLE    0.0\n",
       "SEX_BTSX    0.0\n",
       "dtype: float64"
      ]
     },
     "execution_count": 39,
     "metadata": {},
     "output_type": "execute_result"
    }
   ],
   "source": [
    "pd.Series(lars.coef_, index=X_train.columns).sort_values()"
   ]
  },
  {
   "cell_type": "code",
   "execution_count": 40,
   "id": "2277015b",
   "metadata": {},
   "outputs": [
    {
     "data": {
      "text/plain": [
       "41.187100240557555"
      ]
     },
     "execution_count": 40,
     "metadata": {},
     "output_type": "execute_result"
    }
   ],
   "source": [
    "lars.intercept_"
   ]
  },
  {
   "cell_type": "markdown",
   "id": "1ff8ebae",
   "metadata": {},
   "source": [
    "`alpha = 2`"
   ]
  },
  {
   "cell_type": "code",
   "execution_count": 41,
   "id": "1f7fff12",
   "metadata": {},
   "outputs": [],
   "source": [
    "# create the model object\n",
    "lars_high_alpha = LassoLars(alpha=2)\n",
    "\n",
    "# fit the model to our training data\n",
    "lars_high_alpha.fit(X_train, y_train)\n",
    "\n",
    "# predict validate\n",
    "X_val_pred_lars_high_alpha = lars.predict(X_val)"
   ]
  },
  {
   "cell_type": "code",
   "execution_count": 42,
   "id": "2e54f667",
   "metadata": {},
   "outputs": [
    {
     "data": {
      "text/plain": [
       "YEAR        0.0\n",
       "SEX_FMLE    0.0\n",
       "SEX_BTSX    0.0\n",
       "dtype: float64"
      ]
     },
     "execution_count": 42,
     "metadata": {},
     "output_type": "execute_result"
    }
   ],
   "source": [
    "pd.Series(lars_high_alpha.coef_, index=X_train.columns).sort_values()"
   ]
  },
  {
   "cell_type": "code",
   "execution_count": 43,
   "id": "5a579583",
   "metadata": {},
   "outputs": [
    {
     "data": {
      "text/plain": [
       "41.187100240557555"
      ]
     },
     "execution_count": 43,
     "metadata": {},
     "output_type": "execute_result"
    }
   ],
   "source": [
    "lars_high_alpha.intercept_"
   ]
  },
  {
   "cell_type": "code",
   "execution_count": 44,
   "id": "8d9d3d1d",
   "metadata": {},
   "outputs": [
    {
     "data": {
      "text/html": [
       "<div>\n",
       "<style scoped>\n",
       "    .dataframe tbody tr th:only-of-type {\n",
       "        vertical-align: middle;\n",
       "    }\n",
       "\n",
       "    .dataframe tbody tr th {\n",
       "        vertical-align: top;\n",
       "    }\n",
       "\n",
       "    .dataframe thead th {\n",
       "        text-align: right;\n",
       "    }\n",
       "</style>\n",
       "<table border=\"1\" class=\"dataframe\">\n",
       "  <thead>\n",
       "    <tr style=\"text-align: right;\">\n",
       "      <th></th>\n",
       "      <th>actual</th>\n",
       "      <th>simple_lm</th>\n",
       "      <th>multiple_rfe</th>\n",
       "      <th>polynomial degree 2</th>\n",
       "      <th>polynomial only interaction</th>\n",
       "      <th>lasso_lars</th>\n",
       "    </tr>\n",
       "  </thead>\n",
       "  <tbody>\n",
       "    <tr>\n",
       "      <th>0</th>\n",
       "      <td>44.264637</td>\n",
       "      <td>40.930571</td>\n",
       "      <td>42.808379</td>\n",
       "      <td>41.290096</td>\n",
       "      <td>41.303182</td>\n",
       "      <td>41.1871</td>\n",
       "    </tr>\n",
       "    <tr>\n",
       "      <th>1</th>\n",
       "      <td>42.609115</td>\n",
       "      <td>41.023107</td>\n",
       "      <td>39.598978</td>\n",
       "      <td>41.325406</td>\n",
       "      <td>41.345527</td>\n",
       "      <td>41.1871</td>\n",
       "    </tr>\n",
       "    <tr>\n",
       "      <th>2</th>\n",
       "      <td>49.878860</td>\n",
       "      <td>44.296996</td>\n",
       "      <td>42.808379</td>\n",
       "      <td>43.980035</td>\n",
       "      <td>44.001611</td>\n",
       "      <td>41.1871</td>\n",
       "    </tr>\n",
       "    <tr>\n",
       "      <th>3</th>\n",
       "      <td>41.265250</td>\n",
       "      <td>43.588275</td>\n",
       "      <td>42.808379</td>\n",
       "      <td>43.441534</td>\n",
       "      <td>43.433521</td>\n",
       "      <td>41.1871</td>\n",
       "    </tr>\n",
       "    <tr>\n",
       "      <th>4</th>\n",
       "      <td>35.610018</td>\n",
       "      <td>40.939312</td>\n",
       "      <td>41.238702</td>\n",
       "      <td>40.974954</td>\n",
       "      <td>40.951165</td>\n",
       "      <td>41.1871</td>\n",
       "    </tr>\n",
       "  </tbody>\n",
       "</table>\n",
       "</div>"
      ],
      "text/plain": [
       "      actual  simple_lm  multiple_rfe  polynomial degree 2  \\\n",
       "0  44.264637  40.930571     42.808379            41.290096   \n",
       "1  42.609115  41.023107     39.598978            41.325406   \n",
       "2  49.878860  44.296996     42.808379            43.980035   \n",
       "3  41.265250  43.588275     42.808379            43.441534   \n",
       "4  35.610018  40.939312     41.238702            40.974954   \n",
       "\n",
       "   polynomial only interaction  lasso_lars  \n",
       "0                    41.303182     41.1871  \n",
       "1                    41.345527     41.1871  \n",
       "2                    44.001611     41.1871  \n",
       "3                    43.433521     41.1871  \n",
       "4                    40.951165     41.1871  "
      ]
     },
     "execution_count": 44,
     "metadata": {},
     "output_type": "execute_result"
    }
   ],
   "source": [
    "predictions.head()"
   ]
  },
  {
   "cell_type": "markdown",
   "id": "bae16a9c",
   "metadata": {},
   "source": [
    "<div class=\"alert alert-warning\">\n",
    "\n",
    "\n",
    "\n",
    "## Generalized Linear Model (Tweedie)\n",
    "\n",
    "The most flexible regression algorithm, the GLM allows for different distributions, beyond just the Normal Distribution for OLS (and other models based on OLS, like LASSO). We will use the `TweedieRegressor` method to create a GLM using sklearn.\n",
    "\n",
    "> `sklearn.linear_model.TweedieRegressor(power=0, alpha=1.0)`\n",
    "\n",
    "* power = 0: Normal Distribution\n",
    "* power = 1: Poisson Distribution\n",
    "* power = (1,2): Compound Distribution\n",
    "* power = 2: Gamma Distribution\n",
    "* power = 3: Inverse Gaussian Distribution"
   ]
  },
  {
   "cell_type": "code",
   "execution_count": 45,
   "id": "a12ba914",
   "metadata": {},
   "outputs": [],
   "source": [
    "from sklearn.linear_model import TweedieRegressor\n",
    "\n",
    "# create the model object\n",
    "glm = TweedieRegressor(power=1, alpha=0)\n",
    "\n",
    "# fit the model to our training data\n",
    "glm.fit(X_train, y_train)\n",
    "\n",
    "# predict validate\n",
    "X_val_predict_glm = glm.predict(X_val)\n",
    "\n",
    "# Add general linear model predictions to our predictions DataFrame\n",
    "predictions['glm'] = X_val_predict_glm"
   ]
  },
  {
   "cell_type": "code",
   "execution_count": 46,
   "id": "e15ac011",
   "metadata": {},
   "outputs": [
    {
     "data": {
      "text/plain": [
       "YEAR        0.0\n",
       "SEX_FMLE    0.0\n",
       "SEX_BTSX    0.0\n",
       "dtype: float64"
      ]
     },
     "execution_count": 46,
     "metadata": {},
     "output_type": "execute_result"
    }
   ],
   "source": [
    "pd.Series(glm.coef_, index=X_train.columns).sort_values()"
   ]
  },
  {
   "cell_type": "code",
   "execution_count": 47,
   "id": "d76ae789",
   "metadata": {},
   "outputs": [
    {
     "data": {
      "text/plain": [
       "3.7181251063718017"
      ]
     },
     "execution_count": 47,
     "metadata": {},
     "output_type": "execute_result"
    }
   ],
   "source": [
    "glm.intercept_"
   ]
  },
  {
   "cell_type": "code",
   "execution_count": 48,
   "id": "e8a77996",
   "metadata": {},
   "outputs": [
    {
     "data": {
      "text/html": [
       "<div>\n",
       "<style scoped>\n",
       "    .dataframe tbody tr th:only-of-type {\n",
       "        vertical-align: middle;\n",
       "    }\n",
       "\n",
       "    .dataframe tbody tr th {\n",
       "        vertical-align: top;\n",
       "    }\n",
       "\n",
       "    .dataframe thead th {\n",
       "        text-align: right;\n",
       "    }\n",
       "</style>\n",
       "<table border=\"1\" class=\"dataframe\">\n",
       "  <thead>\n",
       "    <tr style=\"text-align: right;\">\n",
       "      <th></th>\n",
       "      <th>actual</th>\n",
       "      <th>simple_lm</th>\n",
       "      <th>multiple_rfe</th>\n",
       "      <th>polynomial degree 2</th>\n",
       "      <th>polynomial only interaction</th>\n",
       "      <th>lasso_lars</th>\n",
       "      <th>glm</th>\n",
       "    </tr>\n",
       "  </thead>\n",
       "  <tbody>\n",
       "    <tr>\n",
       "      <th>0</th>\n",
       "      <td>44.264637</td>\n",
       "      <td>40.930571</td>\n",
       "      <td>42.808379</td>\n",
       "      <td>41.290096</td>\n",
       "      <td>41.303182</td>\n",
       "      <td>41.1871</td>\n",
       "      <td>41.1871</td>\n",
       "    </tr>\n",
       "    <tr>\n",
       "      <th>1</th>\n",
       "      <td>42.609115</td>\n",
       "      <td>41.023107</td>\n",
       "      <td>39.598978</td>\n",
       "      <td>41.325406</td>\n",
       "      <td>41.345527</td>\n",
       "      <td>41.1871</td>\n",
       "      <td>41.1871</td>\n",
       "    </tr>\n",
       "    <tr>\n",
       "      <th>2</th>\n",
       "      <td>49.878860</td>\n",
       "      <td>44.296996</td>\n",
       "      <td>42.808379</td>\n",
       "      <td>43.980035</td>\n",
       "      <td>44.001611</td>\n",
       "      <td>41.1871</td>\n",
       "      <td>41.1871</td>\n",
       "    </tr>\n",
       "    <tr>\n",
       "      <th>3</th>\n",
       "      <td>41.265250</td>\n",
       "      <td>43.588275</td>\n",
       "      <td>42.808379</td>\n",
       "      <td>43.441534</td>\n",
       "      <td>43.433521</td>\n",
       "      <td>41.1871</td>\n",
       "      <td>41.1871</td>\n",
       "    </tr>\n",
       "    <tr>\n",
       "      <th>4</th>\n",
       "      <td>35.610018</td>\n",
       "      <td>40.939312</td>\n",
       "      <td>41.238702</td>\n",
       "      <td>40.974954</td>\n",
       "      <td>40.951165</td>\n",
       "      <td>41.1871</td>\n",
       "      <td>41.1871</td>\n",
       "    </tr>\n",
       "  </tbody>\n",
       "</table>\n",
       "</div>"
      ],
      "text/plain": [
       "      actual  simple_lm  multiple_rfe  polynomial degree 2  \\\n",
       "0  44.264637  40.930571     42.808379            41.290096   \n",
       "1  42.609115  41.023107     39.598978            41.325406   \n",
       "2  49.878860  44.296996     42.808379            43.980035   \n",
       "3  41.265250  43.588275     42.808379            43.441534   \n",
       "4  35.610018  40.939312     41.238702            40.974954   \n",
       "\n",
       "   polynomial only interaction  lasso_lars      glm  \n",
       "0                    41.303182     41.1871  41.1871  \n",
       "1                    41.345527     41.1871  41.1871  \n",
       "2                    44.001611     41.1871  41.1871  \n",
       "3                    43.433521     41.1871  41.1871  \n",
       "4                    40.951165     41.1871  41.1871  "
      ]
     },
     "execution_count": 48,
     "metadata": {},
     "output_type": "execute_result"
    }
   ],
   "source": [
    "predictions.head()"
   ]
  },
  {
   "cell_type": "markdown",
   "id": "bc83ac41",
   "metadata": {},
   "source": [
    "<div class=\"alert alert-danger\">\n",
    "\n",
    "\n",
    "\n",
    "### TL;DR\n",
    "\n",
    "First of all, it always helps to know the distribution of your target variable before modeling.\n",
    "\n",
    "> `plt.hist(y_train)` to see the shape of your target (`y`).\n",
    "\n",
    "Secondly, you could try them all...doesn't hurt usually.\n",
    "\n",
    "Third, if you have a good feel for your data:\n",
    "- For a normally distributed y and a linear relationship: OLS, LassoLars, GLM(power=0) will work best.\n",
    "- For polynomial relationships, polynomial regression is best.\n",
    "- For poisson, gamma or inverse gaussian distributions, use the Generalized Linear Model."
   ]
  },
  {
   "cell_type": "code",
   "execution_count": 49,
   "id": "d36be4ce",
   "metadata": {},
   "outputs": [
    {
     "data": {
      "text/plain": [
       "(array([  2.,   2.,  17.,  49., 116., 199., 243., 259., 189.,  36.]),\n",
       " array([18.1649    , 21.66903275, 25.1731655 , 28.67729825, 32.181431  ,\n",
       "        35.68556375, 39.1896965 , 42.69382925, 46.197962  , 49.70209475,\n",
       "        53.2062275 ]),\n",
       " <BarContainer object of 10 artists>)"
      ]
     },
     "execution_count": 49,
     "metadata": {},
     "output_type": "execute_result"
    },
    {
     "data": {
      "image/png": "[encoded data removed]",
      "text/plain": [
       "<Figure size 432x288 with 1 Axes>"
      ]
     },
     "metadata": {
      "needs_background": "light"
     },
     "output_type": "display_data"
    }
   ],
   "source": [
    "plt.hist(y_train)"
   ]
  },
  {
   "cell_type": "markdown",
   "id": "152a66b8",
   "metadata": {
    "slideshow": {
     "slide_type": "slide"
    }
   },
   "source": [
    "<div class=\"alert alert-success\">\n",
    "\n",
    "\n",
    "\n",
    "# Evaluation"
   ]
  },
  {
   "cell_type": "markdown",
   "id": "2dec8f5d",
   "metadata": {},
   "source": [
    "<div class=\"alert alert-warning\">\n",
    "\n",
    "\n",
    "## Baseline"
   ]
  },
  {
   "cell_type": "code",
   "execution_count": 50,
   "id": "a764a5b6",
   "metadata": {},
   "outputs": [],
   "source": [
    "# add a baseline model\n",
    "predictions['baseline'] = train.life_expectancy.mean()"
   ]
  },
  {
   "cell_type": "code",
   "execution_count": 51,
   "id": "fc6b333d",
   "metadata": {
    "scrolled": true
   },
   "outputs": [
    {
     "data": {
      "text/html": [
       "<div>\n",
       "<style scoped>\n",
       "    .dataframe tbody tr th:only-of-type {\n",
       "        vertical-align: middle;\n",
       "    }\n",
       "\n",
       "    .dataframe tbody tr th {\n",
       "        vertical-align: top;\n",
       "    }\n",
       "\n",
       "    .dataframe thead th {\n",
       "        text-align: right;\n",
       "    }\n",
       "</style>\n",
       "<table border=\"1\" class=\"dataframe\">\n",
       "  <thead>\n",
       "    <tr style=\"text-align: right;\">\n",
       "      <th></th>\n",
       "      <th>actual</th>\n",
       "      <th>simple_lm</th>\n",
       "      <th>multiple_rfe</th>\n",
       "      <th>polynomial degree 2</th>\n",
       "      <th>polynomial only interaction</th>\n",
       "      <th>lasso_lars</th>\n",
       "      <th>glm</th>\n",
       "      <th>baseline</th>\n",
       "    </tr>\n",
       "  </thead>\n",
       "  <tbody>\n",
       "    <tr>\n",
       "      <th>0</th>\n",
       "      <td>44.264637</td>\n",
       "      <td>40.930571</td>\n",
       "      <td>42.808379</td>\n",
       "      <td>41.290096</td>\n",
       "      <td>41.303182</td>\n",
       "      <td>41.1871</td>\n",
       "      <td>41.1871</td>\n",
       "      <td>41.1871</td>\n",
       "    </tr>\n",
       "    <tr>\n",
       "      <th>1</th>\n",
       "      <td>42.609115</td>\n",
       "      <td>41.023107</td>\n",
       "      <td>39.598978</td>\n",
       "      <td>41.325406</td>\n",
       "      <td>41.345527</td>\n",
       "      <td>41.1871</td>\n",
       "      <td>41.1871</td>\n",
       "      <td>41.1871</td>\n",
       "    </tr>\n",
       "    <tr>\n",
       "      <th>2</th>\n",
       "      <td>49.878860</td>\n",
       "      <td>44.296996</td>\n",
       "      <td>42.808379</td>\n",
       "      <td>43.980035</td>\n",
       "      <td>44.001611</td>\n",
       "      <td>41.1871</td>\n",
       "      <td>41.1871</td>\n",
       "      <td>41.1871</td>\n",
       "    </tr>\n",
       "    <tr>\n",
       "      <th>3</th>\n",
       "      <td>41.265250</td>\n",
       "      <td>43.588275</td>\n",
       "      <td>42.808379</td>\n",
       "      <td>43.441534</td>\n",
       "      <td>43.433521</td>\n",
       "      <td>41.1871</td>\n",
       "      <td>41.1871</td>\n",
       "      <td>41.1871</td>\n",
       "    </tr>\n",
       "    <tr>\n",
       "      <th>4</th>\n",
       "      <td>35.610018</td>\n",
       "      <td>40.939312</td>\n",
       "      <td>41.238702</td>\n",
       "      <td>40.974954</td>\n",
       "      <td>40.951165</td>\n",
       "      <td>41.1871</td>\n",
       "      <td>41.1871</td>\n",
       "      <td>41.1871</td>\n",
       "    </tr>\n",
       "  </tbody>\n",
       "</table>\n",
       "</div>"
      ],
      "text/plain": [
       "      actual  simple_lm  multiple_rfe  polynomial degree 2  \\\n",
       "0  44.264637  40.930571     42.808379            41.290096   \n",
       "1  42.609115  41.023107     39.598978            41.325406   \n",
       "2  49.878860  44.296996     42.808379            43.980035   \n",
       "3  41.265250  43.588275     42.808379            43.441534   \n",
       "4  35.610018  40.939312     41.238702            40.974954   \n",
       "\n",
       "   polynomial only interaction  lasso_lars      glm  baseline  \n",
       "0                    41.303182     41.1871  41.1871   41.1871  \n",
       "1                    41.345527     41.1871  41.1871   41.1871  \n",
       "2                    44.001611     41.1871  41.1871   41.1871  \n",
       "3                    43.433521     41.1871  41.1871   41.1871  \n",
       "4                    40.951165     41.1871  41.1871   41.1871  "
      ]
     },
     "execution_count": 51,
     "metadata": {},
     "output_type": "execute_result"
    }
   ],
   "source": [
    "predictions.head()"
   ]
  },
  {
   "cell_type": "markdown",
   "id": "8091d9b2",
   "metadata": {},
   "source": [
    "<div class=\"alert alert-warning\">\n",
    "\n",
    "\n",
    "## Calculate mean squared error for every column in the dataframe"
   ]
  },
  {
   "cell_type": "code",
   "execution_count": 52,
   "id": "851c4cc5",
   "metadata": {},
   "outputs": [
    {
     "data": {
      "text/plain": [
       "actual                          0.000000\n",
       "simple_lm                      27.561285\n",
       "polynomial only interaction    27.637088\n",
       "polynomial degree 2            27.637654\n",
       "multiple_rfe                   29.480014\n",
       "lasso_lars                     30.377263\n",
       "glm                            30.377263\n",
       "baseline                       30.377263\n",
       "dtype: float64"
      ]
     },
     "execution_count": 52,
     "metadata": {},
     "output_type": "execute_result"
    }
   ],
   "source": [
    "def calculate_mse(y_predicted):\n",
    "    return mean_squared_error(predictions.actual, y_predicted)\n",
    "\n",
    "predictions.apply(calculate_mse).sort_values()"
   ]
  },
  {
   "cell_type": "code",
   "execution_count": 53,
   "id": "70365336",
   "metadata": {},
   "outputs": [
    {
     "name": "stdout",
     "output_type": "stream",
     "text": [
      "RMSE using Mean\n",
      "Train/In-Sample:  5.54 \n",
      "Validate/Out-of-Sample:  5.51\n",
      "___________________________________________________________________________________\n",
      "RMSE using Median\n",
      "Train/In-Sample:  5.56 \n",
      "Validate/Out-of-Sample:  5.53\n"
     ]
    }
   ],
   "source": [
    "# We need y_train and y_validate to be dataframes to append the new columns with predicted values. \n",
    "y_train = pd.DataFrame(y_train)\n",
    "y_val = pd.DataFrame(y_val)\n",
    "\n",
    "# 1. Predict target_pred_mean\n",
    "target_pred_mean = y_train['life_expectancy'].mean()\n",
    "y_train['target_pred_mean'] = target_pred_mean\n",
    "y_val['target_pred_mean'] = target_pred_mean\n",
    "\n",
    "# 2. compute target_pred_median\n",
    "target_pred_median = y_train['life_expectancy'].median()\n",
    "y_train['target_pred_median'] = target_pred_median\n",
    "y_val['target_pred_median'] = target_pred_median\n",
    "\n",
    "# 3. RMSE of target_pred_mean\n",
    "rmse_train = mean_squared_error(y_train.life_expectancy, y_train.target_pred_mean)**(1/2)\n",
    "rmse_val = mean_squared_error(y_val.life_expectancy, y_val.target_pred_mean)**(1/2)\n",
    "\n",
    "print(\"RMSE using Mean\\nTrain/In-Sample: \", round(rmse_train, 2), \n",
    "      \"\\nValidate/Out-of-Sample: \", round(rmse_val, 2))\n",
    "\n",
    "# 4. RMSE of G3_pred_median\n",
    "rmse_train = mean_squared_error(y_train.life_expectancy, y_train.target_pred_median)**(1/2)\n",
    "rmse_val = mean_squared_error(y_val.life_expectancy, y_val.target_pred_median)**(1/2)\n",
    "\n",
    "print('___________________________________________________________________________________')\n",
    "print(\"RMSE using Median\\nTrain/In-Sample: \", round(rmse_train, 2), \n",
    "      \"\\nValidate/Out-of-Sample: \", round(rmse_val, 2))"
   ]
  },
  {
   "cell_type": "code",
   "execution_count": 54,
   "id": "033a56c3",
   "metadata": {},
   "outputs": [
    {
     "data": {
      "image/png": "[encoded data removed]",
      "text/plain": [
       "<Figure size 576x432 with 1 Axes>"
      ]
     },
     "metadata": {
      "needs_background": "light"
     },
     "output_type": "display_data"
    }
   ],
   "source": [
    "# plot to visualize actual vs predicted. \n",
    "plt.figure(figsize=(8, 6))\n",
    "plt.hist(y_train.life_expectancy, color='lightgrey', alpha=1, label=\"Actual Life Expectancy\")\n",
    "plt.hist(y_train.target_pred_mean, bins=1, color='red', alpha=1, rwidth=100, label=\"Predicted Life Expectancy (Mean)\")\n",
    "plt.hist(y_train.target_pred_median, bins=1, color='orange', alpha=1, rwidth=100, label=\"Predicted Life Expectancy (Median)\")\n",
    "plt.xlabel(\"Life Expectancy (target)\")\n",
    "plt.ylabel(\"Number of Observations\")\n",
    "plt.ylim(0,262)\n",
    "plt.legend(loc=2)\n",
    "plt.show()"
   ]
  },
  {
   "cell_type": "markdown",
   "id": "0f2b2bb4",
   "metadata": {
    "slideshow": {
     "slide_type": "slide"
    }
   },
   "source": [
    "<div class=\"alert alert-danger\">\n",
    "\n",
    "\n",
    "\n",
    "<B><center><font size='80'> Evaluate Best Model on ```Test``` </font></B></center> \n",
    "<B><center><font size='10'><i> $(Simple Linear Regression Model)$ ```simple_lm``` </i></font></B></center>\n",
    "\n",
    "Notice this gets a bit more complicated as we have to reproduce any transformations to the data we did when training. Polynomial transformations need to be applied to the test dataframe to evaluate the polynomial model. "
   ]
  },
  {
   "cell_type": "markdown",
   "id": "520e3e28",
   "metadata": {},
   "source": [
    "<div class=\"alert alert-warning\">\n",
    "\n",
    "## ```metric_TEST``` DataFrame:"
   ]
  },
  {
   "cell_type": "code",
   "execution_count": 55,
   "id": "71dd4968",
   "metadata": {
    "scrolled": true
   },
   "outputs": [
    {
     "data": {
      "text/html": [
       "<div>\n",
       "<style scoped>\n",
       "    .dataframe tbody tr th:only-of-type {\n",
       "        vertical-align: middle;\n",
       "    }\n",
       "\n",
       "    .dataframe tbody tr th {\n",
       "        vertical-align: top;\n",
       "    }\n",
       "\n",
       "    .dataframe thead th {\n",
       "        text-align: right;\n",
       "    }\n",
       "</style>\n",
       "<table border=\"1\" class=\"dataframe\">\n",
       "  <thead>\n",
       "    <tr style=\"text-align: right;\">\n",
       "      <th></th>\n",
       "      <th>actual</th>\n",
       "    </tr>\n",
       "  </thead>\n",
       "  <tbody>\n",
       "    <tr>\n",
       "      <th>0</th>\n",
       "      <td>43.866307</td>\n",
       "    </tr>\n",
       "    <tr>\n",
       "      <th>1</th>\n",
       "      <td>45.529760</td>\n",
       "    </tr>\n",
       "    <tr>\n",
       "      <th>2</th>\n",
       "      <td>42.682560</td>\n",
       "    </tr>\n",
       "    <tr>\n",
       "      <th>3</th>\n",
       "      <td>45.892068</td>\n",
       "    </tr>\n",
       "    <tr>\n",
       "      <th>4</th>\n",
       "      <td>45.733382</td>\n",
       "    </tr>\n",
       "  </tbody>\n",
       "</table>\n",
       "</div>"
      ],
      "text/plain": [
       "      actual\n",
       "0  43.866307\n",
       "1  45.529760\n",
       "2  42.682560\n",
       "3  45.892068\n",
       "4  45.733382"
      ]
     },
     "execution_count": 55,
     "metadata": {},
     "output_type": "execute_result"
    }
   ],
   "source": [
    "metric_TEST = pd.DataFrame({'actual': test.life_expectancy})\n",
    "metric_TEST.head()"
   ]
  },
  {
   "cell_type": "markdown",
   "id": "3b5faa37",
   "metadata": {},
   "source": [
    "<div class=\"alert alert-warning\">\n",
    "\n",
    "\n",
    "## Baseline"
   ]
  },
  {
   "cell_type": "code",
   "execution_count": 56,
   "id": "7354c5ec",
   "metadata": {},
   "outputs": [],
   "source": [
    "# add a baseline model\n",
    "metric_TEST['baseline'] = test.life_expectancy.mean()"
   ]
  },
  {
   "cell_type": "markdown",
   "id": "07a850a1",
   "metadata": {
    "slideshow": {
     "slide_type": "slide"
    }
   },
   "source": [
    "<div class=\"alert alert-warning\">\n",
    "\n",
    "\n",
    "\n",
    "## Simple Model\n",
    "\n",
    "$$ y = mx + b $$\n",
    "\n",
    "$$y = f(x)$$"
   ]
  },
  {
   "cell_type": "code",
   "execution_count": 57,
   "id": "e46c94d6",
   "metadata": {},
   "outputs": [],
   "source": [
    "from sklearn.linear_model import LinearRegression\n",
    "\n",
    "# 1. make the thing\n",
    "lm = LinearRegression()\n",
    "# 2. fit the thing\n",
    "lm.fit(X_train, y_train.life_expectancy)\n",
    "# 3. use the thing (make predictions)\n",
    "metric_TEST['simple_lm_TEST'] = lm.predict(X_test)\n",
    "\n",
    "# ValueError: Expected a 1D array, got an array with shape (442, 3)"
   ]
  },
  {
   "cell_type": "code",
   "execution_count": 58,
   "id": "d4be5fbd",
   "metadata": {},
   "outputs": [
    {
     "data": {
      "text/html": [
       "<div>\n",
       "<style scoped>\n",
       "    .dataframe tbody tr th:only-of-type {\n",
       "        vertical-align: middle;\n",
       "    }\n",
       "\n",
       "    .dataframe tbody tr th {\n",
       "        vertical-align: top;\n",
       "    }\n",
       "\n",
       "    .dataframe thead th {\n",
       "        text-align: right;\n",
       "    }\n",
       "</style>\n",
       "<table border=\"1\" class=\"dataframe\">\n",
       "  <thead>\n",
       "    <tr style=\"text-align: right;\">\n",
       "      <th></th>\n",
       "      <th>actual</th>\n",
       "      <th>baseline</th>\n",
       "      <th>simple_lm_TEST</th>\n",
       "    </tr>\n",
       "  </thead>\n",
       "  <tbody>\n",
       "    <tr>\n",
       "      <th>0</th>\n",
       "      <td>43.866307</td>\n",
       "      <td>41.683862</td>\n",
       "      <td>43.588275</td>\n",
       "    </tr>\n",
       "    <tr>\n",
       "      <th>1</th>\n",
       "      <td>45.529760</td>\n",
       "      <td>41.683862</td>\n",
       "      <td>39.428484</td>\n",
       "    </tr>\n",
       "    <tr>\n",
       "      <th>2</th>\n",
       "      <td>42.682560</td>\n",
       "      <td>41.683862</td>\n",
       "      <td>39.167510</td>\n",
       "    </tr>\n",
       "    <tr>\n",
       "      <th>3</th>\n",
       "      <td>45.892068</td>\n",
       "      <td>41.683862</td>\n",
       "      <td>43.588275</td>\n",
       "    </tr>\n",
       "    <tr>\n",
       "      <th>4</th>\n",
       "      <td>45.733382</td>\n",
       "      <td>41.683862</td>\n",
       "      <td>43.588275</td>\n",
       "    </tr>\n",
       "  </tbody>\n",
       "</table>\n",
       "</div>"
      ],
      "text/plain": [
       "      actual   baseline  simple_lm_TEST\n",
       "0  43.866307  41.683862       43.588275\n",
       "1  45.529760  41.683862       39.428484\n",
       "2  42.682560  41.683862       39.167510\n",
       "3  45.892068  41.683862       43.588275\n",
       "4  45.733382  41.683862       43.588275"
      ]
     },
     "execution_count": 58,
     "metadata": {},
     "output_type": "execute_result"
    }
   ],
   "source": [
    "metric_TEST.head()"
   ]
  },
  {
   "cell_type": "markdown",
   "id": "bf0fa65a",
   "metadata": {
    "slideshow": {
     "slide_type": "slide"
    }
   },
   "source": [
    "### Examine The Model\n",
    "\n",
    "- **coefficients**: define how our prediction changes as x changes. A one-unit increase in x causes our model to predict a `coef` unit change in y, holding all other independent variables constant\n",
    "- **intercept**: Value we predict if x is 0. Depending on our x variables, this may not be valuable\n"
   ]
  },
  {
   "cell_type": "code",
   "execution_count": 59,
   "id": "049ca665",
   "metadata": {},
   "outputs": [
    {
     "data": {
      "text/plain": [
       "(array([0.17718025, 3.273889  , 1.51082808]), -316.70382803644895)"
      ]
     },
     "execution_count": 59,
     "metadata": {},
     "output_type": "execute_result"
    }
   ],
   "source": [
    "# Coefficients & Intercept\n",
    "lm.coef_, lm.intercept_"
   ]
  },
  {
   "cell_type": "code",
   "execution_count": 60,
   "id": "3cea63b8",
   "metadata": {},
   "outputs": [
    {
     "name": "stdout",
     "output_type": "stream",
     "text": [
      "life_expectancy (y) = 0.177 * Selected Features (X) + -316.704\n"
     ]
    }
   ],
   "source": [
    "# Human Readable\n",
    "print('life_expectancy (y) = {:.3f} * Selected Features (X) + {:.3f}'.format(lm.coef_[0], lm.intercept_))"
   ]
  },
  {
   "cell_type": "code",
   "execution_count": 61,
   "id": "7e703bd3",
   "metadata": {},
   "outputs": [
    {
     "data": {
      "text/plain": [
       "(442, 3)"
      ]
     },
     "execution_count": 61,
     "metadata": {},
     "output_type": "execute_result"
    }
   ],
   "source": [
    "metric_TEST.shape"
   ]
  },
  {
   "cell_type": "code",
   "execution_count": 62,
   "id": "243b87f4",
   "metadata": {},
   "outputs": [
    {
     "data": {
      "text/plain": [
       "<matplotlib.legend.Legend at 0x1345535b0>"
      ]
     },
     "execution_count": 62,
     "metadata": {},
     "output_type": "execute_result"
    },
    {
     "data": {
      "image/png": "[encoded data removed]",
      "text/plain": [
       "<Figure size 1152x648 with 1 Axes>"
      ]
     },
     "metadata": {
      "needs_background": "light"
     },
     "output_type": "display_data"
    }
   ],
   "source": [
    "x_pred = np.linspace(1999, 2020, 442)\n",
    "y_pred = metric_TEST.simple_lm_TEST\n",
    "\n",
    "plt.figure(figsize=(16, 9))\n",
    "plt.scatter(X_test.YEAR, test.life_expectancy, label='actual')\n",
    "plt.scatter(X_test.YEAR, lm.predict(X_test[feature_cols]), label='simple_lm')\n",
    "plt.plot(x_pred, y_pred, ls='--', c='red', label='linear model prediction line')\n",
    "plt.hlines(0, -25, 100, ls=':', color='grey')\n",
    "plt.vlines(0, -10, 100, ls=':', color='grey')\n",
    "plt.xlim(1999, 2020)\n",
    "plt\n",
    "\n",
    "plt.xlabel('YEAR')\n",
    "plt.ylabel('Life Expectancy')\n",
    "plt.legend()"
   ]
  },
  {
   "cell_type": "markdown",
   "id": "c8c8ec28",
   "metadata": {
    "slideshow": {
     "slide_type": "slide"
    }
   },
   "source": [
    "### Model Interpretation"
   ]
  },
  {
   "cell_type": "code",
   "execution_count": 63,
   "id": "ba34b09d",
   "metadata": {},
   "outputs": [
    {
     "name": "stdout",
     "output_type": "stream",
     "text": [
      "For every 1 year increase in Life Expcetancy, we predict a 0.18 year increase across Observed Features\n"
     ]
    }
   ],
   "source": [
    "# life_expectancy (y) = 0.177 * Selected Features (X) + -316.704\n",
    "print(f'For every 1 year increase in Life Expcetancy, we predict a {lm.coef_[0]:.2f} year increase across Observed Features')"
   ]
  },
  {
   "cell_type": "code",
   "execution_count": 64,
   "id": "086d626a",
   "metadata": {
    "scrolled": true
   },
   "outputs": [
    {
     "data": {
      "text/html": [
       "<div>\n",
       "<style scoped>\n",
       "    .dataframe tbody tr th:only-of-type {\n",
       "        vertical-align: middle;\n",
       "    }\n",
       "\n",
       "    .dataframe tbody tr th {\n",
       "        vertical-align: top;\n",
       "    }\n",
       "\n",
       "    .dataframe thead th {\n",
       "        text-align: right;\n",
       "    }\n",
       "</style>\n",
       "<table border=\"1\" class=\"dataframe\">\n",
       "  <thead>\n",
       "    <tr style=\"text-align: right;\">\n",
       "      <th></th>\n",
       "      <th>actual</th>\n",
       "      <th>baseline</th>\n",
       "      <th>simple_lm_TEST</th>\n",
       "    </tr>\n",
       "  </thead>\n",
       "  <tbody>\n",
       "    <tr>\n",
       "      <th>0</th>\n",
       "      <td>43.866307</td>\n",
       "      <td>41.683862</td>\n",
       "      <td>43.588275</td>\n",
       "    </tr>\n",
       "    <tr>\n",
       "      <th>1</th>\n",
       "      <td>45.529760</td>\n",
       "      <td>41.683862</td>\n",
       "      <td>39.428484</td>\n",
       "    </tr>\n",
       "    <tr>\n",
       "      <th>2</th>\n",
       "      <td>42.682560</td>\n",
       "      <td>41.683862</td>\n",
       "      <td>39.167510</td>\n",
       "    </tr>\n",
       "    <tr>\n",
       "      <th>3</th>\n",
       "      <td>45.892068</td>\n",
       "      <td>41.683862</td>\n",
       "      <td>43.588275</td>\n",
       "    </tr>\n",
       "    <tr>\n",
       "      <th>4</th>\n",
       "      <td>45.733382</td>\n",
       "      <td>41.683862</td>\n",
       "      <td>43.588275</td>\n",
       "    </tr>\n",
       "    <tr>\n",
       "      <th>...</th>\n",
       "      <td>...</td>\n",
       "      <td>...</td>\n",
       "      <td>...</td>\n",
       "    </tr>\n",
       "    <tr>\n",
       "      <th>437</th>\n",
       "      <td>43.615333</td>\n",
       "      <td>41.683862</td>\n",
       "      <td>40.939312</td>\n",
       "    </tr>\n",
       "    <tr>\n",
       "      <th>438</th>\n",
       "      <td>35.012748</td>\n",
       "      <td>41.683862</td>\n",
       "      <td>39.167510</td>\n",
       "    </tr>\n",
       "    <tr>\n",
       "      <th>439</th>\n",
       "      <td>48.033218</td>\n",
       "      <td>41.683862</td>\n",
       "      <td>40.930571</td>\n",
       "    </tr>\n",
       "    <tr>\n",
       "      <th>440</th>\n",
       "      <td>44.545125</td>\n",
       "      <td>41.683862</td>\n",
       "      <td>37.656682</td>\n",
       "    </tr>\n",
       "    <tr>\n",
       "      <th>441</th>\n",
       "      <td>40.227457</td>\n",
       "      <td>41.683862</td>\n",
       "      <td>42.533935</td>\n",
       "    </tr>\n",
       "  </tbody>\n",
       "</table>\n",
       "<p>442 rows × 3 columns</p>\n",
       "</div>"
      ],
      "text/plain": [
       "        actual   baseline  simple_lm_TEST\n",
       "0    43.866307  41.683862       43.588275\n",
       "1    45.529760  41.683862       39.428484\n",
       "2    42.682560  41.683862       39.167510\n",
       "3    45.892068  41.683862       43.588275\n",
       "4    45.733382  41.683862       43.588275\n",
       "..         ...        ...             ...\n",
       "437  43.615333  41.683862       40.939312\n",
       "438  35.012748  41.683862       39.167510\n",
       "439  48.033218  41.683862       40.930571\n",
       "440  44.545125  41.683862       37.656682\n",
       "441  40.227457  41.683862       42.533935\n",
       "\n",
       "[442 rows x 3 columns]"
      ]
     },
     "execution_count": 64,
     "metadata": {},
     "output_type": "execute_result"
    }
   ],
   "source": [
    "metric_TEST"
   ]
  },
  {
   "cell_type": "markdown",
   "id": "a98b7d28",
   "metadata": {},
   "source": [
    "<div class=\"alert alert-warning\">\n",
    "\n",
    "\n",
    "## Calculate mean squared error for every column in the dataframe"
   ]
  },
  {
   "cell_type": "code",
   "execution_count": 65,
   "id": "e0979462",
   "metadata": {},
   "outputs": [
    {
     "data": {
      "text/plain": [
       "actual             0.000000\n",
       "simple_lm_TEST    24.127313\n",
       "baseline          27.778390\n",
       "dtype: float64"
      ]
     },
     "execution_count": 65,
     "metadata": {},
     "output_type": "execute_result"
    }
   ],
   "source": [
    "def calculate_mse(y_predicted):\n",
    "    return mean_squared_error(metric_TEST.actual, y_predicted)\n",
    "\n",
    "metric_TEST.apply(calculate_mse).sort_values()"
   ]
  },
  {
   "cell_type": "code",
   "execution_count": 66,
   "id": "34bfa0dc",
   "metadata": {},
   "outputs": [
    {
     "name": "stdout",
     "output_type": "stream",
     "text": [
      "RMSE using Mean\n",
      "Train/In-Sample:  5.57 \n",
      "Validate/Out-of-Sample:  5.53 \n",
      "TEST/Out-of-Sample:  5.27\n",
      "___________________________________________________________________________________\n",
      "RMSE using Median\n",
      "Train/In-Sample:  5.67 \n",
      "Validate/Out-of-Sample:  5.64 \n",
      "TEST/Out-of-Sample:  5.31\n"
     ]
    }
   ],
   "source": [
    "# We need y_train and y_validate to be dataframes to append the new columns with predicted values. \n",
    "y_train = pd.DataFrame(y_train)\n",
    "y_val = pd.DataFrame(y_val)\n",
    "y_test = pd.DataFrame(y_test)\n",
    "\n",
    "# 1. Predict target_pred_mean\n",
    "target_pred_mean = y_test['life_expectancy'].mean()\n",
    "y_train['target_pred_mean'] = target_pred_mean\n",
    "y_val['target_pred_mean'] = target_pred_mean\n",
    "y_test['target_pred_mean'] = target_pred_mean\n",
    "\n",
    "\n",
    "# 2. compute target_pred_median\n",
    "target_pred_median = y_test['life_expectancy'].median()\n",
    "y_train['target_pred_median'] = target_pred_median\n",
    "y_val['target_pred_median'] = target_pred_median\n",
    "y_test['target_pred_median'] = target_pred_median\n",
    "\n",
    "# 3. RMSE of target_pred_mean\n",
    "rmse_train = mean_squared_error(y_train.life_expectancy, y_train.target_pred_mean)**(1/2)\n",
    "rmse_val = mean_squared_error(y_val.life_expectancy, y_val.target_pred_mean)**(1/2)\n",
    "rmse_test = mean_squared_error(y_test.life_expectancy, y_test.target_pred_mean)**(1/2)\n",
    "\n",
    "print(\"RMSE using Mean\\nTrain/In-Sample: \", round(rmse_train, 2),\n",
    "      \"\\nValidate/Out-of-Sample: \", round(rmse_val, 2),\n",
    "      \"\\nTEST/Out-of-Sample: \", round(rmse_test, 2))\n",
    "\n",
    "# 4. RMSE of G3_pred_median\n",
    "rmse_train = mean_squared_error(y_train.life_expectancy, y_train.target_pred_median)**(1/2)\n",
    "rmse_val = mean_squared_error(y_val.life_expectancy, y_val.target_pred_median)**(1/2)\n",
    "rmse_test = mean_squared_error(y_test.life_expectancy, y_test.target_pred_median)**(1/2)\n",
    "\n",
    "print('___________________________________________________________________________________')\n",
    "print(\"RMSE using Median\\nTrain/In-Sample: \", round(rmse_train, 2), \n",
    "      \"\\nValidate/Out-of-Sample: \", round(rmse_val, 2),\n",
    "      \"\\nTEST/Out-of-Sample: \", round(rmse_test, 2))"
   ]
  },
  {
   "cell_type": "code",
   "execution_count": 67,
   "id": "07298228",
   "metadata": {},
   "outputs": [
    {
     "data": {
      "image/png": "[encoded data removed]",
      "text/plain": [
       "<Figure size 576x432 with 1 Axes>"
      ]
     },
     "metadata": {
      "needs_background": "light"
     },
     "output_type": "display_data"
    }
   ],
   "source": [
    "# plot to visualize actual vs predicted. \n",
    "plt.figure(figsize=(8, 6))\n",
    "plt.hist(y_test.life_expectancy, color='lightgrey', alpha=1, label=\"Actual Life Expectancy\")\n",
    "plt.hist(y_test.target_pred_mean, bins=1, color='red', alpha=1, rwidth=100, label=\"Predicted Life Expectancy (Mean)\")\n",
    "plt.hist(y_test.target_pred_median, bins=1, color='orange', alpha=1, rwidth=100, label=\"Predicted Life Expectancy (Median)\")\n",
    "plt.xlabel(\"Life Expectancy (target)\")\n",
    "plt.ylabel(\"Number of Observations\")\n",
    "plt.ylim(0,92)\n",
    "plt.legend(loc=2)\n",
    "plt.show()"
   ]
  },
  {
   "cell_type": "markdown",
   "id": "7857ea89",
   "metadata": {},
   "source": [
    "<div class=\"alert alert-danger\">\n",
    "\n",
    "\n",
    "\n",
    "<B><font size='80'><center>STOP HERE</center></font></b>\n",
    "<center>Project Complete... now go make a pretty presentation!</center>\n"
   ]
  },
  {
   "cell_type": "code",
   "execution_count": null,
   "id": "fdbcf1a3",
   "metadata": {},
   "outputs": [],
   "source": []
  }
 ],
 "metadata": {
  "kernelspec": {
   "display_name": "Python 3 (ipykernel)",
   "language": "python",
   "name": "python3"
  },
  "language_info": {
   "codemirror_mode": {
    "name": "ipython",
    "version": 3
   },
   "file_extension": ".py",
   "mimetype": "text/x-python",
   "name": "python",
   "nbconvert_exporter": "python",
   "pygments_lexer": "ipython3",
   "version": "3.9.12"
  }
 },
 "nbformat": 4,
 "nbformat_minor": 5
}
