{
 "cells": [
  {
   "attachments": {
    "Codeup.png": {
     "image/png": "[encoded data removed]"
    }
   },
   "cell_type": "markdown",
   "id": "16448ae2",
   "metadata": {},
   "source": [
    "![Codeup.png](attachment:Codeup.png)"
   ]
  },
  {
   "cell_type": "markdown",
   "id": "af3bf8d9",
   "metadata": {},
   "source": [
    "# <h><i><u><font size=\"20\">Project-4 TITLE</font></u></i></h>"
   ]
  },
  {
   "cell_type": "markdown",
   "id": "f137d882",
   "metadata": {},
   "source": [
    "# Project Overview:\n",
    "This is an individual project to demonstrate my ability to source and acquire data independently outside the classroom environment. This individual project is an opportunity for me to showcase my ability to plan and execute a project that follows the full Data Science pipeline from start to finish with a presentable deliverable that has meaning and value in its content. I have chosen to use data from the [World Health Organization (WHO)](https://www.who.int/) because it is trustworthy and contains global input that spans many years.\n",
    "\n",
    "# Goals: \n",
    "* Predict property tax assessed values of Single Family Properties\n",
    "* Outperform existing logerror model\n",
    "* Recommend improvements for a more accurate model\n",
    "* Define relevant fips codes for our data\n",
    "\n",
    "# Reproduction of this Data:\n",
    "* Can be accomplished using a local ```env.py``` containing ```user, password, host``` information for access to the Codeup SQL database server.\n",
    "* All other step by step instructions can be found by reading the below Jupyter Notebook files located in my [proj-2_zillow](https://github.com/QMCBT-JustinEvans/project-2_zillow.git) github repository.\n",
    "    * 01_wrangle\n",
    "    * 02_explore\n",
    "    * 03_model\n",
    "* Data for this project was acquired from the [World Health Organization (WHO)](https://www.who.int/) using the the [Global Health Obsevatory (GHO)](https://www.who.int/data/gho) data webservice, [Athena](https://www.who.int/data/gho/info/athena-api-examples).\n",
    "    * World Health Organization (WHO) - [https://www.who.int/](https://www.who.int/)\n",
    "    * Global Health Obsevatory (GHO) - [https://www.who.int/data/gho](https://www.who.int/data/gho)\n",
    "    * Athena data webservice - [https://www.who.int/data/gho/info/athena-api-examples](https://www.who.int/data/gho/info/athena-api-examples)"
   ]
  },
  {
   "cell_type": "markdown",
   "id": "e4424d9f",
   "metadata": {},
   "source": [
    "# Imports\n",
    "* These are the imports required to run this notebook"
   ]
  },
  {
   "cell_type": "code",
   "execution_count": 6,
   "id": "fa4a8943",
   "metadata": {},
   "outputs": [
    {
     "name": "stdout",
     "output_type": "stream",
     "text": [
      "**CUSTOM EXPLORATION FUNCTIONS\n",
      "nunique_column_all(df): PRINT NUNIQUE OF ALL COLUMNS\n",
      "nunique_column_objects(df): PRINT NUNIQUE OF COLUMNS THAT ARE OBJECTS\n",
      "nunique_column_qty(df): PRINT NUNIQUE OF COLUMNS THAT ARE *NOT* OBJECTS\n",
      "numeric_range(df): COMPUTE RANGE FOR ALL NUMERIC VARIABLES\n",
      "\n",
      "**USEFUL EXPLORATORY CODE**\n",
      "DFNAME.head()\n",
      "DFNAME.shape\n",
      "DFNAME.shape[0] #read row count\n",
      "DFNAME.describe().T\n",
      "DFNAME.columns.to_list()\n",
      "DFNAME.COLUMNNAME.value_counts(dropna=False)\n",
      "DFNAME.dtypes\n",
      "DFNAME.select_dtypes(include='object').columns\n",
      "DFNAME.select_dtypes(include='float').columns\n",
      "pd.crosstab(DFNAME.COLUMN-1, DFNAME.COLUMN-2)\n"
     ]
    }
   ],
   "source": [
    "import numpy as np\n",
    "import pandas as pd\n",
    "import seaborn as sns\n",
    "\n",
    "import matplotlib.pyplot as plt\n",
    "# Only works inside notebook\n",
    "%matplotlib inline \n",
    "#import matplotlib as mpl\n",
    "#mpl.rcParams['agg.path.chunksize'] = 10000 # assists with processor speed\n",
    "\n",
    "# import preprocessing\n",
    "from sklearn.preprocessing import MinMaxScaler \n",
    "from sklearn.preprocessing import StandardScaler\n",
    "from sklearn.preprocessing import RobustScaler\n",
    "from sklearn.preprocessing import QuantileTransformer\n",
    "\n",
    "from sklearn.neighbors import KNeighborsClassifier\n",
    "\n",
    "# import helper files from local environment\n",
    "from env import user, password, host\n",
    "import QMCBT_00_quicktips as qt\n",
    "import QMCBT_01_acquire as acquire\n",
    "import QMCBT_02_prepare as prepare\n",
    "import QMCBT_03_explore as explore\n",
    "import QMCBT_04_model as model\n",
    "import QMCBT_05_evaluate as evaluate\n",
    "import QMCBT_explore_evaluate as ee\n",
    "import QMCBT_wrangle as w\n",
    "\n",
    "# allows import reload without needing to clear kernel and rerun\n",
    "from importlib import reload\n",
    "# reload(packagename) \n",
    "\n",
    "import warnings\n",
    "warnings.filterwarnings(\"ignore\")"
   ]
  },
  {
   "cell_type": "code",
   "execution_count": 7,
   "id": "c946e26e",
   "metadata": {},
   "outputs": [
    {
     "data": {
      "text/html": [
       "<style>table {align:left;display:block}</style>"
      ],
      "text/plain": [
       "<IPython.core.display.HTML object>"
      ]
     },
     "execution_count": 7,
     "metadata": {},
     "output_type": "execute_result"
    }
   ],
   "source": [
    "# Left Align Tables in Jupyter Notebook\n",
    "from IPython.core.display import HTML\n",
    "table_css = 'table {align:left;display:block}'\n",
    "HTML('<style>{}</style>'.format(table_css))"
   ]
  },
  {
   "cell_type": "markdown",
   "id": "39e419dc",
   "metadata": {},
   "source": [
    "<div class=\"alert alert-success\">\n",
    "\n",
    "# Acquire\n",
    "* Write the code to go get your data"
   ]
  },
  {
   "cell_type": "markdown",
   "id": "7a11c3ad",
   "metadata": {},
   "source": [
    "<div class=\"alert alert-success\">\n",
    "\n",
    "# Explore\n",
    "* Explore the data to get to know the elements and stats\n",
    "* Create your Data Dictionary in this phase\n",
    "* Identify your Prepare To-Do list in this phase\n",
    "* Visualize your data in this phase"
   ]
  },
  {
   "cell_type": "markdown",
   "id": "f5380572",
   "metadata": {},
   "source": [
    "<div class=\"alert alert-success\">\n",
    "\n",
    "# Prepare\n",
    "* Write the code to fix and clean the data"
   ]
  },
  {
   "cell_type": "markdown",
   "id": "449db187",
   "metadata": {},
   "source": [
    "<div class=\"alert alert-info\">\n",
    "\n",
    "## Prepare Actions:\n",
    "* **WHITESPACE:** Removed 52,441 Whitespace characters.\n",
    "* **REFORMAT:** Reformatted 13 columns containing 596,382 NaN entries to 0.\n",
    "* **CONVERT dtypes:** Convert dtypes to accurately reflect data contained within Feature.\n",
    "* **FEATURE ENGINEER:** Use Yearbuilt to create Age Feature, Drop yearbuilt for redundancy; create Feature to show ratio of Bathrooms to Bedrooms.\n",
    "* **GHO CODE CONVERSION:** Use fips master list to convert fips to county and state, Drop state for redundancy.\n",
    "* **PIVOT:** Pivot the resulting county column from fips conversion to 3 catagorical features. \n",
    "* **DROP:** Dropped 27 Columns unecessary to data prediction (ie.. index and redundant features).\n",
    "* **REPLACE:** Replaced conditional values in 2 columns to transform into categorical features.\n",
    "* **RENAME:** Columns for Human readability.    \n",
    "* **REORDER:** Rearange order of columns for human readability.   \n",
    "* **DROP 2:** Drop Location Reference Columns unsuitable for use with ML without categorical translation.\n",
    "* **CACHE:** Write cleaned DataFrame into a new csv file ('zillow_2017_cleaned.csv').  \n",
    "* **ENCODE.map:** No encoding required.\n",
    "* **MELT:** No melts needed.\n",
    "\n",
    "* **IMPUTE:**\n",
    "* **DROP encoded.map columns:**\n",
    "* **DROP pivot columns:**\n",
    "* **RENAME encoded.map columns to remove \"_encoded\":**"
   ]
  },
  {
   "cell_type": "markdown",
   "id": "8310d46b",
   "metadata": {},
   "source": [
    "<div class=\"alert alert-success\">\n",
    "\n",
    "# Data Dictionary\n",
    "\n",
    "| Feature | Definition |dtype|\n",
    "|:--------|:-----------|:----|\n",
    "|         |            |     |\n",
    "|         |            |     |\n",
    "|         |            |     |\n",
    "|         |            |     |\n",
    "|         |            |     |\n",
    "|         |            |     |\n",
    "|         |            |     |"
   ]
  },
  {
   "cell_type": "markdown",
   "id": "c0ab8382",
   "metadata": {},
   "source": [
    "<div class=\"alert alert-success\">\n",
    "\n",
    "# Data Dictionary\n",
    "* Documentation is hyperlinked\n",
    "\n",
    "|[GHO Code](https://apps.who.int/gho/athena/api/GHO)      |[Documentation](https://www.who.int/data/gho/indicator-metadata-registry)|[Global Health Observatory](https://www.who.int/data/gho) (GHO) Code Description|\n",
    "|:-------------|:-----------:|:------------------------------------------------|\n",
    "|WHOSIS_000001|[📖](https://www.who.int/data/gho/indicator-metadata-registry/imr-details/65)|Life expectancy at birth (years)| \n",
    "|WHOSIS_000002|[📖](https://www.who.int/data/gho/indicator-metadata-registry/imr-details/66)|Healthy life expectancy (HALE) at birth (years)| \n",
    "|WHOSIS_000003|[📖](https://www.who.int/data/gho/indicator-metadata-registry/imr-details/67)|Neonatal mortality rate (0 to 27 days) per 1000 live births)|\n",
    "|WHOSIS_000004|[📖](https://www.who.int/data/gho/indicator-metadata-registry/imr-details/64)|Adult mortality rate (probability of dying between 15 and 60 years per 1000 population)|\n",
    "|WHOSIS_000006|[📖](https://www.who.int/data/gho/indicator-metadata-registry/imr-details/130)|Infants exclusively breastfed for the first six months of life (%)| \n",
    "|WHOSIS_000007|[📖](https://www.who.int/data/gho/indicator-metadata-registry/imr-details/3443)|Healthy life expectancy (HALE) at age 60 (years)| \n",
    "|WHOSIS_000014|[📖](https://www.who.int/data/gho/indicator-metadata-registry/imr-details/2444)|Stillbirth rate (per 1000 total births)| \n",
    "|WHOSIS_000015|[📖](https://www.who.int/data/gho/indicator-metadata-registry/imr-details/2977)|Life expectancy at age 60 (years)| \n",
    "|WHOSIS_000016|[📖](https://www.who.int/data/gho/indicator-metadata-registry/imr-details/5669)|Mortality rate among children ages 5 to 9 years (per 1000 children aged 5)| \n",
    "|MDG_0000000001|[📖](https://www.who.int/data/gho/indicator-metadata-registry/imr-details/1)|Infant mortality rate (between birth and 11 months per 1000 live births)| \n",
    "|MDG_0000000003|[📖](https://www.who.int/data/gho/indicator-metadata-registry/imr-details/4669)|Adolescent birth rate (per 1000 women)| \n",
    "|MDG_0000000005|[📖](https://www.who.int/data/gho/indicator-metadata-registry/imr-details/5)|Contraceptive prevalence (%)| \n",
    "|MDG_0000000007|[📖](https://www.who.int/data/gho/indicator-metadata-registry/imr-details/7)|Under-five mortality rate (per 1000 live births)| \n",
    "|MDG_0000000025|[📖](https://www.who.int/data/gho/indicator-metadata-registry/imr-details/25)|Births attended by skilled health personnel (%)| \n",
    "|MDG_0000000026|[📖](https://www.who.int/data/gho/indicator-metadata-registry/imr-details/26)|Maternal mortality ratio (per 100 000 live births)| "
   ]
  },
  {
   "cell_type": "markdown",
   "id": "90cc53b8",
   "metadata": {},
   "source": [
    "<div class=\"alert alert-warning\">\n",
    "\n",
    "# Split"
   ]
  },
  {
   "cell_type": "markdown",
   "id": "9bb16be8",
   "metadata": {},
   "source": [
    "<div class=\"alert alert-warning\">\n",
    "\n",
    "# Scale"
   ]
  },
  {
   "cell_type": "markdown",
   "id": "efe11d81",
   "metadata": {},
   "source": [
    "<div class=\"alert alert-warning\">\n",
    "\n",
    "# Xy Split"
   ]
  },
  {
   "cell_type": "markdown",
   "id": "c2a2e777",
   "metadata": {},
   "source": [
    "## A brief look at the data:"
   ]
  },
  {
   "cell_type": "markdown",
   "id": "55acf3a7",
   "metadata": {},
   "source": [
    "<div class=\"alert alert-info\">\n",
    "\n",
    "## Summary of the data:"
   ]
  },
  {
   "cell_type": "markdown",
   "id": "eb4822b7",
   "metadata": {},
   "source": [
    "<div class=\"alert alert-success\">\n",
    "\n",
    "# Analyze:\n",
    "* Research the relationships in your data\n",
    "* Ask Questions\n",
    "* Form Hypothesis\n",
    "* Visualize Data\n",
    "* State Assumptions and Beliefs\n",
    "* Perform Statistical Tests\n",
    "* Report Findings and Observations"
   ]
  },
  {
   "cell_type": "markdown",
   "id": "c2fc092d",
   "metadata": {},
   "source": [
    "<div class=\"alert alert-info\">\n",
    "\n",
    "## Summary of Findings:\n",
    "* Features to be used\n",
    "* Features that will not be used"
   ]
  },
  {
   "cell_type": "markdown",
   "id": "29b1611b",
   "metadata": {},
   "source": [
    "<div class=\"alert alert-success\">\n",
    "\n",
    "# Modeling\n",
    "* Choose the models that will best fit\n",
    "* Run many different models\n",
    "* Keep a Predictions DataFrame with the results"
   ]
  },
  {
   "cell_type": "markdown",
   "id": "a511eeee",
   "metadata": {},
   "source": [
    "<div class=\"alert alert-warning\">\n",
    "\n",
    "## Comparing Models:\n",
    "* Establish Baseline\n",
    "* Run proper evaluation tests on prediction results to get RMSE, SSE, etc for Comparison"
   ]
  },
  {
   "cell_type": "markdown",
   "id": "6cee7b4b",
   "metadata": {},
   "source": [
    "<div class=\"alert alert-info\">\n",
    "\n",
    "## Modeling Summary:"
   ]
  },
  {
   "cell_type": "markdown",
   "id": "ad5bd1a3",
   "metadata": {},
   "source": [
    "<div class=\"alert alert-success\">\n",
    "\n",
    "# Evaluate on Test: Best Model (```NAME OF MODEL```)"
   ]
  },
  {
   "cell_type": "markdown",
   "id": "bda25b3b",
   "metadata": {},
   "source": [
    "<div class=\"alert alert-info\">\n",
    "\n",
    "# Conclusions: \n",
    "* **Exploration:**\n",
    "* **Modeling:**\n",
    "* **Recommendations:**\n",
    "* **Next Steps:**"
   ]
  },
  {
   "cell_type": "code",
   "execution_count": null,
   "id": "06373a33",
   "metadata": {},
   "outputs": [],
   "source": []
  }
 ],
 "metadata": {
  "kernelspec": {
   "display_name": "Python 3 (ipykernel)",
   "language": "python",
   "name": "python3"
  },
  "language_info": {
   "codemirror_mode": {
    "name": "ipython",
    "version": 3
   },
   "file_extension": ".py",
   "mimetype": "text/x-python",
   "name": "python",
   "nbconvert_exporter": "python",
   "pygments_lexer": "ipython3",
   "version": "3.9.12"
  }
 },
 "nbformat": 4,
 "nbformat_minor": 5
}
