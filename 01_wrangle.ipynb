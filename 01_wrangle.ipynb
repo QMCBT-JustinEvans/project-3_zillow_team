{
 "cells": [
  {
   "cell_type": "markdown",
   "id": "6588ea10",
   "metadata": {},
   "source": [
    "# Imports"
   ]
  },
  {
   "cell_type": "code",
   "execution_count": 1,
   "id": "aa177f8f",
   "metadata": {},
   "outputs": [],
   "source": [
    "import requests\n",
    "import numpy as np\n",
    "import pandas as pd\n",
    "import seaborn as sns\n",
    "import pandas as pd\n",
    "from xml.etree import ElementTree\n",
    "import matplotlib.pyplot as plt\n",
    "%matplotlib inline\n",
    "\n",
    "# import preprocessing\n",
    "from sklearn.preprocessing import MinMaxScaler \n",
    "from sklearn.preprocessing import StandardScaler\n",
    "from sklearn.preprocessing import RobustScaler\n",
    "from sklearn.preprocessing import QuantileTransformer\n",
    "\n",
    "from sklearn.neighbors import KNeighborsClassifier\n",
    "\n",
    "import warnings\n",
    "warnings.filterwarnings(\"ignore\")"
   ]
  },
  {
   "cell_type": "code",
   "execution_count": 2,
   "id": "8a87a15c",
   "metadata": {},
   "outputs": [
    {
     "data": {
      "text/html": [
       "<style>table {align:left;display:block}</style>"
      ],
      "text/plain": [
       "<IPython.core.display.HTML object>"
      ]
     },
     "execution_count": 2,
     "metadata": {},
     "output_type": "execute_result"
    }
   ],
   "source": [
    "# Left Align Tables in Jupyter Notebook\n",
    "from IPython.core.display import HTML\n",
    "table_css = 'table {align:left;display:block}'\n",
    "HTML('<style>{}</style>'.format(table_css))"
   ]
  },
  {
   "cell_type": "markdown",
   "id": "de0ee874",
   "metadata": {},
   "source": [
    "# ACQUIRE:"
   ]
  },
  {
   "cell_type": "markdown",
   "id": "4f2a3117",
   "metadata": {},
   "source": [
    "<div class=\"alert alert-success\">\n",
    "\n",
    "# Life Expectancy & Mortality across the Globe\n",
    "* **GHO Selections:** https://apps.who.int/gho/athena/api/GHO\n",
    "* **Homepage:** https://www.who.int/data/gho/info/athena-api-examples\n",
    "* **CSV Data Pull:** https://apps.who.int/gho/athena/api/GHO/WHOSIS_000001,WHOSIS_000002,WHOSIS_000007,WHOSIS_000015?format=csv\n",
    "    \n",
    "<div class=\"alert alert-danger\">\n",
    "\n",
    "### Due to latency and timeout issues, the ```CSV Data Pull``` weblink above must be used to pull the CSV directly and save to a local file. Multiple refresh attempts may be required before getting the save file prompt."
   ]
  },
  {
   "cell_type": "code",
   "execution_count": 3,
   "id": "ba9e40ee",
   "metadata": {
    "scrolled": false
   },
   "outputs": [],
   "source": [
    "# Read in csv from local file as leam_df (Life Expectancy And Mortality DataFrame)\n",
    "leam_df = pd.read_csv('leam.csv')"
   ]
  },
  {
   "cell_type": "code",
   "execution_count": 4,
   "id": "fe0ba439",
   "metadata": {
    "scrolled": false
   },
   "outputs": [
    {
     "data": {
      "text/html": [
       "<div>\n",
       "<style scoped>\n",
       "    .dataframe tbody tr th:only-of-type {\n",
       "        vertical-align: middle;\n",
       "    }\n",
       "\n",
       "    .dataframe tbody tr th {\n",
       "        vertical-align: top;\n",
       "    }\n",
       "\n",
       "    .dataframe thead th {\n",
       "        text-align: right;\n",
       "    }\n",
       "</style>\n",
       "<table border=\"1\" class=\"dataframe\">\n",
       "  <thead>\n",
       "    <tr style=\"text-align: right;\">\n",
       "      <th></th>\n",
       "      <th>GHO</th>\n",
       "      <th>PUBLISHSTATE</th>\n",
       "      <th>YEAR</th>\n",
       "      <th>REGION</th>\n",
       "      <th>WORLDBANKINCOMEGROUP</th>\n",
       "      <th>COUNTRY</th>\n",
       "      <th>SEX</th>\n",
       "      <th>Display Value</th>\n",
       "      <th>Numeric</th>\n",
       "      <th>Low</th>\n",
       "      <th>High</th>\n",
       "      <th>StdErr</th>\n",
       "      <th>StdDev</th>\n",
       "      <th>Comments</th>\n",
       "    </tr>\n",
       "  </thead>\n",
       "  <tbody>\n",
       "    <tr>\n",
       "      <th>0</th>\n",
       "      <td>WHOSIS_000002</td>\n",
       "      <td>PUBLISHED</td>\n",
       "      <td>2010</td>\n",
       "      <td>EMR</td>\n",
       "      <td>NaN</td>\n",
       "      <td>AFG</td>\n",
       "      <td>MLE</td>\n",
       "      <td>51.5</td>\n",
       "      <td>51.50902</td>\n",
       "      <td>NaN</td>\n",
       "      <td>NaN</td>\n",
       "      <td>NaN</td>\n",
       "      <td>NaN</td>\n",
       "      <td>NaN</td>\n",
       "    </tr>\n",
       "    <tr>\n",
       "      <th>1</th>\n",
       "      <td>WHOSIS_000015</td>\n",
       "      <td>PUBLISHED</td>\n",
       "      <td>2010</td>\n",
       "      <td>EMR</td>\n",
       "      <td>NaN</td>\n",
       "      <td>AFG</td>\n",
       "      <td>MLE</td>\n",
       "      <td>15.1</td>\n",
       "      <td>15.07067</td>\n",
       "      <td>NaN</td>\n",
       "      <td>NaN</td>\n",
       "      <td>NaN</td>\n",
       "      <td>NaN</td>\n",
       "      <td>NaN</td>\n",
       "    </tr>\n",
       "    <tr>\n",
       "      <th>2</th>\n",
       "      <td>WHOSIS_000007</td>\n",
       "      <td>PUBLISHED</td>\n",
       "      <td>2010</td>\n",
       "      <td>EMR</td>\n",
       "      <td>NaN</td>\n",
       "      <td>AFG</td>\n",
       "      <td>MLE</td>\n",
       "      <td>11.1</td>\n",
       "      <td>11.13451</td>\n",
       "      <td>NaN</td>\n",
       "      <td>NaN</td>\n",
       "      <td>NaN</td>\n",
       "      <td>NaN</td>\n",
       "      <td>NaN</td>\n",
       "    </tr>\n",
       "    <tr>\n",
       "      <th>3</th>\n",
       "      <td>WHOSIS_000001</td>\n",
       "      <td>PUBLISHED</td>\n",
       "      <td>2015</td>\n",
       "      <td>EMR</td>\n",
       "      <td>NaN</td>\n",
       "      <td>AFG</td>\n",
       "      <td>MLE</td>\n",
       "      <td>61.0</td>\n",
       "      <td>61.03658</td>\n",
       "      <td>NaN</td>\n",
       "      <td>NaN</td>\n",
       "      <td>NaN</td>\n",
       "      <td>NaN</td>\n",
       "      <td>NaN</td>\n",
       "    </tr>\n",
       "    <tr>\n",
       "      <th>4</th>\n",
       "      <td>WHOSIS_000015</td>\n",
       "      <td>PUBLISHED</td>\n",
       "      <td>2010</td>\n",
       "      <td>EMR</td>\n",
       "      <td>NaN</td>\n",
       "      <td>AFG</td>\n",
       "      <td>FMLE</td>\n",
       "      <td>15.2</td>\n",
       "      <td>15.16855</td>\n",
       "      <td>NaN</td>\n",
       "      <td>NaN</td>\n",
       "      <td>NaN</td>\n",
       "      <td>NaN</td>\n",
       "      <td>NaN</td>\n",
       "    </tr>\n",
       "    <tr>\n",
       "      <th>...</th>\n",
       "      <td>...</td>\n",
       "      <td>...</td>\n",
       "      <td>...</td>\n",
       "      <td>...</td>\n",
       "      <td>...</td>\n",
       "      <td>...</td>\n",
       "      <td>...</td>\n",
       "      <td>...</td>\n",
       "      <td>...</td>\n",
       "      <td>...</td>\n",
       "      <td>...</td>\n",
       "      <td>...</td>\n",
       "      <td>...</td>\n",
       "      <td>...</td>\n",
       "    </tr>\n",
       "    <tr>\n",
       "      <th>9307</th>\n",
       "      <td>WHOSIS_000002</td>\n",
       "      <td>PUBLISHED</td>\n",
       "      <td>2010</td>\n",
       "      <td>GLOBAL</td>\n",
       "      <td>WB_WORLD_INCOME</td>\n",
       "      <td>NaN</td>\n",
       "      <td>FMLE</td>\n",
       "      <td>62.9</td>\n",
       "      <td>62.88848</td>\n",
       "      <td>NaN</td>\n",
       "      <td>NaN</td>\n",
       "      <td>NaN</td>\n",
       "      <td>NaN</td>\n",
       "      <td>NaN</td>\n",
       "    </tr>\n",
       "    <tr>\n",
       "      <th>9308</th>\n",
       "      <td>WHOSIS_000007</td>\n",
       "      <td>PUBLISHED</td>\n",
       "      <td>2000</td>\n",
       "      <td>GLOBAL</td>\n",
       "      <td>WB_WORLD_INCOME</td>\n",
       "      <td>NaN</td>\n",
       "      <td>BTSX</td>\n",
       "      <td>14.1</td>\n",
       "      <td>14.13883</td>\n",
       "      <td>NaN</td>\n",
       "      <td>NaN</td>\n",
       "      <td>NaN</td>\n",
       "      <td>NaN</td>\n",
       "      <td>NaN</td>\n",
       "    </tr>\n",
       "    <tr>\n",
       "      <th>9309</th>\n",
       "      <td>WHOSIS_000001</td>\n",
       "      <td>PUBLISHED</td>\n",
       "      <td>2010</td>\n",
       "      <td>GLOBAL</td>\n",
       "      <td>WB_WORLD_INCOME</td>\n",
       "      <td>NaN</td>\n",
       "      <td>BTSX</td>\n",
       "      <td>70.5</td>\n",
       "      <td>70.52787</td>\n",
       "      <td>NaN</td>\n",
       "      <td>NaN</td>\n",
       "      <td>NaN</td>\n",
       "      <td>NaN</td>\n",
       "      <td>NaN</td>\n",
       "    </tr>\n",
       "    <tr>\n",
       "      <th>9310</th>\n",
       "      <td>WHOSIS_000002</td>\n",
       "      <td>PUBLISHED</td>\n",
       "      <td>2010</td>\n",
       "      <td>GLOBAL</td>\n",
       "      <td>WB_WORLD_INCOME</td>\n",
       "      <td>NaN</td>\n",
       "      <td>BTSX</td>\n",
       "      <td>61.5</td>\n",
       "      <td>61.53046</td>\n",
       "      <td>NaN</td>\n",
       "      <td>NaN</td>\n",
       "      <td>NaN</td>\n",
       "      <td>NaN</td>\n",
       "      <td>NaN</td>\n",
       "    </tr>\n",
       "    <tr>\n",
       "      <th>9311</th>\n",
       "      <td>WHOSIS_000015</td>\n",
       "      <td>PUBLISHED</td>\n",
       "      <td>2010</td>\n",
       "      <td>GLOBAL</td>\n",
       "      <td>WB_WORLD_INCOME</td>\n",
       "      <td>NaN</td>\n",
       "      <td>BTSX</td>\n",
       "      <td>20.1</td>\n",
       "      <td>20.13311</td>\n",
       "      <td>NaN</td>\n",
       "      <td>NaN</td>\n",
       "      <td>NaN</td>\n",
       "      <td>NaN</td>\n",
       "      <td>NaN</td>\n",
       "    </tr>\n",
       "  </tbody>\n",
       "</table>\n",
       "<p>9312 rows × 14 columns</p>\n",
       "</div>"
      ],
      "text/plain": [
       "                GHO PUBLISHSTATE  YEAR  REGION WORLDBANKINCOMEGROUP COUNTRY  \\\n",
       "0     WHOSIS_000002    PUBLISHED  2010     EMR                  NaN     AFG   \n",
       "1     WHOSIS_000015    PUBLISHED  2010     EMR                  NaN     AFG   \n",
       "2     WHOSIS_000007    PUBLISHED  2010     EMR                  NaN     AFG   \n",
       "3     WHOSIS_000001    PUBLISHED  2015     EMR                  NaN     AFG   \n",
       "4     WHOSIS_000015    PUBLISHED  2010     EMR                  NaN     AFG   \n",
       "...             ...          ...   ...     ...                  ...     ...   \n",
       "9307  WHOSIS_000002    PUBLISHED  2010  GLOBAL      WB_WORLD_INCOME     NaN   \n",
       "9308  WHOSIS_000007    PUBLISHED  2000  GLOBAL      WB_WORLD_INCOME     NaN   \n",
       "9309  WHOSIS_000001    PUBLISHED  2010  GLOBAL      WB_WORLD_INCOME     NaN   \n",
       "9310  WHOSIS_000002    PUBLISHED  2010  GLOBAL      WB_WORLD_INCOME     NaN   \n",
       "9311  WHOSIS_000015    PUBLISHED  2010  GLOBAL      WB_WORLD_INCOME     NaN   \n",
       "\n",
       "       SEX  Display Value   Numeric  Low  High  StdErr  StdDev  Comments  \n",
       "0      MLE           51.5  51.50902  NaN   NaN     NaN     NaN       NaN  \n",
       "1      MLE           15.1  15.07067  NaN   NaN     NaN     NaN       NaN  \n",
       "2      MLE           11.1  11.13451  NaN   NaN     NaN     NaN       NaN  \n",
       "3      MLE           61.0  61.03658  NaN   NaN     NaN     NaN       NaN  \n",
       "4     FMLE           15.2  15.16855  NaN   NaN     NaN     NaN       NaN  \n",
       "...    ...            ...       ...  ...   ...     ...     ...       ...  \n",
       "9307  FMLE           62.9  62.88848  NaN   NaN     NaN     NaN       NaN  \n",
       "9308  BTSX           14.1  14.13883  NaN   NaN     NaN     NaN       NaN  \n",
       "9309  BTSX           70.5  70.52787  NaN   NaN     NaN     NaN       NaN  \n",
       "9310  BTSX           61.5  61.53046  NaN   NaN     NaN     NaN       NaN  \n",
       "9311  BTSX           20.1  20.13311  NaN   NaN     NaN     NaN       NaN  \n",
       "\n",
       "[9312 rows x 14 columns]"
      ]
     },
     "execution_count": 4,
     "metadata": {},
     "output_type": "execute_result"
    }
   ],
   "source": [
    "# Check DataFrame\n",
    "leam_df"
   ]
  },
  {
   "cell_type": "code",
   "execution_count": 5,
   "id": "82335b1d",
   "metadata": {},
   "outputs": [
    {
     "data": {
      "text/plain": [
       "GHO                        0\n",
       "PUBLISHSTATE               0\n",
       "YEAR                       0\n",
       "REGION                   192\n",
       "WORLDBANKINCOMEGROUP    9072\n",
       "COUNTRY                  528\n",
       "SEX                        0\n",
       "Display Value              0\n",
       "Numeric                    0\n",
       "Low                     9312\n",
       "High                    9312\n",
       "StdErr                  9312\n",
       "StdDev                  9312\n",
       "Comments                9312\n",
       "dtype: int64"
      ]
     },
     "execution_count": 5,
     "metadata": {},
     "output_type": "execute_result"
    }
   ],
   "source": [
    "leam_df.isnull().sum()"
   ]
  },
  {
   "cell_type": "code",
   "execution_count": 6,
   "id": "3149dbab",
   "metadata": {},
   "outputs": [
    {
     "name": "stdout",
     "output_type": "stream",
     "text": [
      "<class 'pandas.core.frame.DataFrame'>\n",
      "RangeIndex: 9312 entries, 0 to 9311\n",
      "Data columns (total 14 columns):\n",
      " #   Column                Non-Null Count  Dtype  \n",
      "---  ------                --------------  -----  \n",
      " 0   GHO                   9312 non-null   object \n",
      " 1   PUBLISHSTATE          9312 non-null   object \n",
      " 2   YEAR                  9312 non-null   int64  \n",
      " 3   REGION                9120 non-null   object \n",
      " 4   WORLDBANKINCOMEGROUP  240 non-null    object \n",
      " 5   COUNTRY               8784 non-null   object \n",
      " 6   SEX                   9312 non-null   object \n",
      " 7   Display Value         9312 non-null   float64\n",
      " 8   Numeric               9312 non-null   float64\n",
      " 9   Low                   0 non-null      float64\n",
      " 10  High                  0 non-null      float64\n",
      " 11  StdErr                0 non-null      float64\n",
      " 12  StdDev                0 non-null      float64\n",
      " 13  Comments              0 non-null      float64\n",
      "dtypes: float64(7), int64(1), object(6)\n",
      "memory usage: 1018.6+ KB\n"
     ]
    }
   ],
   "source": [
    "leam_df.info()"
   ]
  },
  {
   "cell_type": "code",
   "execution_count": 7,
   "id": "a7938d84",
   "metadata": {
    "scrolled": true
   },
   "outputs": [
    {
     "data": {
      "text/plain": [
       "Index(['GHO', 'PUBLISHSTATE', 'YEAR', 'REGION', 'WORLDBANKINCOMEGROUP',\n",
       "       'COUNTRY', 'SEX', 'Display Value', 'Numeric', 'Low', 'High', 'StdErr',\n",
       "       'StdDev', 'Comments'],\n",
       "      dtype='object')"
      ]
     },
     "execution_count": 7,
     "metadata": {},
     "output_type": "execute_result"
    }
   ],
   "source": [
    "# List Columns\n",
    "leam_df.columns"
   ]
  },
  {
   "cell_type": "markdown",
   "id": "ef4d840d",
   "metadata": {},
   "source": [
    "<div class=\"alert alert-success\">\n",
    "\n",
    "# PREPARE:"
   ]
  },
  {
   "cell_type": "markdown",
   "id": "4d74fe90",
   "metadata": {},
   "source": [
    "<div class=\"alert alert-warning\">\n",
    "\n",
    "#### GHO Stats"
   ]
  },
  {
   "cell_type": "code",
   "execution_count": 8,
   "id": "9c26d180",
   "metadata": {
    "scrolled": true
   },
   "outputs": [
    {
     "data": {
      "text/plain": [
       "array(['WHOSIS_000002', 'WHOSIS_000015', 'WHOSIS_000007', 'WHOSIS_000001'],\n",
       "      dtype=object)"
      ]
     },
     "execution_count": 8,
     "metadata": {},
     "output_type": "execute_result"
    }
   ],
   "source": [
    "# Show unique GHO Codes to ensure proper Data Pull\n",
    "leam_df.GHO.unique()"
   ]
  },
  {
   "cell_type": "code",
   "execution_count": 9,
   "id": "f718e783",
   "metadata": {},
   "outputs": [
    {
     "data": {
      "text/plain": [
       "0"
      ]
     },
     "execution_count": 9,
     "metadata": {},
     "output_type": "execute_result"
    }
   ],
   "source": [
    "# Check GHO Null count\n",
    "leam_df.GHO.isnull().sum()"
   ]
  },
  {
   "cell_type": "code",
   "execution_count": 10,
   "id": "0eaefc83",
   "metadata": {
    "scrolled": true
   },
   "outputs": [
    {
     "data": {
      "text/plain": [
       "WHOSIS_000002    2328\n",
       "WHOSIS_000015    2328\n",
       "WHOSIS_000007    2328\n",
       "WHOSIS_000001    2328\n",
       "Name: GHO, dtype: int64"
      ]
     },
     "execution_count": 10,
     "metadata": {},
     "output_type": "execute_result"
    }
   ],
   "source": [
    "# Check GHO value counts\n",
    "leam_df.GHO.value_counts()"
   ]
  },
  {
   "cell_type": "markdown",
   "id": "05026488",
   "metadata": {},
   "source": [
    "<div class=\"alert alert-warning\">\n",
    "\n",
    "#### WHOSIS Stats"
   ]
  },
  {
   "cell_type": "markdown",
   "id": "b638ed2a",
   "metadata": {},
   "source": [
    "<div class=\"alert alert-info\">\n",
    "\n",
    "#### These are all exactly the same record count at 2,328 entries\n",
    "* 'WHOSIS_000001': 'Life expectancy at birth (years)', \n",
    "* 'WHOSIS_000002': 'Healthy life expectancy (HALE) at birth (years)', \n",
    "* 'WHOSIS_000007': 'Healthy life expectancy (HALE) at age 60 (years)', \n",
    "* 'WHOSIS_000015': 'Life expectancy at age 60 (years)', "
   ]
  },
  {
   "cell_type": "code",
   "execution_count": 11,
   "id": "2bcd2cf4",
   "metadata": {},
   "outputs": [
    {
     "name": "stdout",
     "output_type": "stream",
     "text": [
      "These are all exactly the same record count at 2,328 entries\n",
      "WHOSIS_000001     25.0%\n",
      "WHOSIS_000002     25.0%\n",
      "WHOSIS_000007     25.0%\n",
      "WHOSIS_000015     25.0%\n"
     ]
    }
   ],
   "source": [
    "# Show percentage of entries for WHOSIS GHO Codes\n",
    "\n",
    "print('These are all exactly the same record count at 2,328 entries')\n",
    "print(f'WHOSIS_000001     {round(2328/leam_df.shape[0]*100,2)}%')\n",
    "print(f'WHOSIS_000002     {round(2328/leam_df.shape[0]*100,2)}%')\n",
    "print(f'WHOSIS_000007     {round(2328/leam_df.shape[0]*100,2)}%')\n",
    "print(f'WHOSIS_000015     {round(2328/leam_df.shape[0]*100,2)}%')"
   ]
  },
  {
   "cell_type": "markdown",
   "id": "ebaf999e",
   "metadata": {},
   "source": [
    "#### WHOSIS Definitions:\n",
    "\n",
    "* 'WHOSIS_000001': 'Life expectancy at birth (years)', \n",
    "* 'WHOSIS_000002': 'Healthy life expectancy (HALE) at birth (years)', \n",
    "* 'WHOSIS_000007': 'Healthy life expectancy (HALE) at age 60 (years)', \n",
    "* 'WHOSIS_000015': 'Life expectancy at age 60 (years)', "
   ]
  },
  {
   "cell_type": "markdown",
   "id": "b59ea343",
   "metadata": {},
   "source": [
    "#### WHOSIS Data Dictionary\n",
    "\n",
    "|[GHO Code](https://apps.who.int/gho/athena/api/GHO)      |[Documentation](https://www.who.int/data/gho/indicator-metadata-registry)|[Global Health Observatory](https://www.who.int/data/gho) (GHO) Code Description|\n",
    "|:-------------|:-----------:|:------------------------------------------------|\n",
    "|WHOSIS_000001|[📖](https://www.who.int/data/gho/indicator-metadata-registry/imr-details/65)|Life expectancy at birth (years)| \n",
    "|WHOSIS_000002|[📖](https://www.who.int/data/gho/indicator-metadata-registry/imr-details/66)|Healthy life expectancy (HALE) at birth (years)| \n",
    "|WHOSIS_000007|[📖](https://www.who.int/data/gho/indicator-metadata-registry/imr-details/3443)|Healthy life expectancy (HALE) at age 60 (years)| \n",
    "|WHOSIS_000015|[📖](https://www.who.int/data/gho/indicator-metadata-registry/imr-details/2977)|Life expectancy at age 60 (years)| "
   ]
  },
  {
   "cell_type": "markdown",
   "id": "937d7ada",
   "metadata": {},
   "source": [
    "<div class=\"alert alert-warning\">\n",
    "\n",
    "# DROP Columns"
   ]
  },
  {
   "cell_type": "code",
   "execution_count": 12,
   "id": "17949209",
   "metadata": {},
   "outputs": [
    {
     "data": {
      "text/plain": [
       "Low                     9312\n",
       "High                    9312\n",
       "StdErr                  9312\n",
       "StdDev                  9312\n",
       "Comments                9312\n",
       "WORLDBANKINCOMEGROUP    9072\n",
       "COUNTRY                  528\n",
       "REGION                   192\n",
       "GHO                        0\n",
       "PUBLISHSTATE               0\n",
       "YEAR                       0\n",
       "SEX                        0\n",
       "Display Value              0\n",
       "Numeric                    0\n",
       "dtype: int64"
      ]
     },
     "execution_count": 12,
     "metadata": {},
     "output_type": "execute_result"
    }
   ],
   "source": [
    "# Show Null Count by Column in descending order\n",
    "leam_df.isnull().sum().sort_values(ascending=False)"
   ]
  },
  {
   "cell_type": "code",
   "execution_count": 13,
   "id": "2c0e694b",
   "metadata": {},
   "outputs": [],
   "source": [
    "# Drop all columns with more than 10k Null and uneeded features\n",
    "leam_df = leam_df.drop(columns=['Low',\n",
    "                                'High',\n",
    "                                'StdErr', \n",
    "                                'StdDev', \n",
    "                                'Comments', \n",
    "                                'WORLDBANKINCOMEGROUP'\n",
    "                                ])"
   ]
  },
  {
   "cell_type": "code",
   "execution_count": 14,
   "id": "fcc59f19",
   "metadata": {
    "scrolled": true
   },
   "outputs": [
    {
     "data": {
      "text/html": [
       "<div>\n",
       "<style scoped>\n",
       "    .dataframe tbody tr th:only-of-type {\n",
       "        vertical-align: middle;\n",
       "    }\n",
       "\n",
       "    .dataframe tbody tr th {\n",
       "        vertical-align: top;\n",
       "    }\n",
       "\n",
       "    .dataframe thead th {\n",
       "        text-align: right;\n",
       "    }\n",
       "</style>\n",
       "<table border=\"1\" class=\"dataframe\">\n",
       "  <thead>\n",
       "    <tr style=\"text-align: right;\">\n",
       "      <th></th>\n",
       "      <th>GHO</th>\n",
       "      <th>PUBLISHSTATE</th>\n",
       "      <th>YEAR</th>\n",
       "      <th>REGION</th>\n",
       "      <th>COUNTRY</th>\n",
       "      <th>SEX</th>\n",
       "      <th>Display Value</th>\n",
       "      <th>Numeric</th>\n",
       "    </tr>\n",
       "  </thead>\n",
       "  <tbody>\n",
       "    <tr>\n",
       "      <th>0</th>\n",
       "      <td>WHOSIS_000002</td>\n",
       "      <td>PUBLISHED</td>\n",
       "      <td>2010</td>\n",
       "      <td>EMR</td>\n",
       "      <td>AFG</td>\n",
       "      <td>MLE</td>\n",
       "      <td>51.5</td>\n",
       "      <td>51.50902</td>\n",
       "    </tr>\n",
       "    <tr>\n",
       "      <th>1</th>\n",
       "      <td>WHOSIS_000015</td>\n",
       "      <td>PUBLISHED</td>\n",
       "      <td>2010</td>\n",
       "      <td>EMR</td>\n",
       "      <td>AFG</td>\n",
       "      <td>MLE</td>\n",
       "      <td>15.1</td>\n",
       "      <td>15.07067</td>\n",
       "    </tr>\n",
       "    <tr>\n",
       "      <th>2</th>\n",
       "      <td>WHOSIS_000007</td>\n",
       "      <td>PUBLISHED</td>\n",
       "      <td>2010</td>\n",
       "      <td>EMR</td>\n",
       "      <td>AFG</td>\n",
       "      <td>MLE</td>\n",
       "      <td>11.1</td>\n",
       "      <td>11.13451</td>\n",
       "    </tr>\n",
       "    <tr>\n",
       "      <th>3</th>\n",
       "      <td>WHOSIS_000001</td>\n",
       "      <td>PUBLISHED</td>\n",
       "      <td>2015</td>\n",
       "      <td>EMR</td>\n",
       "      <td>AFG</td>\n",
       "      <td>MLE</td>\n",
       "      <td>61.0</td>\n",
       "      <td>61.03658</td>\n",
       "    </tr>\n",
       "    <tr>\n",
       "      <th>4</th>\n",
       "      <td>WHOSIS_000015</td>\n",
       "      <td>PUBLISHED</td>\n",
       "      <td>2010</td>\n",
       "      <td>EMR</td>\n",
       "      <td>AFG</td>\n",
       "      <td>FMLE</td>\n",
       "      <td>15.2</td>\n",
       "      <td>15.16855</td>\n",
       "    </tr>\n",
       "    <tr>\n",
       "      <th>...</th>\n",
       "      <td>...</td>\n",
       "      <td>...</td>\n",
       "      <td>...</td>\n",
       "      <td>...</td>\n",
       "      <td>...</td>\n",
       "      <td>...</td>\n",
       "      <td>...</td>\n",
       "      <td>...</td>\n",
       "    </tr>\n",
       "    <tr>\n",
       "      <th>9307</th>\n",
       "      <td>WHOSIS_000002</td>\n",
       "      <td>PUBLISHED</td>\n",
       "      <td>2010</td>\n",
       "      <td>GLOBAL</td>\n",
       "      <td>NaN</td>\n",
       "      <td>FMLE</td>\n",
       "      <td>62.9</td>\n",
       "      <td>62.88848</td>\n",
       "    </tr>\n",
       "    <tr>\n",
       "      <th>9308</th>\n",
       "      <td>WHOSIS_000007</td>\n",
       "      <td>PUBLISHED</td>\n",
       "      <td>2000</td>\n",
       "      <td>GLOBAL</td>\n",
       "      <td>NaN</td>\n",
       "      <td>BTSX</td>\n",
       "      <td>14.1</td>\n",
       "      <td>14.13883</td>\n",
       "    </tr>\n",
       "    <tr>\n",
       "      <th>9309</th>\n",
       "      <td>WHOSIS_000001</td>\n",
       "      <td>PUBLISHED</td>\n",
       "      <td>2010</td>\n",
       "      <td>GLOBAL</td>\n",
       "      <td>NaN</td>\n",
       "      <td>BTSX</td>\n",
       "      <td>70.5</td>\n",
       "      <td>70.52787</td>\n",
       "    </tr>\n",
       "    <tr>\n",
       "      <th>9310</th>\n",
       "      <td>WHOSIS_000002</td>\n",
       "      <td>PUBLISHED</td>\n",
       "      <td>2010</td>\n",
       "      <td>GLOBAL</td>\n",
       "      <td>NaN</td>\n",
       "      <td>BTSX</td>\n",
       "      <td>61.5</td>\n",
       "      <td>61.53046</td>\n",
       "    </tr>\n",
       "    <tr>\n",
       "      <th>9311</th>\n",
       "      <td>WHOSIS_000015</td>\n",
       "      <td>PUBLISHED</td>\n",
       "      <td>2010</td>\n",
       "      <td>GLOBAL</td>\n",
       "      <td>NaN</td>\n",
       "      <td>BTSX</td>\n",
       "      <td>20.1</td>\n",
       "      <td>20.13311</td>\n",
       "    </tr>\n",
       "  </tbody>\n",
       "</table>\n",
       "<p>9312 rows × 8 columns</p>\n",
       "</div>"
      ],
      "text/plain": [
       "                GHO PUBLISHSTATE  YEAR  REGION COUNTRY   SEX  Display Value  \\\n",
       "0     WHOSIS_000002    PUBLISHED  2010     EMR     AFG   MLE           51.5   \n",
       "1     WHOSIS_000015    PUBLISHED  2010     EMR     AFG   MLE           15.1   \n",
       "2     WHOSIS_000007    PUBLISHED  2010     EMR     AFG   MLE           11.1   \n",
       "3     WHOSIS_000001    PUBLISHED  2015     EMR     AFG   MLE           61.0   \n",
       "4     WHOSIS_000015    PUBLISHED  2010     EMR     AFG  FMLE           15.2   \n",
       "...             ...          ...   ...     ...     ...   ...            ...   \n",
       "9307  WHOSIS_000002    PUBLISHED  2010  GLOBAL     NaN  FMLE           62.9   \n",
       "9308  WHOSIS_000007    PUBLISHED  2000  GLOBAL     NaN  BTSX           14.1   \n",
       "9309  WHOSIS_000001    PUBLISHED  2010  GLOBAL     NaN  BTSX           70.5   \n",
       "9310  WHOSIS_000002    PUBLISHED  2010  GLOBAL     NaN  BTSX           61.5   \n",
       "9311  WHOSIS_000015    PUBLISHED  2010  GLOBAL     NaN  BTSX           20.1   \n",
       "\n",
       "       Numeric  \n",
       "0     51.50902  \n",
       "1     15.07067  \n",
       "2     11.13451  \n",
       "3     61.03658  \n",
       "4     15.16855  \n",
       "...        ...  \n",
       "9307  62.88848  \n",
       "9308  14.13883  \n",
       "9309  70.52787  \n",
       "9310  61.53046  \n",
       "9311  20.13311  \n",
       "\n",
       "[9312 rows x 8 columns]"
      ]
     },
     "execution_count": 14,
     "metadata": {},
     "output_type": "execute_result"
    }
   ],
   "source": [
    "# Check work\n",
    "leam_df"
   ]
  },
  {
   "cell_type": "code",
   "execution_count": 15,
   "id": "007ac04e",
   "metadata": {},
   "outputs": [
    {
     "data": {
      "text/plain": [
       "COUNTRY          528\n",
       "REGION           192\n",
       "GHO                0\n",
       "PUBLISHSTATE       0\n",
       "YEAR               0\n",
       "SEX                0\n",
       "Display Value      0\n",
       "Numeric            0\n",
       "dtype: int64"
      ]
     },
     "execution_count": 15,
     "metadata": {},
     "output_type": "execute_result"
    }
   ],
   "source": [
    "# Show Null Count by Column in descending order\n",
    "leam_df.isnull().sum().sort_values(ascending=False)"
   ]
  },
  {
   "cell_type": "markdown",
   "id": "97035565",
   "metadata": {},
   "source": [
    "<div class=\"alert alert-warning\">\n",
    "\n",
    "#### Sex"
   ]
  },
  {
   "cell_type": "code",
   "execution_count": 16,
   "id": "ab35a851",
   "metadata": {
    "scrolled": true
   },
   "outputs": [
    {
     "data": {
      "text/plain": [
       "0"
      ]
     },
     "execution_count": 16,
     "metadata": {},
     "output_type": "execute_result"
    }
   ],
   "source": [
    "# Show Null count for SEX\n",
    "leam_df.SEX.isnull().sum()"
   ]
  },
  {
   "cell_type": "markdown",
   "id": "e1df12ac",
   "metadata": {},
   "source": [
    "<div class=\"alert alert-warning\">\n",
    "\n",
    "#### Country"
   ]
  },
  {
   "cell_type": "code",
   "execution_count": 17,
   "id": "8082394e",
   "metadata": {
    "scrolled": false
   },
   "outputs": [
    {
     "data": {
      "text/plain": [
       "528"
      ]
     },
     "execution_count": 17,
     "metadata": {},
     "output_type": "execute_result"
    }
   ],
   "source": [
    "# Show Null Count for COUNTRY\n",
    "leam_df.COUNTRY.isnull().sum()"
   ]
  },
  {
   "cell_type": "code",
   "execution_count": 18,
   "id": "84952f23",
   "metadata": {},
   "outputs": [
    {
     "data": {
      "text/plain": [
       "183"
      ]
     },
     "execution_count": 18,
     "metadata": {},
     "output_type": "execute_result"
    }
   ],
   "source": [
    "# Show unique number of Countries\n",
    "leam_df.COUNTRY.nunique()"
   ]
  },
  {
   "cell_type": "code",
   "execution_count": 19,
   "id": "ee0880d5",
   "metadata": {
    "scrolled": true
   },
   "outputs": [
    {
     "name": "stdout",
     "output_type": "stream",
     "text": [
      "Country Null is 5.67 % of entire DataFrame\n"
     ]
    }
   ],
   "source": [
    "# Display Null percentage of entire DataFrame for COUNTRY\n",
    "print(f'Country Null is {round(leam_df.COUNTRY.isnull().sum() / leam_df.shape[0] *100, 2)} % of entire DataFrame')"
   ]
  },
  {
   "cell_type": "code",
   "execution_count": 20,
   "id": "96a4658d",
   "metadata": {
    "scrolled": true
   },
   "outputs": [
    {
     "data": {
      "text/plain": [
       "array(['AFG', 'AGO', 'ALB', 'ARE', 'ARG', 'ARM', 'ATG', 'AUS', 'AUT',\n",
       "       'AZE', 'BDI', 'BEL', 'BEN', 'BFA', 'BGD', 'BGR', 'BHR', 'BHS',\n",
       "       'BIH', 'BLR', 'BLZ', 'BOL', 'BRA', 'BRB', 'BRN', 'BTN', 'BWA',\n",
       "       'CAF', 'CAN', 'CHE', 'CHL', 'CHN', 'CIV', 'CMR', 'COD', 'COG',\n",
       "       'COL', 'COM', 'CPV', 'CRI', 'CUB', 'CYP', 'CZE', 'DEU', 'DJI',\n",
       "       'DNK', 'DOM', 'DZA', 'ECU', 'EGY', 'ERI', 'ESP', 'EST', 'ETH',\n",
       "       'FIN', 'FJI', 'FRA', 'FSM', 'GAB', 'GBR', 'GEO', 'GHA', 'GIN',\n",
       "       'GMB', 'GNB', 'GNQ', 'GRC', 'GRD', 'GTM', 'GUY', 'HND', 'HRV',\n",
       "       'HTI', 'HUN', 'IDN', 'IND', 'IRL', 'IRN', 'IRQ', 'ISL', 'ISR',\n",
       "       'ITA', 'JAM', 'JOR', 'JPN', 'KAZ', 'KEN', 'KGZ', 'KHM', 'KIR',\n",
       "       'KOR', 'KWT', 'LAO', 'LBN', 'LBR', 'LBY', 'LCA', 'LKA', 'LSO',\n",
       "       'LTU', 'LUX', 'LVA', 'MAR', 'MDA', 'MDG', 'MDV', 'MEX', 'MKD',\n",
       "       'MLI', 'MLT', 'MMR', 'MNE', 'MNG', 'MOZ', 'MRT', 'MUS', 'MWI',\n",
       "       'MYS', 'NAM', 'NER', 'NGA', 'NIC', 'NLD', 'NOR', 'NPL', 'NZL',\n",
       "       'OMN', 'PAK', 'PAN', 'PER', 'PHL', 'PNG', 'POL', 'PRK', 'PRT',\n",
       "       'PRY', 'QAT', 'ROU', 'RUS', 'RWA', 'SAU', 'SDN', 'SEN', 'SGP',\n",
       "       'SLB', 'SLE', 'SLV', 'SOM', 'SRB', 'SSD', 'STP', 'SUR', 'SVK',\n",
       "       'SVN', 'SWE', 'SWZ', 'SYC', 'SYR', 'TCD', 'TGO', 'THA', 'TJK',\n",
       "       'TKM', 'TLS', 'TON', 'TTO', 'TUN', 'TUR', 'TZA', 'UGA', 'UKR',\n",
       "       'URY', 'USA', 'UZB', 'VCT', 'VEN', 'VNM', 'VUT', 'WSM', 'YEM',\n",
       "       'ZAF', 'ZMB', 'ZWE', nan], dtype=object)"
      ]
     },
     "execution_count": 20,
     "metadata": {},
     "output_type": "execute_result"
    }
   ],
   "source": [
    "# List all unique Country values\n",
    "leam_df.COUNTRY.unique()"
   ]
  },
  {
   "cell_type": "code",
   "execution_count": 21,
   "id": "75fbe068",
   "metadata": {},
   "outputs": [],
   "source": [
    "# Create mask df for Null Country values\n",
    "country_df = leam_df['COUNTRY'].isnull()"
   ]
  },
  {
   "cell_type": "code",
   "execution_count": 22,
   "id": "4b89ea6f",
   "metadata": {
    "scrolled": false
   },
   "outputs": [
    {
     "data": {
      "text/html": [
       "<div>\n",
       "<style scoped>\n",
       "    .dataframe tbody tr th:only-of-type {\n",
       "        vertical-align: middle;\n",
       "    }\n",
       "\n",
       "    .dataframe tbody tr th {\n",
       "        vertical-align: top;\n",
       "    }\n",
       "\n",
       "    .dataframe thead th {\n",
       "        text-align: right;\n",
       "    }\n",
       "</style>\n",
       "<table border=\"1\" class=\"dataframe\">\n",
       "  <thead>\n",
       "    <tr style=\"text-align: right;\">\n",
       "      <th></th>\n",
       "      <th>GHO</th>\n",
       "      <th>PUBLISHSTATE</th>\n",
       "      <th>YEAR</th>\n",
       "      <th>REGION</th>\n",
       "      <th>COUNTRY</th>\n",
       "      <th>SEX</th>\n",
       "      <th>Display Value</th>\n",
       "      <th>Numeric</th>\n",
       "    </tr>\n",
       "  </thead>\n",
       "  <tbody>\n",
       "    <tr>\n",
       "      <th>8333</th>\n",
       "      <td>WHOSIS_000007</td>\n",
       "      <td>PUBLISHED</td>\n",
       "      <td>2000</td>\n",
       "      <td>NaN</td>\n",
       "      <td>NaN</td>\n",
       "      <td>MLE</td>\n",
       "      <td>10.7</td>\n",
       "      <td>10.67575</td>\n",
       "    </tr>\n",
       "    <tr>\n",
       "      <th>8334</th>\n",
       "      <td>WHOSIS_000001</td>\n",
       "      <td>PUBLISHED</td>\n",
       "      <td>2010</td>\n",
       "      <td>NaN</td>\n",
       "      <td>NaN</td>\n",
       "      <td>MLE</td>\n",
       "      <td>58.2</td>\n",
       "      <td>58.18198</td>\n",
       "    </tr>\n",
       "    <tr>\n",
       "      <th>8335</th>\n",
       "      <td>WHOSIS_000002</td>\n",
       "      <td>PUBLISHED</td>\n",
       "      <td>2010</td>\n",
       "      <td>NaN</td>\n",
       "      <td>NaN</td>\n",
       "      <td>MLE</td>\n",
       "      <td>51.6</td>\n",
       "      <td>51.56751</td>\n",
       "    </tr>\n",
       "    <tr>\n",
       "      <th>8336</th>\n",
       "      <td>WHOSIS_000015</td>\n",
       "      <td>PUBLISHED</td>\n",
       "      <td>2010</td>\n",
       "      <td>NaN</td>\n",
       "      <td>NaN</td>\n",
       "      <td>MLE</td>\n",
       "      <td>15.2</td>\n",
       "      <td>15.24089</td>\n",
       "    </tr>\n",
       "    <tr>\n",
       "      <th>8337</th>\n",
       "      <td>WHOSIS_000001</td>\n",
       "      <td>PUBLISHED</td>\n",
       "      <td>2010</td>\n",
       "      <td>NaN</td>\n",
       "      <td>NaN</td>\n",
       "      <td>FMLE</td>\n",
       "      <td>62.1</td>\n",
       "      <td>62.06323</td>\n",
       "    </tr>\n",
       "    <tr>\n",
       "      <th>...</th>\n",
       "      <td>...</td>\n",
       "      <td>...</td>\n",
       "      <td>...</td>\n",
       "      <td>...</td>\n",
       "      <td>...</td>\n",
       "      <td>...</td>\n",
       "      <td>...</td>\n",
       "      <td>...</td>\n",
       "    </tr>\n",
       "    <tr>\n",
       "      <th>9307</th>\n",
       "      <td>WHOSIS_000002</td>\n",
       "      <td>PUBLISHED</td>\n",
       "      <td>2010</td>\n",
       "      <td>GLOBAL</td>\n",
       "      <td>NaN</td>\n",
       "      <td>FMLE</td>\n",
       "      <td>62.9</td>\n",
       "      <td>62.88848</td>\n",
       "    </tr>\n",
       "    <tr>\n",
       "      <th>9308</th>\n",
       "      <td>WHOSIS_000007</td>\n",
       "      <td>PUBLISHED</td>\n",
       "      <td>2000</td>\n",
       "      <td>GLOBAL</td>\n",
       "      <td>NaN</td>\n",
       "      <td>BTSX</td>\n",
       "      <td>14.1</td>\n",
       "      <td>14.13883</td>\n",
       "    </tr>\n",
       "    <tr>\n",
       "      <th>9309</th>\n",
       "      <td>WHOSIS_000001</td>\n",
       "      <td>PUBLISHED</td>\n",
       "      <td>2010</td>\n",
       "      <td>GLOBAL</td>\n",
       "      <td>NaN</td>\n",
       "      <td>BTSX</td>\n",
       "      <td>70.5</td>\n",
       "      <td>70.52787</td>\n",
       "    </tr>\n",
       "    <tr>\n",
       "      <th>9310</th>\n",
       "      <td>WHOSIS_000002</td>\n",
       "      <td>PUBLISHED</td>\n",
       "      <td>2010</td>\n",
       "      <td>GLOBAL</td>\n",
       "      <td>NaN</td>\n",
       "      <td>BTSX</td>\n",
       "      <td>61.5</td>\n",
       "      <td>61.53046</td>\n",
       "    </tr>\n",
       "    <tr>\n",
       "      <th>9311</th>\n",
       "      <td>WHOSIS_000015</td>\n",
       "      <td>PUBLISHED</td>\n",
       "      <td>2010</td>\n",
       "      <td>GLOBAL</td>\n",
       "      <td>NaN</td>\n",
       "      <td>BTSX</td>\n",
       "      <td>20.1</td>\n",
       "      <td>20.13311</td>\n",
       "    </tr>\n",
       "  </tbody>\n",
       "</table>\n",
       "<p>528 rows × 8 columns</p>\n",
       "</div>"
      ],
      "text/plain": [
       "                GHO PUBLISHSTATE  YEAR  REGION COUNTRY   SEX  Display Value  \\\n",
       "8333  WHOSIS_000007    PUBLISHED  2000     NaN     NaN   MLE           10.7   \n",
       "8334  WHOSIS_000001    PUBLISHED  2010     NaN     NaN   MLE           58.2   \n",
       "8335  WHOSIS_000002    PUBLISHED  2010     NaN     NaN   MLE           51.6   \n",
       "8336  WHOSIS_000015    PUBLISHED  2010     NaN     NaN   MLE           15.2   \n",
       "8337  WHOSIS_000001    PUBLISHED  2010     NaN     NaN  FMLE           62.1   \n",
       "...             ...          ...   ...     ...     ...   ...            ...   \n",
       "9307  WHOSIS_000002    PUBLISHED  2010  GLOBAL     NaN  FMLE           62.9   \n",
       "9308  WHOSIS_000007    PUBLISHED  2000  GLOBAL     NaN  BTSX           14.1   \n",
       "9309  WHOSIS_000001    PUBLISHED  2010  GLOBAL     NaN  BTSX           70.5   \n",
       "9310  WHOSIS_000002    PUBLISHED  2010  GLOBAL     NaN  BTSX           61.5   \n",
       "9311  WHOSIS_000015    PUBLISHED  2010  GLOBAL     NaN  BTSX           20.1   \n",
       "\n",
       "       Numeric  \n",
       "8333  10.67575  \n",
       "8334  58.18198  \n",
       "8335  51.56751  \n",
       "8336  15.24089  \n",
       "8337  62.06323  \n",
       "...        ...  \n",
       "9307  62.88848  \n",
       "9308  14.13883  \n",
       "9309  70.52787  \n",
       "9310  61.53046  \n",
       "9311  20.13311  \n",
       "\n",
       "[528 rows x 8 columns]"
      ]
     },
     "execution_count": 22,
     "metadata": {},
     "output_type": "execute_result"
    }
   ],
   "source": [
    "# Take a look\n",
    "leam_df[country_df]"
   ]
  },
  {
   "cell_type": "code",
   "execution_count": 23,
   "id": "d56afaf8",
   "metadata": {
    "scrolled": true
   },
   "outputs": [
    {
     "data": {
      "text/plain": [
       "array([nan, 'AFR', 'AMR', 'SEAR', 'EUR', 'EMR', 'WPR', 'GLOBAL'],\n",
       "      dtype=object)"
      ]
     },
     "execution_count": 23,
     "metadata": {},
     "output_type": "execute_result"
    }
   ],
   "source": [
    "# List unique Region values in the Null country_df\n",
    "leam_df[country_df].REGION.unique()"
   ]
  },
  {
   "cell_type": "code",
   "execution_count": 24,
   "id": "dcafcec6",
   "metadata": {
    "scrolled": true
   },
   "outputs": [
    {
     "data": {
      "text/plain": [
       "AFR       48\n",
       "AMR       48\n",
       "SEAR      48\n",
       "EUR       48\n",
       "EMR       48\n",
       "WPR       48\n",
       "GLOBAL    48\n",
       "Name: REGION, dtype: int64"
      ]
     },
     "execution_count": 24,
     "metadata": {},
     "output_type": "execute_result"
    }
   ],
   "source": [
    "# Show the Region value counts under the Null country_df\n",
    "leam_df[country_df].REGION.value_counts()"
   ]
  },
  {
   "cell_type": "code",
   "execution_count": 25,
   "id": "df91e317",
   "metadata": {},
   "outputs": [
    {
     "data": {
      "text/plain": [
       "EUR       2448\n",
       "AFR       2304\n",
       "AMR       1632\n",
       "EMR       1056\n",
       "WPR       1056\n",
       "SEAR       576\n",
       "GLOBAL      48\n",
       "Name: REGION, dtype: int64"
      ]
     },
     "execution_count": 25,
     "metadata": {},
     "output_type": "execute_result"
    }
   ],
   "source": [
    "# Show the Region value counts under the leam_df\n",
    "leam_df.REGION.value_counts()"
   ]
  },
  {
   "cell_type": "markdown",
   "id": "ba58ebaf",
   "metadata": {},
   "source": [
    "<div class=\"alert alert-info\">\n",
    "\n",
    "* There are 528 Null values for country\n",
    "    * That's less than 6% of the DataFrame\n",
    "    * looking at the Null country_df Region values, Country is NaN for Global only stats\n",
    "    * Looking at the leam_df, there is the same count of GLOBAL values meaning there are no other entries for GLOBAL REGION under COUNTRY besides NaN\n",
    "    \n",
    "#### Impute country NaN with GLOBAL where REGION equals GLOBAL \n",
    "#### DROP remaining NaN in country column"
   ]
  },
  {
   "cell_type": "code",
   "execution_count": 26,
   "id": "969c6747",
   "metadata": {
    "scrolled": true
   },
   "outputs": [],
   "source": [
    "# IMPUTE NaN for [COUNTRY] with 'GLOBAL' if [REGION] == 'GLOBAL'\n",
    "missing_mask = leam_df['COUNTRY'].isna()\n",
    "mapping_dict = dict({'GLOBAL': 'GLOBAL'})\n",
    "leam_df.loc[missing_mask, 'COUNTRY'] = leam_df.loc[missing_mask, 'REGION'].map(mapping_dict)\n",
    "#leam_df['COUNTRY'] = leam_df['COUNTRY'].fillna('UNK')"
   ]
  },
  {
   "cell_type": "code",
   "execution_count": 27,
   "id": "42ba054e",
   "metadata": {},
   "outputs": [],
   "source": [
    "# Create another mask for Null Country\n",
    "country_df = leam_df['COUNTRY'].isnull()"
   ]
  },
  {
   "cell_type": "code",
   "execution_count": 28,
   "id": "5f71dbcb",
   "metadata": {
    "scrolled": true
   },
   "outputs": [
    {
     "data": {
      "text/html": [
       "<div>\n",
       "<style scoped>\n",
       "    .dataframe tbody tr th:only-of-type {\n",
       "        vertical-align: middle;\n",
       "    }\n",
       "\n",
       "    .dataframe tbody tr th {\n",
       "        vertical-align: top;\n",
       "    }\n",
       "\n",
       "    .dataframe thead th {\n",
       "        text-align: right;\n",
       "    }\n",
       "</style>\n",
       "<table border=\"1\" class=\"dataframe\">\n",
       "  <thead>\n",
       "    <tr style=\"text-align: right;\">\n",
       "      <th></th>\n",
       "      <th>GHO</th>\n",
       "      <th>PUBLISHSTATE</th>\n",
       "      <th>YEAR</th>\n",
       "      <th>REGION</th>\n",
       "      <th>COUNTRY</th>\n",
       "      <th>SEX</th>\n",
       "      <th>Display Value</th>\n",
       "      <th>Numeric</th>\n",
       "    </tr>\n",
       "  </thead>\n",
       "  <tbody>\n",
       "    <tr>\n",
       "      <th>8333</th>\n",
       "      <td>WHOSIS_000007</td>\n",
       "      <td>PUBLISHED</td>\n",
       "      <td>2000</td>\n",
       "      <td>NaN</td>\n",
       "      <td>NaN</td>\n",
       "      <td>MLE</td>\n",
       "      <td>10.7</td>\n",
       "      <td>10.67575</td>\n",
       "    </tr>\n",
       "    <tr>\n",
       "      <th>8334</th>\n",
       "      <td>WHOSIS_000001</td>\n",
       "      <td>PUBLISHED</td>\n",
       "      <td>2010</td>\n",
       "      <td>NaN</td>\n",
       "      <td>NaN</td>\n",
       "      <td>MLE</td>\n",
       "      <td>58.2</td>\n",
       "      <td>58.18198</td>\n",
       "    </tr>\n",
       "    <tr>\n",
       "      <th>8335</th>\n",
       "      <td>WHOSIS_000002</td>\n",
       "      <td>PUBLISHED</td>\n",
       "      <td>2010</td>\n",
       "      <td>NaN</td>\n",
       "      <td>NaN</td>\n",
       "      <td>MLE</td>\n",
       "      <td>51.6</td>\n",
       "      <td>51.56751</td>\n",
       "    </tr>\n",
       "    <tr>\n",
       "      <th>8336</th>\n",
       "      <td>WHOSIS_000015</td>\n",
       "      <td>PUBLISHED</td>\n",
       "      <td>2010</td>\n",
       "      <td>NaN</td>\n",
       "      <td>NaN</td>\n",
       "      <td>MLE</td>\n",
       "      <td>15.2</td>\n",
       "      <td>15.24089</td>\n",
       "    </tr>\n",
       "    <tr>\n",
       "      <th>8337</th>\n",
       "      <td>WHOSIS_000001</td>\n",
       "      <td>PUBLISHED</td>\n",
       "      <td>2010</td>\n",
       "      <td>NaN</td>\n",
       "      <td>NaN</td>\n",
       "      <td>FMLE</td>\n",
       "      <td>62.1</td>\n",
       "      <td>62.06323</td>\n",
       "    </tr>\n",
       "    <tr>\n",
       "      <th>...</th>\n",
       "      <td>...</td>\n",
       "      <td>...</td>\n",
       "      <td>...</td>\n",
       "      <td>...</td>\n",
       "      <td>...</td>\n",
       "      <td>...</td>\n",
       "      <td>...</td>\n",
       "      <td>...</td>\n",
       "    </tr>\n",
       "    <tr>\n",
       "      <th>9295</th>\n",
       "      <td>WHOSIS_000007</td>\n",
       "      <td>PUBLISHED</td>\n",
       "      <td>2019</td>\n",
       "      <td>WPR</td>\n",
       "      <td>NaN</td>\n",
       "      <td>FMLE</td>\n",
       "      <td>17.7</td>\n",
       "      <td>17.69337</td>\n",
       "    </tr>\n",
       "    <tr>\n",
       "      <th>9296</th>\n",
       "      <td>WHOSIS_000001</td>\n",
       "      <td>PUBLISHED</td>\n",
       "      <td>2000</td>\n",
       "      <td>WPR</td>\n",
       "      <td>NaN</td>\n",
       "      <td>BTSX</td>\n",
       "      <td>72.4</td>\n",
       "      <td>72.42226</td>\n",
       "    </tr>\n",
       "    <tr>\n",
       "      <th>9297</th>\n",
       "      <td>WHOSIS_000002</td>\n",
       "      <td>PUBLISHED</td>\n",
       "      <td>2000</td>\n",
       "      <td>WPR</td>\n",
       "      <td>NaN</td>\n",
       "      <td>BTSX</td>\n",
       "      <td>64.3</td>\n",
       "      <td>64.26698</td>\n",
       "    </tr>\n",
       "    <tr>\n",
       "      <th>9298</th>\n",
       "      <td>WHOSIS_000015</td>\n",
       "      <td>PUBLISHED</td>\n",
       "      <td>2000</td>\n",
       "      <td>WPR</td>\n",
       "      <td>NaN</td>\n",
       "      <td>BTSX</td>\n",
       "      <td>19.3</td>\n",
       "      <td>19.31877</td>\n",
       "    </tr>\n",
       "    <tr>\n",
       "      <th>9299</th>\n",
       "      <td>WHOSIS_000007</td>\n",
       "      <td>PUBLISHED</td>\n",
       "      <td>2019</td>\n",
       "      <td>WPR</td>\n",
       "      <td>NaN</td>\n",
       "      <td>BTSX</td>\n",
       "      <td>16.5</td>\n",
       "      <td>16.54433</td>\n",
       "    </tr>\n",
       "  </tbody>\n",
       "</table>\n",
       "<p>480 rows × 8 columns</p>\n",
       "</div>"
      ],
      "text/plain": [
       "                GHO PUBLISHSTATE  YEAR REGION COUNTRY   SEX  Display Value  \\\n",
       "8333  WHOSIS_000007    PUBLISHED  2000    NaN     NaN   MLE           10.7   \n",
       "8334  WHOSIS_000001    PUBLISHED  2010    NaN     NaN   MLE           58.2   \n",
       "8335  WHOSIS_000002    PUBLISHED  2010    NaN     NaN   MLE           51.6   \n",
       "8336  WHOSIS_000015    PUBLISHED  2010    NaN     NaN   MLE           15.2   \n",
       "8337  WHOSIS_000001    PUBLISHED  2010    NaN     NaN  FMLE           62.1   \n",
       "...             ...          ...   ...    ...     ...   ...            ...   \n",
       "9295  WHOSIS_000007    PUBLISHED  2019    WPR     NaN  FMLE           17.7   \n",
       "9296  WHOSIS_000001    PUBLISHED  2000    WPR     NaN  BTSX           72.4   \n",
       "9297  WHOSIS_000002    PUBLISHED  2000    WPR     NaN  BTSX           64.3   \n",
       "9298  WHOSIS_000015    PUBLISHED  2000    WPR     NaN  BTSX           19.3   \n",
       "9299  WHOSIS_000007    PUBLISHED  2019    WPR     NaN  BTSX           16.5   \n",
       "\n",
       "       Numeric  \n",
       "8333  10.67575  \n",
       "8334  58.18198  \n",
       "8335  51.56751  \n",
       "8336  15.24089  \n",
       "8337  62.06323  \n",
       "...        ...  \n",
       "9295  17.69337  \n",
       "9296  72.42226  \n",
       "9297  64.26698  \n",
       "9298  19.31877  \n",
       "9299  16.54433  \n",
       "\n",
       "[480 rows x 8 columns]"
      ]
     },
     "execution_count": 28,
     "metadata": {},
     "output_type": "execute_result"
    }
   ],
   "source": [
    "# Check work\n",
    "leam_df[country_df]"
   ]
  },
  {
   "cell_type": "code",
   "execution_count": 29,
   "id": "834619bc",
   "metadata": {},
   "outputs": [
    {
     "data": {
      "text/plain": [
       "array([nan, 'AFR', 'AMR', 'SEAR', 'EUR', 'EMR', 'WPR'], dtype=object)"
      ]
     },
     "execution_count": 29,
     "metadata": {},
     "output_type": "execute_result"
    }
   ],
   "source": [
    "# ensure GLOBAL no longer has NULL country values\n",
    "leam_df[country_df].REGION.unique()"
   ]
  },
  {
   "cell_type": "code",
   "execution_count": 30,
   "id": "071cea28",
   "metadata": {
    "scrolled": true
   },
   "outputs": [
    {
     "data": {
      "text/plain": [
       "COUNTRY          480\n",
       "REGION           192\n",
       "GHO                0\n",
       "PUBLISHSTATE       0\n",
       "YEAR               0\n",
       "SEX                0\n",
       "Display Value      0\n",
       "Numeric            0\n",
       "dtype: int64"
      ]
     },
     "execution_count": 30,
     "metadata": {},
     "output_type": "execute_result"
    }
   ],
   "source": [
    "# Show Null Count by Column in descending order\n",
    "leam_df.isnull().sum().sort_values(ascending=False)"
   ]
  },
  {
   "cell_type": "code",
   "execution_count": 31,
   "id": "bdf4c639",
   "metadata": {},
   "outputs": [
    {
     "data": {
      "text/plain": [
       "9312"
      ]
     },
     "execution_count": 31,
     "metadata": {},
     "output_type": "execute_result"
    }
   ],
   "source": [
    "# Check Row Count\n",
    "leam_df.shape[0]"
   ]
  },
  {
   "cell_type": "code",
   "execution_count": 32,
   "id": "796c291e",
   "metadata": {
    "scrolled": true
   },
   "outputs": [
    {
     "data": {
      "text/html": [
       "<div>\n",
       "<style scoped>\n",
       "    .dataframe tbody tr th:only-of-type {\n",
       "        vertical-align: middle;\n",
       "    }\n",
       "\n",
       "    .dataframe tbody tr th {\n",
       "        vertical-align: top;\n",
       "    }\n",
       "\n",
       "    .dataframe thead th {\n",
       "        text-align: right;\n",
       "    }\n",
       "</style>\n",
       "<table border=\"1\" class=\"dataframe\">\n",
       "  <thead>\n",
       "    <tr style=\"text-align: right;\">\n",
       "      <th></th>\n",
       "      <th>0</th>\n",
       "      <th>1</th>\n",
       "      <th>2</th>\n",
       "      <th>3</th>\n",
       "      <th>4</th>\n",
       "      <th>5</th>\n",
       "      <th>6</th>\n",
       "      <th>7</th>\n",
       "      <th>8</th>\n",
       "      <th>9</th>\n",
       "      <th>...</th>\n",
       "      <th>9302</th>\n",
       "      <th>9303</th>\n",
       "      <th>9304</th>\n",
       "      <th>9305</th>\n",
       "      <th>9306</th>\n",
       "      <th>9307</th>\n",
       "      <th>9308</th>\n",
       "      <th>9309</th>\n",
       "      <th>9310</th>\n",
       "      <th>9311</th>\n",
       "    </tr>\n",
       "  </thead>\n",
       "  <tbody>\n",
       "    <tr>\n",
       "      <th>GHO</th>\n",
       "      <td>WHOSIS_000002</td>\n",
       "      <td>WHOSIS_000015</td>\n",
       "      <td>WHOSIS_000007</td>\n",
       "      <td>WHOSIS_000001</td>\n",
       "      <td>WHOSIS_000015</td>\n",
       "      <td>WHOSIS_000007</td>\n",
       "      <td>WHOSIS_000001</td>\n",
       "      <td>WHOSIS_000002</td>\n",
       "      <td>WHOSIS_000007</td>\n",
       "      <td>WHOSIS_000001</td>\n",
       "      <td>...</td>\n",
       "      <td>WHOSIS_000007</td>\n",
       "      <td>WHOSIS_000001</td>\n",
       "      <td>WHOSIS_000015</td>\n",
       "      <td>WHOSIS_000007</td>\n",
       "      <td>WHOSIS_000001</td>\n",
       "      <td>WHOSIS_000002</td>\n",
       "      <td>WHOSIS_000007</td>\n",
       "      <td>WHOSIS_000001</td>\n",
       "      <td>WHOSIS_000002</td>\n",
       "      <td>WHOSIS_000015</td>\n",
       "    </tr>\n",
       "    <tr>\n",
       "      <th>PUBLISHSTATE</th>\n",
       "      <td>PUBLISHED</td>\n",
       "      <td>PUBLISHED</td>\n",
       "      <td>PUBLISHED</td>\n",
       "      <td>PUBLISHED</td>\n",
       "      <td>PUBLISHED</td>\n",
       "      <td>PUBLISHED</td>\n",
       "      <td>PUBLISHED</td>\n",
       "      <td>PUBLISHED</td>\n",
       "      <td>PUBLISHED</td>\n",
       "      <td>PUBLISHED</td>\n",
       "      <td>...</td>\n",
       "      <td>PUBLISHED</td>\n",
       "      <td>PUBLISHED</td>\n",
       "      <td>PUBLISHED</td>\n",
       "      <td>PUBLISHED</td>\n",
       "      <td>PUBLISHED</td>\n",
       "      <td>PUBLISHED</td>\n",
       "      <td>PUBLISHED</td>\n",
       "      <td>PUBLISHED</td>\n",
       "      <td>PUBLISHED</td>\n",
       "      <td>PUBLISHED</td>\n",
       "    </tr>\n",
       "    <tr>\n",
       "      <th>YEAR</th>\n",
       "      <td>2010</td>\n",
       "      <td>2010</td>\n",
       "      <td>2010</td>\n",
       "      <td>2015</td>\n",
       "      <td>2010</td>\n",
       "      <td>2010</td>\n",
       "      <td>2015</td>\n",
       "      <td>2015</td>\n",
       "      <td>2010</td>\n",
       "      <td>2015</td>\n",
       "      <td>...</td>\n",
       "      <td>2000</td>\n",
       "      <td>2010</td>\n",
       "      <td>2000</td>\n",
       "      <td>2000</td>\n",
       "      <td>2010</td>\n",
       "      <td>2010</td>\n",
       "      <td>2000</td>\n",
       "      <td>2010</td>\n",
       "      <td>2010</td>\n",
       "      <td>2010</td>\n",
       "    </tr>\n",
       "    <tr>\n",
       "      <th>REGION</th>\n",
       "      <td>EMR</td>\n",
       "      <td>EMR</td>\n",
       "      <td>EMR</td>\n",
       "      <td>EMR</td>\n",
       "      <td>EMR</td>\n",
       "      <td>EMR</td>\n",
       "      <td>EMR</td>\n",
       "      <td>EMR</td>\n",
       "      <td>EMR</td>\n",
       "      <td>EMR</td>\n",
       "      <td>...</td>\n",
       "      <td>GLOBAL</td>\n",
       "      <td>GLOBAL</td>\n",
       "      <td>GLOBAL</td>\n",
       "      <td>GLOBAL</td>\n",
       "      <td>GLOBAL</td>\n",
       "      <td>GLOBAL</td>\n",
       "      <td>GLOBAL</td>\n",
       "      <td>GLOBAL</td>\n",
       "      <td>GLOBAL</td>\n",
       "      <td>GLOBAL</td>\n",
       "    </tr>\n",
       "    <tr>\n",
       "      <th>COUNTRY</th>\n",
       "      <td>AFG</td>\n",
       "      <td>AFG</td>\n",
       "      <td>AFG</td>\n",
       "      <td>AFG</td>\n",
       "      <td>AFG</td>\n",
       "      <td>AFG</td>\n",
       "      <td>AFG</td>\n",
       "      <td>AFG</td>\n",
       "      <td>AFG</td>\n",
       "      <td>AFG</td>\n",
       "      <td>...</td>\n",
       "      <td>GLOBAL</td>\n",
       "      <td>GLOBAL</td>\n",
       "      <td>GLOBAL</td>\n",
       "      <td>GLOBAL</td>\n",
       "      <td>GLOBAL</td>\n",
       "      <td>GLOBAL</td>\n",
       "      <td>GLOBAL</td>\n",
       "      <td>GLOBAL</td>\n",
       "      <td>GLOBAL</td>\n",
       "      <td>GLOBAL</td>\n",
       "    </tr>\n",
       "    <tr>\n",
       "      <th>SEX</th>\n",
       "      <td>MLE</td>\n",
       "      <td>MLE</td>\n",
       "      <td>MLE</td>\n",
       "      <td>MLE</td>\n",
       "      <td>FMLE</td>\n",
       "      <td>FMLE</td>\n",
       "      <td>FMLE</td>\n",
       "      <td>FMLE</td>\n",
       "      <td>BTSX</td>\n",
       "      <td>BTSX</td>\n",
       "      <td>...</td>\n",
       "      <td>MLE</td>\n",
       "      <td>MLE</td>\n",
       "      <td>FMLE</td>\n",
       "      <td>FMLE</td>\n",
       "      <td>FMLE</td>\n",
       "      <td>FMLE</td>\n",
       "      <td>BTSX</td>\n",
       "      <td>BTSX</td>\n",
       "      <td>BTSX</td>\n",
       "      <td>BTSX</td>\n",
       "    </tr>\n",
       "    <tr>\n",
       "      <th>Display Value</th>\n",
       "      <td>51.5</td>\n",
       "      <td>15.1</td>\n",
       "      <td>11.1</td>\n",
       "      <td>61.0</td>\n",
       "      <td>15.2</td>\n",
       "      <td>10.7</td>\n",
       "      <td>62.3</td>\n",
       "      <td>52.4</td>\n",
       "      <td>10.9</td>\n",
       "      <td>61.7</td>\n",
       "      <td>...</td>\n",
       "      <td>13.1</td>\n",
       "      <td>68.0</td>\n",
       "      <td>20.4</td>\n",
       "      <td>15.1</td>\n",
       "      <td>73.2</td>\n",
       "      <td>62.9</td>\n",
       "      <td>14.1</td>\n",
       "      <td>70.5</td>\n",
       "      <td>61.5</td>\n",
       "      <td>20.1</td>\n",
       "    </tr>\n",
       "    <tr>\n",
       "      <th>Numeric</th>\n",
       "      <td>51.50902</td>\n",
       "      <td>15.07067</td>\n",
       "      <td>11.13451</td>\n",
       "      <td>61.03658</td>\n",
       "      <td>15.16855</td>\n",
       "      <td>10.71348</td>\n",
       "      <td>62.34584</td>\n",
       "      <td>52.44153</td>\n",
       "      <td>10.90975</td>\n",
       "      <td>61.65429</td>\n",
       "      <td>...</td>\n",
       "      <td>13.11078</td>\n",
       "      <td>67.97157</td>\n",
       "      <td>20.39618</td>\n",
       "      <td>15.10483</td>\n",
       "      <td>73.20403</td>\n",
       "      <td>62.88848</td>\n",
       "      <td>14.13883</td>\n",
       "      <td>70.52787</td>\n",
       "      <td>61.53046</td>\n",
       "      <td>20.13311</td>\n",
       "    </tr>\n",
       "  </tbody>\n",
       "</table>\n",
       "<p>8 rows × 8832 columns</p>\n",
       "</div>"
      ],
      "text/plain": [
       "                        0              1              2              3     \\\n",
       "GHO            WHOSIS_000002  WHOSIS_000015  WHOSIS_000007  WHOSIS_000001   \n",
       "PUBLISHSTATE       PUBLISHED      PUBLISHED      PUBLISHED      PUBLISHED   \n",
       "YEAR                    2010           2010           2010           2015   \n",
       "REGION                   EMR            EMR            EMR            EMR   \n",
       "COUNTRY                  AFG            AFG            AFG            AFG   \n",
       "SEX                      MLE            MLE            MLE            MLE   \n",
       "Display Value           51.5           15.1           11.1           61.0   \n",
       "Numeric             51.50902       15.07067       11.13451       61.03658   \n",
       "\n",
       "                        4              5              6              7     \\\n",
       "GHO            WHOSIS_000015  WHOSIS_000007  WHOSIS_000001  WHOSIS_000002   \n",
       "PUBLISHSTATE       PUBLISHED      PUBLISHED      PUBLISHED      PUBLISHED   \n",
       "YEAR                    2010           2010           2015           2015   \n",
       "REGION                   EMR            EMR            EMR            EMR   \n",
       "COUNTRY                  AFG            AFG            AFG            AFG   \n",
       "SEX                     FMLE           FMLE           FMLE           FMLE   \n",
       "Display Value           15.2           10.7           62.3           52.4   \n",
       "Numeric             15.16855       10.71348       62.34584       52.44153   \n",
       "\n",
       "                        8              9     ...           9302  \\\n",
       "GHO            WHOSIS_000007  WHOSIS_000001  ...  WHOSIS_000007   \n",
       "PUBLISHSTATE       PUBLISHED      PUBLISHED  ...      PUBLISHED   \n",
       "YEAR                    2010           2015  ...           2000   \n",
       "REGION                   EMR            EMR  ...         GLOBAL   \n",
       "COUNTRY                  AFG            AFG  ...         GLOBAL   \n",
       "SEX                     BTSX           BTSX  ...            MLE   \n",
       "Display Value           10.9           61.7  ...           13.1   \n",
       "Numeric             10.90975       61.65429  ...       13.11078   \n",
       "\n",
       "                        9303           9304           9305           9306  \\\n",
       "GHO            WHOSIS_000001  WHOSIS_000015  WHOSIS_000007  WHOSIS_000001   \n",
       "PUBLISHSTATE       PUBLISHED      PUBLISHED      PUBLISHED      PUBLISHED   \n",
       "YEAR                    2010           2000           2000           2010   \n",
       "REGION                GLOBAL         GLOBAL         GLOBAL         GLOBAL   \n",
       "COUNTRY               GLOBAL         GLOBAL         GLOBAL         GLOBAL   \n",
       "SEX                      MLE           FMLE           FMLE           FMLE   \n",
       "Display Value           68.0           20.4           15.1           73.2   \n",
       "Numeric             67.97157       20.39618       15.10483       73.20403   \n",
       "\n",
       "                        9307           9308           9309           9310  \\\n",
       "GHO            WHOSIS_000002  WHOSIS_000007  WHOSIS_000001  WHOSIS_000002   \n",
       "PUBLISHSTATE       PUBLISHED      PUBLISHED      PUBLISHED      PUBLISHED   \n",
       "YEAR                    2010           2000           2010           2010   \n",
       "REGION                GLOBAL         GLOBAL         GLOBAL         GLOBAL   \n",
       "COUNTRY               GLOBAL         GLOBAL         GLOBAL         GLOBAL   \n",
       "SEX                     FMLE           BTSX           BTSX           BTSX   \n",
       "Display Value           62.9           14.1           70.5           61.5   \n",
       "Numeric             62.88848       14.13883       70.52787       61.53046   \n",
       "\n",
       "                        9311  \n",
       "GHO            WHOSIS_000015  \n",
       "PUBLISHSTATE       PUBLISHED  \n",
       "YEAR                    2010  \n",
       "REGION                GLOBAL  \n",
       "COUNTRY               GLOBAL  \n",
       "SEX                     BTSX  \n",
       "Display Value           20.1  \n",
       "Numeric             20.13311  \n",
       "\n",
       "[8 rows x 8832 columns]"
      ]
     },
     "execution_count": 32,
     "metadata": {},
     "output_type": "execute_result"
    }
   ],
   "source": [
    "# Check effect of Dropping all NaN in DataFrame\n",
    "leam_df.dropna().T"
   ]
  },
  {
   "cell_type": "code",
   "execution_count": 33,
   "id": "7a634af0",
   "metadata": {},
   "outputs": [
    {
     "data": {
      "text/plain": [
       "480"
      ]
     },
     "execution_count": 33,
     "metadata": {},
     "output_type": "execute_result"
    }
   ],
   "source": [
    "# Do the Math\n",
    "leam_df.shape[0] - leam_df.dropna().shape[0]"
   ]
  },
  {
   "cell_type": "code",
   "execution_count": 34,
   "id": "d6352231",
   "metadata": {
    "scrolled": true
   },
   "outputs": [
    {
     "name": "stdout",
     "output_type": "stream",
     "text": [
      "Remaining Null/NaN equals 5.0 % of entries\n"
     ]
    }
   ],
   "source": [
    "# Check Percentage of dropping remainig NULL\n",
    "print(f'Remaining Null/NaN equals {round(leam_df.dropna().shape[0] / leam_df.shape[0] - 1, 2) * -100} % of entries')"
   ]
  },
  {
   "cell_type": "code",
   "execution_count": 35,
   "id": "a56df24c",
   "metadata": {
    "scrolled": true
   },
   "outputs": [],
   "source": [
    "# DROP remaining Null\n",
    "leam_df = leam_df.dropna()"
   ]
  },
  {
   "cell_type": "code",
   "execution_count": 36,
   "id": "2d078eb7",
   "metadata": {},
   "outputs": [
    {
     "data": {
      "text/html": [
       "<div>\n",
       "<style scoped>\n",
       "    .dataframe tbody tr th:only-of-type {\n",
       "        vertical-align: middle;\n",
       "    }\n",
       "\n",
       "    .dataframe tbody tr th {\n",
       "        vertical-align: top;\n",
       "    }\n",
       "\n",
       "    .dataframe thead th {\n",
       "        text-align: right;\n",
       "    }\n",
       "</style>\n",
       "<table border=\"1\" class=\"dataframe\">\n",
       "  <thead>\n",
       "    <tr style=\"text-align: right;\">\n",
       "      <th></th>\n",
       "      <th>GHO</th>\n",
       "      <th>PUBLISHSTATE</th>\n",
       "      <th>YEAR</th>\n",
       "      <th>REGION</th>\n",
       "      <th>COUNTRY</th>\n",
       "      <th>SEX</th>\n",
       "      <th>Display Value</th>\n",
       "      <th>Numeric</th>\n",
       "    </tr>\n",
       "  </thead>\n",
       "  <tbody>\n",
       "    <tr>\n",
       "      <th>0</th>\n",
       "      <td>WHOSIS_000002</td>\n",
       "      <td>PUBLISHED</td>\n",
       "      <td>2010</td>\n",
       "      <td>EMR</td>\n",
       "      <td>AFG</td>\n",
       "      <td>MLE</td>\n",
       "      <td>51.5</td>\n",
       "      <td>51.50902</td>\n",
       "    </tr>\n",
       "    <tr>\n",
       "      <th>1</th>\n",
       "      <td>WHOSIS_000015</td>\n",
       "      <td>PUBLISHED</td>\n",
       "      <td>2010</td>\n",
       "      <td>EMR</td>\n",
       "      <td>AFG</td>\n",
       "      <td>MLE</td>\n",
       "      <td>15.1</td>\n",
       "      <td>15.07067</td>\n",
       "    </tr>\n",
       "    <tr>\n",
       "      <th>2</th>\n",
       "      <td>WHOSIS_000007</td>\n",
       "      <td>PUBLISHED</td>\n",
       "      <td>2010</td>\n",
       "      <td>EMR</td>\n",
       "      <td>AFG</td>\n",
       "      <td>MLE</td>\n",
       "      <td>11.1</td>\n",
       "      <td>11.13451</td>\n",
       "    </tr>\n",
       "    <tr>\n",
       "      <th>3</th>\n",
       "      <td>WHOSIS_000001</td>\n",
       "      <td>PUBLISHED</td>\n",
       "      <td>2015</td>\n",
       "      <td>EMR</td>\n",
       "      <td>AFG</td>\n",
       "      <td>MLE</td>\n",
       "      <td>61.0</td>\n",
       "      <td>61.03658</td>\n",
       "    </tr>\n",
       "    <tr>\n",
       "      <th>4</th>\n",
       "      <td>WHOSIS_000015</td>\n",
       "      <td>PUBLISHED</td>\n",
       "      <td>2010</td>\n",
       "      <td>EMR</td>\n",
       "      <td>AFG</td>\n",
       "      <td>FMLE</td>\n",
       "      <td>15.2</td>\n",
       "      <td>15.16855</td>\n",
       "    </tr>\n",
       "    <tr>\n",
       "      <th>...</th>\n",
       "      <td>...</td>\n",
       "      <td>...</td>\n",
       "      <td>...</td>\n",
       "      <td>...</td>\n",
       "      <td>...</td>\n",
       "      <td>...</td>\n",
       "      <td>...</td>\n",
       "      <td>...</td>\n",
       "    </tr>\n",
       "    <tr>\n",
       "      <th>9307</th>\n",
       "      <td>WHOSIS_000002</td>\n",
       "      <td>PUBLISHED</td>\n",
       "      <td>2010</td>\n",
       "      <td>GLOBAL</td>\n",
       "      <td>GLOBAL</td>\n",
       "      <td>FMLE</td>\n",
       "      <td>62.9</td>\n",
       "      <td>62.88848</td>\n",
       "    </tr>\n",
       "    <tr>\n",
       "      <th>9308</th>\n",
       "      <td>WHOSIS_000007</td>\n",
       "      <td>PUBLISHED</td>\n",
       "      <td>2000</td>\n",
       "      <td>GLOBAL</td>\n",
       "      <td>GLOBAL</td>\n",
       "      <td>BTSX</td>\n",
       "      <td>14.1</td>\n",
       "      <td>14.13883</td>\n",
       "    </tr>\n",
       "    <tr>\n",
       "      <th>9309</th>\n",
       "      <td>WHOSIS_000001</td>\n",
       "      <td>PUBLISHED</td>\n",
       "      <td>2010</td>\n",
       "      <td>GLOBAL</td>\n",
       "      <td>GLOBAL</td>\n",
       "      <td>BTSX</td>\n",
       "      <td>70.5</td>\n",
       "      <td>70.52787</td>\n",
       "    </tr>\n",
       "    <tr>\n",
       "      <th>9310</th>\n",
       "      <td>WHOSIS_000002</td>\n",
       "      <td>PUBLISHED</td>\n",
       "      <td>2010</td>\n",
       "      <td>GLOBAL</td>\n",
       "      <td>GLOBAL</td>\n",
       "      <td>BTSX</td>\n",
       "      <td>61.5</td>\n",
       "      <td>61.53046</td>\n",
       "    </tr>\n",
       "    <tr>\n",
       "      <th>9311</th>\n",
       "      <td>WHOSIS_000015</td>\n",
       "      <td>PUBLISHED</td>\n",
       "      <td>2010</td>\n",
       "      <td>GLOBAL</td>\n",
       "      <td>GLOBAL</td>\n",
       "      <td>BTSX</td>\n",
       "      <td>20.1</td>\n",
       "      <td>20.13311</td>\n",
       "    </tr>\n",
       "  </tbody>\n",
       "</table>\n",
       "<p>8832 rows × 8 columns</p>\n",
       "</div>"
      ],
      "text/plain": [
       "                GHO PUBLISHSTATE  YEAR  REGION COUNTRY   SEX  Display Value  \\\n",
       "0     WHOSIS_000002    PUBLISHED  2010     EMR     AFG   MLE           51.5   \n",
       "1     WHOSIS_000015    PUBLISHED  2010     EMR     AFG   MLE           15.1   \n",
       "2     WHOSIS_000007    PUBLISHED  2010     EMR     AFG   MLE           11.1   \n",
       "3     WHOSIS_000001    PUBLISHED  2015     EMR     AFG   MLE           61.0   \n",
       "4     WHOSIS_000015    PUBLISHED  2010     EMR     AFG  FMLE           15.2   \n",
       "...             ...          ...   ...     ...     ...   ...            ...   \n",
       "9307  WHOSIS_000002    PUBLISHED  2010  GLOBAL  GLOBAL  FMLE           62.9   \n",
       "9308  WHOSIS_000007    PUBLISHED  2000  GLOBAL  GLOBAL  BTSX           14.1   \n",
       "9309  WHOSIS_000001    PUBLISHED  2010  GLOBAL  GLOBAL  BTSX           70.5   \n",
       "9310  WHOSIS_000002    PUBLISHED  2010  GLOBAL  GLOBAL  BTSX           61.5   \n",
       "9311  WHOSIS_000015    PUBLISHED  2010  GLOBAL  GLOBAL  BTSX           20.1   \n",
       "\n",
       "       Numeric  \n",
       "0     51.50902  \n",
       "1     15.07067  \n",
       "2     11.13451  \n",
       "3     61.03658  \n",
       "4     15.16855  \n",
       "...        ...  \n",
       "9307  62.88848  \n",
       "9308  14.13883  \n",
       "9309  70.52787  \n",
       "9310  61.53046  \n",
       "9311  20.13311  \n",
       "\n",
       "[8832 rows x 8 columns]"
      ]
     },
     "execution_count": 36,
     "metadata": {},
     "output_type": "execute_result"
    }
   ],
   "source": [
    "# Take a look\n",
    "leam_df"
   ]
  },
  {
   "cell_type": "code",
   "execution_count": 37,
   "id": "9970b262",
   "metadata": {},
   "outputs": [
    {
     "data": {
      "text/plain": [
       "GHO              0\n",
       "PUBLISHSTATE     0\n",
       "YEAR             0\n",
       "REGION           0\n",
       "COUNTRY          0\n",
       "SEX              0\n",
       "Display Value    0\n",
       "Numeric          0\n",
       "dtype: int64"
      ]
     },
     "execution_count": 37,
     "metadata": {},
     "output_type": "execute_result"
    }
   ],
   "source": [
    "# Check Work\n",
    "leam_df.isnull().sum()"
   ]
  },
  {
   "cell_type": "markdown",
   "id": "b02bf9f9",
   "metadata": {},
   "source": [
    "<div class=\"alert alert-warning\">\n",
    "\n",
    "# PIVOT"
   ]
  },
  {
   "cell_type": "code",
   "execution_count": 38,
   "id": "984ba944",
   "metadata": {},
   "outputs": [],
   "source": [
    "# Create df to check for duplicate records using columns that would create a unique index\n",
    "dupe = leam_df[['YEAR','COUNTRY','SEX', 'GHO', 'Numeric']].duplicated(keep=False)"
   ]
  },
  {
   "cell_type": "code",
   "execution_count": 39,
   "id": "ca4d1ee4",
   "metadata": {
    "scrolled": true
   },
   "outputs": [
    {
     "data": {
      "text/html": [
       "<div>\n",
       "<style scoped>\n",
       "    .dataframe tbody tr th:only-of-type {\n",
       "        vertical-align: middle;\n",
       "    }\n",
       "\n",
       "    .dataframe tbody tr th {\n",
       "        vertical-align: top;\n",
       "    }\n",
       "\n",
       "    .dataframe thead th {\n",
       "        text-align: right;\n",
       "    }\n",
       "</style>\n",
       "<table border=\"1\" class=\"dataframe\">\n",
       "  <thead>\n",
       "    <tr style=\"text-align: right;\">\n",
       "      <th></th>\n",
       "    </tr>\n",
       "  </thead>\n",
       "  <tbody>\n",
       "    <tr>\n",
       "      <th>GHO</th>\n",
       "    </tr>\n",
       "    <tr>\n",
       "      <th>PUBLISHSTATE</th>\n",
       "    </tr>\n",
       "    <tr>\n",
       "      <th>YEAR</th>\n",
       "    </tr>\n",
       "    <tr>\n",
       "      <th>REGION</th>\n",
       "    </tr>\n",
       "    <tr>\n",
       "      <th>COUNTRY</th>\n",
       "    </tr>\n",
       "    <tr>\n",
       "      <th>SEX</th>\n",
       "    </tr>\n",
       "    <tr>\n",
       "      <th>Display Value</th>\n",
       "    </tr>\n",
       "    <tr>\n",
       "      <th>Numeric</th>\n",
       "    </tr>\n",
       "  </tbody>\n",
       "</table>\n",
       "</div>"
      ],
      "text/plain": [
       "Empty DataFrame\n",
       "Columns: []\n",
       "Index: [GHO, PUBLISHSTATE, YEAR, REGION, COUNTRY, SEX, Display Value, Numeric]"
      ]
     },
     "execution_count": 39,
     "metadata": {},
     "output_type": "execute_result"
    }
   ],
   "source": [
    "# Take a look (should be empty)\n",
    "leam_df[dupe].T"
   ]
  },
  {
   "cell_type": "code",
   "execution_count": 40,
   "id": "b38ff2c7",
   "metadata": {},
   "outputs": [],
   "source": [
    "# Create pivot table\n",
    "leam_pivot = leam_df.pivot_table(index=['YEAR','COUNTRY','SEX'], columns='GHO', values='Numeric')"
   ]
  },
  {
   "cell_type": "code",
   "execution_count": 41,
   "id": "64948fbb",
   "metadata": {},
   "outputs": [
    {
     "data": {
      "text/html": [
       "<div>\n",
       "<style scoped>\n",
       "    .dataframe tbody tr th:only-of-type {\n",
       "        vertical-align: middle;\n",
       "    }\n",
       "\n",
       "    .dataframe tbody tr th {\n",
       "        vertical-align: top;\n",
       "    }\n",
       "\n",
       "    .dataframe thead th {\n",
       "        text-align: right;\n",
       "    }\n",
       "</style>\n",
       "<table border=\"1\" class=\"dataframe\">\n",
       "  <thead>\n",
       "    <tr style=\"text-align: right;\">\n",
       "      <th></th>\n",
       "      <th></th>\n",
       "      <th>GHO</th>\n",
       "      <th>WHOSIS_000001</th>\n",
       "      <th>WHOSIS_000002</th>\n",
       "      <th>WHOSIS_000007</th>\n",
       "      <th>WHOSIS_000015</th>\n",
       "    </tr>\n",
       "    <tr>\n",
       "      <th>YEAR</th>\n",
       "      <th>COUNTRY</th>\n",
       "      <th>SEX</th>\n",
       "      <th></th>\n",
       "      <th></th>\n",
       "      <th></th>\n",
       "      <th></th>\n",
       "    </tr>\n",
       "  </thead>\n",
       "  <tbody>\n",
       "    <tr>\n",
       "      <th rowspan=\"5\" valign=\"top\">2000</th>\n",
       "      <th rowspan=\"3\" valign=\"top\">AFG</th>\n",
       "      <th>BTSX</th>\n",
       "      <td>54.98949</td>\n",
       "      <td>46.76397</td>\n",
       "      <td>10.16798</td>\n",
       "      <td>13.92182</td>\n",
       "    </tr>\n",
       "    <tr>\n",
       "      <th>FMLE</th>\n",
       "      <td>55.41726</td>\n",
       "      <td>46.58344</td>\n",
       "      <td>10.11293</td>\n",
       "      <td>14.20647</td>\n",
       "    </tr>\n",
       "    <tr>\n",
       "      <th>MLE</th>\n",
       "      <td>54.57449</td>\n",
       "      <td>46.93113</td>\n",
       "      <td>10.22541</td>\n",
       "      <td>13.63259</td>\n",
       "    </tr>\n",
       "    <tr>\n",
       "      <th rowspan=\"2\" valign=\"top\">AGO</th>\n",
       "      <th>BTSX</th>\n",
       "      <td>49.30265</td>\n",
       "      <td>42.87378</td>\n",
       "      <td>10.73909</td>\n",
       "      <td>14.41537</td>\n",
       "    </tr>\n",
       "    <tr>\n",
       "      <th>FMLE</th>\n",
       "      <td>52.12018</td>\n",
       "      <td>44.74432</td>\n",
       "      <td>11.80188</td>\n",
       "      <td>16.00562</td>\n",
       "    </tr>\n",
       "    <tr>\n",
       "      <th>...</th>\n",
       "      <th>...</th>\n",
       "      <th>...</th>\n",
       "      <td>...</td>\n",
       "      <td>...</td>\n",
       "      <td>...</td>\n",
       "      <td>...</td>\n",
       "    </tr>\n",
       "    <tr>\n",
       "      <th rowspan=\"5\" valign=\"top\">2019</th>\n",
       "      <th rowspan=\"2\" valign=\"top\">ZMB</th>\n",
       "      <th>FMLE</th>\n",
       "      <td>65.36993</td>\n",
       "      <td>56.31194</td>\n",
       "      <td>13.65570</td>\n",
       "      <td>18.04779</td>\n",
       "    </tr>\n",
       "    <tr>\n",
       "      <th>MLE</th>\n",
       "      <td>59.53606</td>\n",
       "      <td>52.49771</td>\n",
       "      <td>11.27271</td>\n",
       "      <td>14.68030</td>\n",
       "    </tr>\n",
       "    <tr>\n",
       "      <th rowspan=\"3\" valign=\"top\">ZWE</th>\n",
       "      <th>BTSX</th>\n",
       "      <td>60.68252</td>\n",
       "      <td>53.06544</td>\n",
       "      <td>11.48429</td>\n",
       "      <td>15.55015</td>\n",
       "    </tr>\n",
       "    <tr>\n",
       "      <th>FMLE</th>\n",
       "      <td>63.60674</td>\n",
       "      <td>54.80482</td>\n",
       "      <td>12.43903</td>\n",
       "      <td>16.98877</td>\n",
       "    </tr>\n",
       "    <tr>\n",
       "      <th>MLE</th>\n",
       "      <td>57.51101</td>\n",
       "      <td>51.20607</td>\n",
       "      <td>10.18165</td>\n",
       "      <td>13.58761</td>\n",
       "    </tr>\n",
       "  </tbody>\n",
       "</table>\n",
       "<p>2208 rows × 4 columns</p>\n",
       "</div>"
      ],
      "text/plain": [
       "GHO                WHOSIS_000001  WHOSIS_000002  WHOSIS_000007  WHOSIS_000015\n",
       "YEAR COUNTRY SEX                                                             \n",
       "2000 AFG     BTSX       54.98949       46.76397       10.16798       13.92182\n",
       "             FMLE       55.41726       46.58344       10.11293       14.20647\n",
       "             MLE        54.57449       46.93113       10.22541       13.63259\n",
       "     AGO     BTSX       49.30265       42.87378       10.73909       14.41537\n",
       "             FMLE       52.12018       44.74432       11.80188       16.00562\n",
       "...                          ...            ...            ...            ...\n",
       "2019 ZMB     FMLE       65.36993       56.31194       13.65570       18.04779\n",
       "             MLE        59.53606       52.49771       11.27271       14.68030\n",
       "     ZWE     BTSX       60.68252       53.06544       11.48429       15.55015\n",
       "             FMLE       63.60674       54.80482       12.43903       16.98877\n",
       "             MLE        57.51101       51.20607       10.18165       13.58761\n",
       "\n",
       "[2208 rows x 4 columns]"
      ]
     },
     "execution_count": 41,
     "metadata": {},
     "output_type": "execute_result"
    }
   ],
   "source": [
    "# Take a look\n",
    "leam_pivot"
   ]
  },
  {
   "cell_type": "code",
   "execution_count": 42,
   "id": "7b7443a3",
   "metadata": {},
   "outputs": [],
   "source": [
    "# assign pivot to df and reset index\n",
    "leam_df = leam_pivot.reset_index()"
   ]
  },
  {
   "cell_type": "code",
   "execution_count": 43,
   "id": "a7c230d2",
   "metadata": {},
   "outputs": [
    {
     "data": {
      "text/html": [
       "<div>\n",
       "<style scoped>\n",
       "    .dataframe tbody tr th:only-of-type {\n",
       "        vertical-align: middle;\n",
       "    }\n",
       "\n",
       "    .dataframe tbody tr th {\n",
       "        vertical-align: top;\n",
       "    }\n",
       "\n",
       "    .dataframe thead th {\n",
       "        text-align: right;\n",
       "    }\n",
       "</style>\n",
       "<table border=\"1\" class=\"dataframe\">\n",
       "  <thead>\n",
       "    <tr style=\"text-align: right;\">\n",
       "      <th></th>\n",
       "      <th>0</th>\n",
       "      <th>1</th>\n",
       "      <th>2</th>\n",
       "      <th>3</th>\n",
       "      <th>4</th>\n",
       "      <th>5</th>\n",
       "      <th>6</th>\n",
       "      <th>7</th>\n",
       "      <th>8</th>\n",
       "      <th>9</th>\n",
       "      <th>...</th>\n",
       "      <th>2198</th>\n",
       "      <th>2199</th>\n",
       "      <th>2200</th>\n",
       "      <th>2201</th>\n",
       "      <th>2202</th>\n",
       "      <th>2203</th>\n",
       "      <th>2204</th>\n",
       "      <th>2205</th>\n",
       "      <th>2206</th>\n",
       "      <th>2207</th>\n",
       "    </tr>\n",
       "    <tr>\n",
       "      <th>GHO</th>\n",
       "      <th></th>\n",
       "      <th></th>\n",
       "      <th></th>\n",
       "      <th></th>\n",
       "      <th></th>\n",
       "      <th></th>\n",
       "      <th></th>\n",
       "      <th></th>\n",
       "      <th></th>\n",
       "      <th></th>\n",
       "      <th></th>\n",
       "      <th></th>\n",
       "      <th></th>\n",
       "      <th></th>\n",
       "      <th></th>\n",
       "      <th></th>\n",
       "      <th></th>\n",
       "      <th></th>\n",
       "      <th></th>\n",
       "      <th></th>\n",
       "      <th></th>\n",
       "    </tr>\n",
       "  </thead>\n",
       "  <tbody>\n",
       "    <tr>\n",
       "      <th>YEAR</th>\n",
       "      <td>2000</td>\n",
       "      <td>2000</td>\n",
       "      <td>2000</td>\n",
       "      <td>2000</td>\n",
       "      <td>2000</td>\n",
       "      <td>2000</td>\n",
       "      <td>2000</td>\n",
       "      <td>2000</td>\n",
       "      <td>2000</td>\n",
       "      <td>2000</td>\n",
       "      <td>...</td>\n",
       "      <td>2019</td>\n",
       "      <td>2019</td>\n",
       "      <td>2019</td>\n",
       "      <td>2019</td>\n",
       "      <td>2019</td>\n",
       "      <td>2019</td>\n",
       "      <td>2019</td>\n",
       "      <td>2019</td>\n",
       "      <td>2019</td>\n",
       "      <td>2019</td>\n",
       "    </tr>\n",
       "    <tr>\n",
       "      <th>COUNTRY</th>\n",
       "      <td>AFG</td>\n",
       "      <td>AFG</td>\n",
       "      <td>AFG</td>\n",
       "      <td>AGO</td>\n",
       "      <td>AGO</td>\n",
       "      <td>AGO</td>\n",
       "      <td>ALB</td>\n",
       "      <td>ALB</td>\n",
       "      <td>ALB</td>\n",
       "      <td>ARE</td>\n",
       "      <td>...</td>\n",
       "      <td>YEM</td>\n",
       "      <td>ZAF</td>\n",
       "      <td>ZAF</td>\n",
       "      <td>ZAF</td>\n",
       "      <td>ZMB</td>\n",
       "      <td>ZMB</td>\n",
       "      <td>ZMB</td>\n",
       "      <td>ZWE</td>\n",
       "      <td>ZWE</td>\n",
       "      <td>ZWE</td>\n",
       "    </tr>\n",
       "    <tr>\n",
       "      <th>SEX</th>\n",
       "      <td>BTSX</td>\n",
       "      <td>FMLE</td>\n",
       "      <td>MLE</td>\n",
       "      <td>BTSX</td>\n",
       "      <td>FMLE</td>\n",
       "      <td>MLE</td>\n",
       "      <td>BTSX</td>\n",
       "      <td>FMLE</td>\n",
       "      <td>MLE</td>\n",
       "      <td>BTSX</td>\n",
       "      <td>...</td>\n",
       "      <td>MLE</td>\n",
       "      <td>BTSX</td>\n",
       "      <td>FMLE</td>\n",
       "      <td>MLE</td>\n",
       "      <td>BTSX</td>\n",
       "      <td>FMLE</td>\n",
       "      <td>MLE</td>\n",
       "      <td>BTSX</td>\n",
       "      <td>FMLE</td>\n",
       "      <td>MLE</td>\n",
       "    </tr>\n",
       "    <tr>\n",
       "      <th>WHOSIS_000001</th>\n",
       "      <td>54.98949</td>\n",
       "      <td>55.41726</td>\n",
       "      <td>54.57449</td>\n",
       "      <td>49.30265</td>\n",
       "      <td>52.12018</td>\n",
       "      <td>46.77004</td>\n",
       "      <td>73.54528</td>\n",
       "      <td>76.91914</td>\n",
       "      <td>70.65347</td>\n",
       "      <td>73.18027</td>\n",
       "      <td>...</td>\n",
       "      <td>64.41312</td>\n",
       "      <td>65.25417</td>\n",
       "      <td>68.28989</td>\n",
       "      <td>62.20109</td>\n",
       "      <td>62.4529</td>\n",
       "      <td>65.36993</td>\n",
       "      <td>59.53606</td>\n",
       "      <td>60.68252</td>\n",
       "      <td>63.60674</td>\n",
       "      <td>57.51101</td>\n",
       "    </tr>\n",
       "    <tr>\n",
       "      <th>WHOSIS_000002</th>\n",
       "      <td>46.76397</td>\n",
       "      <td>46.58344</td>\n",
       "      <td>46.93113</td>\n",
       "      <td>42.87378</td>\n",
       "      <td>44.74432</td>\n",
       "      <td>41.18177</td>\n",
       "      <td>65.23516</td>\n",
       "      <td>67.68733</td>\n",
       "      <td>63.14932</td>\n",
       "      <td>63.85107</td>\n",
       "      <td>...</td>\n",
       "      <td>56.90595</td>\n",
       "      <td>56.15329</td>\n",
       "      <td>57.69447</td>\n",
       "      <td>54.58585</td>\n",
       "      <td>54.40409</td>\n",
       "      <td>56.31194</td>\n",
       "      <td>52.49771</td>\n",
       "      <td>53.06544</td>\n",
       "      <td>54.80482</td>\n",
       "      <td>51.20607</td>\n",
       "    </tr>\n",
       "    <tr>\n",
       "      <th>WHOSIS_000007</th>\n",
       "      <td>10.16798</td>\n",
       "      <td>10.11293</td>\n",
       "      <td>10.22541</td>\n",
       "      <td>10.73909</td>\n",
       "      <td>11.80188</td>\n",
       "      <td>9.66284</td>\n",
       "      <td>14.98377</td>\n",
       "      <td>16.71034</td>\n",
       "      <td>13.50208</td>\n",
       "      <td>13.58815</td>\n",
       "      <td>...</td>\n",
       "      <td>12.77636</td>\n",
       "      <td>13.8575</td>\n",
       "      <td>14.772</td>\n",
       "      <td>12.69391</td>\n",
       "      <td>12.58347</td>\n",
       "      <td>13.6557</td>\n",
       "      <td>11.27271</td>\n",
       "      <td>11.48429</td>\n",
       "      <td>12.43903</td>\n",
       "      <td>10.18165</td>\n",
       "    </tr>\n",
       "    <tr>\n",
       "      <th>WHOSIS_000015</th>\n",
       "      <td>13.92182</td>\n",
       "      <td>14.20647</td>\n",
       "      <td>13.63259</td>\n",
       "      <td>14.41537</td>\n",
       "      <td>16.00562</td>\n",
       "      <td>12.82086</td>\n",
       "      <td>18.9965</td>\n",
       "      <td>21.2058</td>\n",
       "      <td>17.10085</td>\n",
       "      <td>18.68954</td>\n",
       "      <td>...</td>\n",
       "      <td>16.77037</td>\n",
       "      <td>19.12211</td>\n",
       "      <td>20.52139</td>\n",
       "      <td>17.34433</td>\n",
       "      <td>16.53152</td>\n",
       "      <td>18.04779</td>\n",
       "      <td>14.6803</td>\n",
       "      <td>15.55015</td>\n",
       "      <td>16.98877</td>\n",
       "      <td>13.58761</td>\n",
       "    </tr>\n",
       "  </tbody>\n",
       "</table>\n",
       "<p>7 rows × 2208 columns</p>\n",
       "</div>"
      ],
      "text/plain": [
       "                   0         1         2         3         4         5     \\\n",
       "GHO                                                                         \n",
       "YEAR               2000      2000      2000      2000      2000      2000   \n",
       "COUNTRY             AFG       AFG       AFG       AGO       AGO       AGO   \n",
       "SEX                BTSX      FMLE       MLE      BTSX      FMLE       MLE   \n",
       "WHOSIS_000001  54.98949  55.41726  54.57449  49.30265  52.12018  46.77004   \n",
       "WHOSIS_000002  46.76397  46.58344  46.93113  42.87378  44.74432  41.18177   \n",
       "WHOSIS_000007  10.16798  10.11293  10.22541  10.73909  11.80188   9.66284   \n",
       "WHOSIS_000015  13.92182  14.20647  13.63259  14.41537  16.00562  12.82086   \n",
       "\n",
       "                   6         7         8         9     ...      2198  \\\n",
       "GHO                                                    ...             \n",
       "YEAR               2000      2000      2000      2000  ...      2019   \n",
       "COUNTRY             ALB       ALB       ALB       ARE  ...       YEM   \n",
       "SEX                BTSX      FMLE       MLE      BTSX  ...       MLE   \n",
       "WHOSIS_000001  73.54528  76.91914  70.65347  73.18027  ...  64.41312   \n",
       "WHOSIS_000002  65.23516  67.68733  63.14932  63.85107  ...  56.90595   \n",
       "WHOSIS_000007  14.98377  16.71034  13.50208  13.58815  ...  12.77636   \n",
       "WHOSIS_000015   18.9965   21.2058  17.10085  18.68954  ...  16.77037   \n",
       "\n",
       "                   2199      2200      2201      2202      2203      2204  \\\n",
       "GHO                                                                         \n",
       "YEAR               2019      2019      2019      2019      2019      2019   \n",
       "COUNTRY             ZAF       ZAF       ZAF       ZMB       ZMB       ZMB   \n",
       "SEX                BTSX      FMLE       MLE      BTSX      FMLE       MLE   \n",
       "WHOSIS_000001  65.25417  68.28989  62.20109   62.4529  65.36993  59.53606   \n",
       "WHOSIS_000002  56.15329  57.69447  54.58585  54.40409  56.31194  52.49771   \n",
       "WHOSIS_000007   13.8575    14.772  12.69391  12.58347   13.6557  11.27271   \n",
       "WHOSIS_000015  19.12211  20.52139  17.34433  16.53152  18.04779   14.6803   \n",
       "\n",
       "                   2205      2206      2207  \n",
       "GHO                                          \n",
       "YEAR               2019      2019      2019  \n",
       "COUNTRY             ZWE       ZWE       ZWE  \n",
       "SEX                BTSX      FMLE       MLE  \n",
       "WHOSIS_000001  60.68252  63.60674  57.51101  \n",
       "WHOSIS_000002  53.06544  54.80482  51.20607  \n",
       "WHOSIS_000007  11.48429  12.43903  10.18165  \n",
       "WHOSIS_000015  15.55015  16.98877  13.58761  \n",
       "\n",
       "[7 rows x 2208 columns]"
      ]
     },
     "execution_count": 43,
     "metadata": {},
     "output_type": "execute_result"
    }
   ],
   "source": [
    "# Check Work\n",
    "leam_df.T"
   ]
  },
  {
   "cell_type": "code",
   "execution_count": 44,
   "id": "7324045c",
   "metadata": {
    "scrolled": false
   },
   "outputs": [
    {
     "data": {
      "text/plain": [
       "GHO\n",
       "YEAR             0\n",
       "COUNTRY          0\n",
       "SEX              0\n",
       "WHOSIS_000001    0\n",
       "WHOSIS_000002    0\n",
       "WHOSIS_000007    0\n",
       "WHOSIS_000015    0\n",
       "dtype: int64"
      ]
     },
     "execution_count": 44,
     "metadata": {},
     "output_type": "execute_result"
    }
   ],
   "source": [
    "# check null\n",
    "leam_df.isnull().sum().sort_values()"
   ]
  },
  {
   "cell_type": "markdown",
   "id": "e61dfe29",
   "metadata": {},
   "source": [
    "<div class=\"alert alert-warning\">\n",
    "\n",
    "# Handle YEAR Column"
   ]
  },
  {
   "cell_type": "code",
   "execution_count": 45,
   "id": "5a0d71e2",
   "metadata": {
    "scrolled": false
   },
   "outputs": [
    {
     "data": {
      "text/plain": [
       "4"
      ]
     },
     "execution_count": 45,
     "metadata": {},
     "output_type": "execute_result"
    }
   ],
   "source": [
    "# List unique year count\n",
    "leam_df.YEAR.nunique()"
   ]
  },
  {
   "cell_type": "code",
   "execution_count": 46,
   "id": "79cad8f1",
   "metadata": {
    "scrolled": false
   },
   "outputs": [
    {
     "data": {
      "text/plain": [
       "2000    552\n",
       "2010    552\n",
       "2015    552\n",
       "2019    552\n",
       "Name: YEAR, dtype: int64"
      ]
     },
     "execution_count": 46,
     "metadata": {},
     "output_type": "execute_result"
    }
   ],
   "source": [
    "# List year value counts\n",
    "leam_df.YEAR.value_counts()"
   ]
  },
  {
   "cell_type": "code",
   "execution_count": 47,
   "id": "54521187",
   "metadata": {
    "scrolled": true
   },
   "outputs": [
    {
     "data": {
      "text/plain": [
       "array([2000, 2010, 2015, 2019])"
      ]
     },
     "execution_count": 47,
     "metadata": {},
     "output_type": "execute_result"
    }
   ],
   "source": [
    "# List unique year values\n",
    "leam_df.YEAR.unique()"
   ]
  },
  {
   "cell_type": "markdown",
   "id": "8683b3d9",
   "metadata": {},
   "source": [
    "<div class=\"alert alert-info\">\n",
    "\n",
    "# Feature Engineer\n",
    "* Replace Target Numeric Column that was lost during pivot\n",
    "* Original Numeric Column was absorbed into new feature GHO Columns\n",
    "* Create new Target Feature Life Expectancy column\n",
    "    * Coloumn will equal mean of all Life Expectancy feature columns"
   ]
  },
  {
   "cell_type": "markdown",
   "id": "f08e8672",
   "metadata": {},
   "source": [
    "<div class=\"alert alert-warning\">\n",
    "\n",
    "#### Life Expactancy in Years\n",
    "\n",
    "* 'WHOSIS_000001': 'Life expectancy at birth (years)',\n",
    "* 'WHOSIS_000002': 'Healthy life expectancy (HALE) at birth (years)',\n",
    "* 'WHOSIS_000007': 'Healthy life expectancy (HALE) at age 60 (years)',\n",
    "* 'WHOSIS_000015': 'Life expectancy at age 60 (years)',"
   ]
  },
  {
   "cell_type": "code",
   "execution_count": 48,
   "id": "0360a7f1",
   "metadata": {},
   "outputs": [],
   "source": [
    "# Create life_expectancy feature consisting of the mean of individual life expectancy features\n",
    "leam_df['life_expectancy'] = leam_df[['WHOSIS_000001','WHOSIS_000002','WHOSIS_000007','WHOSIS_000015']].mean(axis=1)"
   ]
  },
  {
   "cell_type": "code",
   "execution_count": 49,
   "id": "268c7644",
   "metadata": {},
   "outputs": [
    {
     "data": {
      "text/html": [
       "<div>\n",
       "<style scoped>\n",
       "    .dataframe tbody tr th:only-of-type {\n",
       "        vertical-align: middle;\n",
       "    }\n",
       "\n",
       "    .dataframe tbody tr th {\n",
       "        vertical-align: top;\n",
       "    }\n",
       "\n",
       "    .dataframe thead th {\n",
       "        text-align: right;\n",
       "    }\n",
       "</style>\n",
       "<table border=\"1\" class=\"dataframe\">\n",
       "  <thead>\n",
       "    <tr style=\"text-align: right;\">\n",
       "      <th>GHO</th>\n",
       "      <th>YEAR</th>\n",
       "      <th>COUNTRY</th>\n",
       "      <th>SEX</th>\n",
       "      <th>WHOSIS_000001</th>\n",
       "      <th>WHOSIS_000002</th>\n",
       "      <th>WHOSIS_000007</th>\n",
       "      <th>WHOSIS_000015</th>\n",
       "      <th>life_expectancy</th>\n",
       "    </tr>\n",
       "  </thead>\n",
       "  <tbody>\n",
       "    <tr>\n",
       "      <th>0</th>\n",
       "      <td>2000</td>\n",
       "      <td>AFG</td>\n",
       "      <td>BTSX</td>\n",
       "      <td>54.98949</td>\n",
       "      <td>46.76397</td>\n",
       "      <td>10.16798</td>\n",
       "      <td>13.92182</td>\n",
       "      <td>31.460815</td>\n",
       "    </tr>\n",
       "    <tr>\n",
       "      <th>1</th>\n",
       "      <td>2000</td>\n",
       "      <td>AFG</td>\n",
       "      <td>FMLE</td>\n",
       "      <td>55.41726</td>\n",
       "      <td>46.58344</td>\n",
       "      <td>10.11293</td>\n",
       "      <td>14.20647</td>\n",
       "      <td>31.580025</td>\n",
       "    </tr>\n",
       "    <tr>\n",
       "      <th>2</th>\n",
       "      <td>2000</td>\n",
       "      <td>AFG</td>\n",
       "      <td>MLE</td>\n",
       "      <td>54.57449</td>\n",
       "      <td>46.93113</td>\n",
       "      <td>10.22541</td>\n",
       "      <td>13.63259</td>\n",
       "      <td>31.340905</td>\n",
       "    </tr>\n",
       "    <tr>\n",
       "      <th>3</th>\n",
       "      <td>2000</td>\n",
       "      <td>AGO</td>\n",
       "      <td>BTSX</td>\n",
       "      <td>49.30265</td>\n",
       "      <td>42.87378</td>\n",
       "      <td>10.73909</td>\n",
       "      <td>14.41537</td>\n",
       "      <td>29.332722</td>\n",
       "    </tr>\n",
       "    <tr>\n",
       "      <th>4</th>\n",
       "      <td>2000</td>\n",
       "      <td>AGO</td>\n",
       "      <td>FMLE</td>\n",
       "      <td>52.12018</td>\n",
       "      <td>44.74432</td>\n",
       "      <td>11.80188</td>\n",
       "      <td>16.00562</td>\n",
       "      <td>31.168000</td>\n",
       "    </tr>\n",
       "    <tr>\n",
       "      <th>...</th>\n",
       "      <td>...</td>\n",
       "      <td>...</td>\n",
       "      <td>...</td>\n",
       "      <td>...</td>\n",
       "      <td>...</td>\n",
       "      <td>...</td>\n",
       "      <td>...</td>\n",
       "      <td>...</td>\n",
       "    </tr>\n",
       "    <tr>\n",
       "      <th>2203</th>\n",
       "      <td>2019</td>\n",
       "      <td>ZMB</td>\n",
       "      <td>FMLE</td>\n",
       "      <td>65.36993</td>\n",
       "      <td>56.31194</td>\n",
       "      <td>13.65570</td>\n",
       "      <td>18.04779</td>\n",
       "      <td>38.346340</td>\n",
       "    </tr>\n",
       "    <tr>\n",
       "      <th>2204</th>\n",
       "      <td>2019</td>\n",
       "      <td>ZMB</td>\n",
       "      <td>MLE</td>\n",
       "      <td>59.53606</td>\n",
       "      <td>52.49771</td>\n",
       "      <td>11.27271</td>\n",
       "      <td>14.68030</td>\n",
       "      <td>34.496695</td>\n",
       "    </tr>\n",
       "    <tr>\n",
       "      <th>2205</th>\n",
       "      <td>2019</td>\n",
       "      <td>ZWE</td>\n",
       "      <td>BTSX</td>\n",
       "      <td>60.68252</td>\n",
       "      <td>53.06544</td>\n",
       "      <td>11.48429</td>\n",
       "      <td>15.55015</td>\n",
       "      <td>35.195600</td>\n",
       "    </tr>\n",
       "    <tr>\n",
       "      <th>2206</th>\n",
       "      <td>2019</td>\n",
       "      <td>ZWE</td>\n",
       "      <td>FMLE</td>\n",
       "      <td>63.60674</td>\n",
       "      <td>54.80482</td>\n",
       "      <td>12.43903</td>\n",
       "      <td>16.98877</td>\n",
       "      <td>36.959840</td>\n",
       "    </tr>\n",
       "    <tr>\n",
       "      <th>2207</th>\n",
       "      <td>2019</td>\n",
       "      <td>ZWE</td>\n",
       "      <td>MLE</td>\n",
       "      <td>57.51101</td>\n",
       "      <td>51.20607</td>\n",
       "      <td>10.18165</td>\n",
       "      <td>13.58761</td>\n",
       "      <td>33.121585</td>\n",
       "    </tr>\n",
       "  </tbody>\n",
       "</table>\n",
       "<p>2208 rows × 8 columns</p>\n",
       "</div>"
      ],
      "text/plain": [
       "GHO   YEAR COUNTRY   SEX  WHOSIS_000001  WHOSIS_000002  WHOSIS_000007  \\\n",
       "0     2000     AFG  BTSX       54.98949       46.76397       10.16798   \n",
       "1     2000     AFG  FMLE       55.41726       46.58344       10.11293   \n",
       "2     2000     AFG   MLE       54.57449       46.93113       10.22541   \n",
       "3     2000     AGO  BTSX       49.30265       42.87378       10.73909   \n",
       "4     2000     AGO  FMLE       52.12018       44.74432       11.80188   \n",
       "...    ...     ...   ...            ...            ...            ...   \n",
       "2203  2019     ZMB  FMLE       65.36993       56.31194       13.65570   \n",
       "2204  2019     ZMB   MLE       59.53606       52.49771       11.27271   \n",
       "2205  2019     ZWE  BTSX       60.68252       53.06544       11.48429   \n",
       "2206  2019     ZWE  FMLE       63.60674       54.80482       12.43903   \n",
       "2207  2019     ZWE   MLE       57.51101       51.20607       10.18165   \n",
       "\n",
       "GHO   WHOSIS_000015  life_expectancy  \n",
       "0          13.92182        31.460815  \n",
       "1          14.20647        31.580025  \n",
       "2          13.63259        31.340905  \n",
       "3          14.41537        29.332722  \n",
       "4          16.00562        31.168000  \n",
       "...             ...              ...  \n",
       "2203       18.04779        38.346340  \n",
       "2204       14.68030        34.496695  \n",
       "2205       15.55015        35.195600  \n",
       "2206       16.98877        36.959840  \n",
       "2207       13.58761        33.121585  \n",
       "\n",
       "[2208 rows x 8 columns]"
      ]
     },
     "execution_count": 49,
     "metadata": {},
     "output_type": "execute_result"
    }
   ],
   "source": [
    "leam_df"
   ]
  },
  {
   "cell_type": "code",
   "execution_count": 50,
   "id": "f4d2c74d",
   "metadata": {},
   "outputs": [
    {
     "data": {
      "text/plain": [
       "0"
      ]
     },
     "execution_count": 50,
     "metadata": {},
     "output_type": "execute_result"
    }
   ],
   "source": [
    "leam_df.life_expectancy.isnull().sum()"
   ]
  },
  {
   "cell_type": "markdown",
   "id": "a5622a2f",
   "metadata": {},
   "source": [
    "<div class=\"alert alert-danger\">\n",
    "\n",
    "#### IS THERE A PROBLEM WITH THE WAY THE MEAN IS BEING CALCULATED?"
   ]
  },
  {
   "cell_type": "code",
   "execution_count": 51,
   "id": "aa3848ad",
   "metadata": {},
   "outputs": [
    {
     "data": {
      "text/plain": [
       "(0, 18.1649, 53.206227500000004)"
      ]
     },
     "execution_count": 51,
     "metadata": {},
     "output_type": "execute_result"
    }
   ],
   "source": [
    "# Null/MIN/MAX of MEAN Life Expectancy in Years (ley)\n",
    "leam_df.life_expectancy.isnull().sum(), leam_df.life_expectancy.min(), leam_df.life_expectancy.max()"
   ]
  },
  {
   "cell_type": "code",
   "execution_count": 52,
   "id": "548751e0",
   "metadata": {},
   "outputs": [
    {
     "data": {
      "text/plain": [
       "(27.96683, 86.93782)"
      ]
     },
     "execution_count": 52,
     "metadata": {},
     "output_type": "execute_result"
    }
   ],
   "source": [
    "# MIN/MAX of Life expectancy at birth (years) \n",
    "leam_df.WHOSIS_000001.min(), leam_df.WHOSIS_000001.max()"
   ]
  },
  {
   "cell_type": "code",
   "execution_count": 53,
   "id": "625266f6",
   "metadata": {},
   "outputs": [
    {
     "data": {
      "text/plain": [
       "(25.37444, 75.48193)"
      ]
     },
     "execution_count": 53,
     "metadata": {},
     "output_type": "execute_result"
    }
   ],
   "source": [
    "# MIN/MAX of Healthy life expectancy (HALE) at birth (years)\n",
    "leam_df.WHOSIS_000002.min(), leam_df.WHOSIS_000002.max()"
   ]
  },
  {
   "cell_type": "code",
   "execution_count": 54,
   "id": "4d8d6438",
   "metadata": {},
   "outputs": [
    {
     "data": {
      "text/plain": [
       "(7.57875, 21.84938)"
      ]
     },
     "execution_count": 54,
     "metadata": {},
     "output_type": "execute_result"
    }
   ],
   "source": [
    "# MIN/MAX of Healthy life expectancy (HALE) at age 60 (years)\n",
    "leam_df.WHOSIS_000007.min(), leam_df.WHOSIS_000007.max()"
   ]
  },
  {
   "cell_type": "code",
   "execution_count": 55,
   "id": "fcbcb8fb",
   "metadata": {},
   "outputs": [
    {
     "data": {
      "text/plain": [
       "(10.14748, 28.55578)"
      ]
     },
     "execution_count": 55,
     "metadata": {},
     "output_type": "execute_result"
    }
   ],
   "source": [
    "# MIN/MAX of Life expectancy at age 60 (years)\n",
    "leam_df.WHOSIS_000015.min(), leam_df.WHOSIS_000015.max()"
   ]
  },
  {
   "cell_type": "code",
   "execution_count": 56,
   "id": "67c846b7",
   "metadata": {},
   "outputs": [
    {
     "data": {
      "text/plain": [
       "53.206227500000004"
      ]
     },
     "execution_count": 56,
     "metadata": {},
     "output_type": "execute_result"
    }
   ],
   "source": [
    "# MEAN of all MAX\n",
    "(leam_df.WHOSIS_000001.max() + leam_df.WHOSIS_000002.max() + leam_df.WHOSIS_000007.max() + leam_df.WHOSIS_000015.max()) / 4"
   ]
  },
  {
   "cell_type": "code",
   "execution_count": 57,
   "id": "7590d5fc",
   "metadata": {},
   "outputs": [
    {
     "data": {
      "text/plain": [
       "12.5"
      ]
     },
     "execution_count": 57,
     "metadata": {},
     "output_type": "execute_result"
    }
   ],
   "source": [
    "# Including 0 or null into the mean\n",
    "(25 + 0 + 0 + 25)/4"
   ]
  },
  {
   "cell_type": "code",
   "execution_count": 58,
   "id": "6ddf4729",
   "metadata": {},
   "outputs": [
    {
     "data": {
      "text/plain": [
       "25.0"
      ]
     },
     "execution_count": 58,
     "metadata": {},
     "output_type": "execute_result"
    }
   ],
   "source": [
    "# Same input calculating mean without inclusion of 0\n",
    "(25 + 0 + 0 + 25)/2"
   ]
  },
  {
   "cell_type": "markdown",
   "id": "b177b013",
   "metadata": {},
   "source": [
    "<div class=\"alert alert-info\">\n",
    "\n",
    "## NO\n",
    "\n",
    "* This wa a problem on my previous Data Pull attempt because I was forced to impute Null with 0\n",
    "* I could have negated the issue by getting the mean of all columns excluding 0 entries in the calculation\n",
    "* At this point, I would not be able to feed the individual features but it would not be an issue since that would cause target leakage anyways\n",
    "    \n",
    "#### No issues, only notes on procedures learned from previous failed attempt"
   ]
  },
  {
   "cell_type": "code",
   "execution_count": 59,
   "id": "6320b440",
   "metadata": {},
   "outputs": [
    {
     "data": {
      "text/plain": [
       "2208"
      ]
     },
     "execution_count": 59,
     "metadata": {},
     "output_type": "execute_result"
    }
   ],
   "source": [
    "leam_df.shape[0]"
   ]
  },
  {
   "cell_type": "code",
   "execution_count": 60,
   "id": "55b71a7e",
   "metadata": {},
   "outputs": [
    {
     "data": {
      "text/plain": [
       "GHO\n",
       "YEAR               0\n",
       "COUNTRY            0\n",
       "SEX                0\n",
       "WHOSIS_000001      0\n",
       "WHOSIS_000002      0\n",
       "WHOSIS_000007      0\n",
       "WHOSIS_000015      0\n",
       "life_expectancy    0\n",
       "dtype: int64"
      ]
     },
     "execution_count": 60,
     "metadata": {},
     "output_type": "execute_result"
    }
   ],
   "source": [
    "leam_df.isnull().sum()"
   ]
  },
  {
   "cell_type": "code",
   "execution_count": 61,
   "id": "607e3a63",
   "metadata": {
    "scrolled": true
   },
   "outputs": [
    {
     "name": "stdout",
     "output_type": "stream",
     "text": [
      "<class 'pandas.core.frame.DataFrame'>\n",
      "RangeIndex: 2208 entries, 0 to 2207\n",
      "Data columns (total 8 columns):\n",
      " #   Column           Non-Null Count  Dtype  \n",
      "---  ------           --------------  -----  \n",
      " 0   YEAR             2208 non-null   int64  \n",
      " 1   COUNTRY          2208 non-null   object \n",
      " 2   SEX              2208 non-null   object \n",
      " 3   WHOSIS_000001    2208 non-null   float64\n",
      " 4   WHOSIS_000002    2208 non-null   float64\n",
      " 5   WHOSIS_000007    2208 non-null   float64\n",
      " 6   WHOSIS_000015    2208 non-null   float64\n",
      " 7   life_expectancy  2208 non-null   float64\n",
      "dtypes: float64(5), int64(1), object(2)\n",
      "memory usage: 138.1+ KB\n"
     ]
    }
   ],
   "source": [
    "leam_df.info()"
   ]
  },
  {
   "cell_type": "markdown",
   "id": "e7ffcf3d",
   "metadata": {},
   "source": [
    "<div class=\"alert alert-warning\">\n",
    "\n",
    "# Pivot & Encode SEX"
   ]
  },
  {
   "cell_type": "code",
   "execution_count": 62,
   "id": "71fe104f",
   "metadata": {},
   "outputs": [
    {
     "data": {
      "text/plain": [
       "BTSX    736\n",
       "FMLE    736\n",
       "MLE     736\n",
       "Name: SEX, dtype: int64"
      ]
     },
     "execution_count": 62,
     "metadata": {},
     "output_type": "execute_result"
    }
   ],
   "source": [
    "leam_df.SEX.value_counts()"
   ]
  },
  {
   "cell_type": "code",
   "execution_count": 63,
   "id": "ba50f93f",
   "metadata": {
    "scrolled": false
   },
   "outputs": [
    {
     "data": {
      "text/html": [
       "<div>\n",
       "<style scoped>\n",
       "    .dataframe tbody tr th:only-of-type {\n",
       "        vertical-align: middle;\n",
       "    }\n",
       "\n",
       "    .dataframe tbody tr th {\n",
       "        vertical-align: top;\n",
       "    }\n",
       "\n",
       "    .dataframe thead th {\n",
       "        text-align: right;\n",
       "    }\n",
       "</style>\n",
       "<table border=\"1\" class=\"dataframe\">\n",
       "  <thead>\n",
       "    <tr style=\"text-align: right;\">\n",
       "      <th></th>\n",
       "      <th>0</th>\n",
       "      <th>1</th>\n",
       "      <th>2</th>\n",
       "      <th>3</th>\n",
       "      <th>4</th>\n",
       "      <th>5</th>\n",
       "      <th>6</th>\n",
       "      <th>7</th>\n",
       "      <th>8</th>\n",
       "      <th>9</th>\n",
       "      <th>...</th>\n",
       "      <th>2198</th>\n",
       "      <th>2199</th>\n",
       "      <th>2200</th>\n",
       "      <th>2201</th>\n",
       "      <th>2202</th>\n",
       "      <th>2203</th>\n",
       "      <th>2204</th>\n",
       "      <th>2205</th>\n",
       "      <th>2206</th>\n",
       "      <th>2207</th>\n",
       "    </tr>\n",
       "  </thead>\n",
       "  <tbody>\n",
       "    <tr>\n",
       "      <th>SEX_BTSX</th>\n",
       "      <td>1</td>\n",
       "      <td>0</td>\n",
       "      <td>0</td>\n",
       "      <td>1</td>\n",
       "      <td>0</td>\n",
       "      <td>0</td>\n",
       "      <td>1</td>\n",
       "      <td>0</td>\n",
       "      <td>0</td>\n",
       "      <td>1</td>\n",
       "      <td>...</td>\n",
       "      <td>0</td>\n",
       "      <td>1</td>\n",
       "      <td>0</td>\n",
       "      <td>0</td>\n",
       "      <td>1</td>\n",
       "      <td>0</td>\n",
       "      <td>0</td>\n",
       "      <td>1</td>\n",
       "      <td>0</td>\n",
       "      <td>0</td>\n",
       "    </tr>\n",
       "    <tr>\n",
       "      <th>SEX_FMLE</th>\n",
       "      <td>0</td>\n",
       "      <td>1</td>\n",
       "      <td>0</td>\n",
       "      <td>0</td>\n",
       "      <td>1</td>\n",
       "      <td>0</td>\n",
       "      <td>0</td>\n",
       "      <td>1</td>\n",
       "      <td>0</td>\n",
       "      <td>0</td>\n",
       "      <td>...</td>\n",
       "      <td>0</td>\n",
       "      <td>0</td>\n",
       "      <td>1</td>\n",
       "      <td>0</td>\n",
       "      <td>0</td>\n",
       "      <td>1</td>\n",
       "      <td>0</td>\n",
       "      <td>0</td>\n",
       "      <td>1</td>\n",
       "      <td>0</td>\n",
       "    </tr>\n",
       "    <tr>\n",
       "      <th>SEX_MLE</th>\n",
       "      <td>0</td>\n",
       "      <td>0</td>\n",
       "      <td>1</td>\n",
       "      <td>0</td>\n",
       "      <td>0</td>\n",
       "      <td>1</td>\n",
       "      <td>0</td>\n",
       "      <td>0</td>\n",
       "      <td>1</td>\n",
       "      <td>0</td>\n",
       "      <td>...</td>\n",
       "      <td>1</td>\n",
       "      <td>0</td>\n",
       "      <td>0</td>\n",
       "      <td>1</td>\n",
       "      <td>0</td>\n",
       "      <td>0</td>\n",
       "      <td>1</td>\n",
       "      <td>0</td>\n",
       "      <td>0</td>\n",
       "      <td>1</td>\n",
       "    </tr>\n",
       "  </tbody>\n",
       "</table>\n",
       "<p>3 rows × 2208 columns</p>\n",
       "</div>"
      ],
      "text/plain": [
       "          0     1     2     3     4     5     6     7     8     9     ...  \\\n",
       "SEX_BTSX     1     0     0     1     0     0     1     0     0     1  ...   \n",
       "SEX_FMLE     0     1     0     0     1     0     0     1     0     0  ...   \n",
       "SEX_MLE      0     0     1     0     0     1     0     0     1     0  ...   \n",
       "\n",
       "          2198  2199  2200  2201  2202  2203  2204  2205  2206  2207  \n",
       "SEX_BTSX     0     1     0     0     1     0     0     1     0     0  \n",
       "SEX_FMLE     0     0     1     0     0     1     0     0     1     0  \n",
       "SEX_MLE      1     0     0     1     0     0     1     0     0     1  \n",
       "\n",
       "[3 rows x 2208 columns]"
      ]
     },
     "execution_count": 63,
     "metadata": {},
     "output_type": "execute_result"
    }
   ],
   "source": [
    "# Use pandas dummies to pivot features with more than two string values\n",
    "# into multiple columns with binary int values that can be read as boolean\n",
    "# drop_first = False in draft for human readability; Final will have it set to True.\n",
    "\n",
    "dummy_df = pd.get_dummies(data=leam_df[['SEX']], drop_first=False)\n",
    "dummy_df.T"
   ]
  },
  {
   "cell_type": "code",
   "execution_count": 64,
   "id": "98b36abb",
   "metadata": {},
   "outputs": [
    {
     "data": {
      "text/plain": [
       "SEX_BTSX  SEX_FMLE  SEX_MLE\n",
       "0         0         1          736\n",
       "          1         0          736\n",
       "1         0         0          736\n",
       "dtype: int64"
      ]
     },
     "execution_count": 64,
     "metadata": {},
     "output_type": "execute_result"
    }
   ],
   "source": [
    "# Check Value Counts\n",
    "dummy_df.value_counts()"
   ]
  },
  {
   "cell_type": "code",
   "execution_count": 65,
   "id": "f4292a53",
   "metadata": {},
   "outputs": [
    {
     "data": {
      "text/plain": [
       "SEX_BTSX    0\n",
       "SEX_FMLE    0\n",
       "SEX_MLE     0\n",
       "dtype: int64"
      ]
     },
     "execution_count": 65,
     "metadata": {},
     "output_type": "execute_result"
    }
   ],
   "source": [
    "# Check Null Counts\n",
    "dummy_df.isnull().sum()"
   ]
  },
  {
   "cell_type": "code",
   "execution_count": 66,
   "id": "2ffa4a5e",
   "metadata": {},
   "outputs": [],
   "source": [
    "# Concat to leam DataFrame\n",
    "leam_df = pd.concat([leam_df, dummy_df], axis=1)"
   ]
  },
  {
   "cell_type": "code",
   "execution_count": 67,
   "id": "088308ad",
   "metadata": {},
   "outputs": [],
   "source": [
    "# DROP original row for redundancy\n",
    "leam_df = leam_df.drop(columns=['SEX'])"
   ]
  },
  {
   "cell_type": "code",
   "execution_count": 68,
   "id": "7db1e8b8",
   "metadata": {
    "scrolled": true
   },
   "outputs": [
    {
     "data": {
      "text/html": [
       "<div>\n",
       "<style scoped>\n",
       "    .dataframe tbody tr th:only-of-type {\n",
       "        vertical-align: middle;\n",
       "    }\n",
       "\n",
       "    .dataframe tbody tr th {\n",
       "        vertical-align: top;\n",
       "    }\n",
       "\n",
       "    .dataframe thead th {\n",
       "        text-align: right;\n",
       "    }\n",
       "</style>\n",
       "<table border=\"1\" class=\"dataframe\">\n",
       "  <thead>\n",
       "    <tr style=\"text-align: right;\">\n",
       "      <th></th>\n",
       "      <th>0</th>\n",
       "      <th>1</th>\n",
       "      <th>2</th>\n",
       "      <th>3</th>\n",
       "      <th>4</th>\n",
       "      <th>5</th>\n",
       "      <th>6</th>\n",
       "      <th>7</th>\n",
       "      <th>8</th>\n",
       "      <th>9</th>\n",
       "      <th>...</th>\n",
       "      <th>2198</th>\n",
       "      <th>2199</th>\n",
       "      <th>2200</th>\n",
       "      <th>2201</th>\n",
       "      <th>2202</th>\n",
       "      <th>2203</th>\n",
       "      <th>2204</th>\n",
       "      <th>2205</th>\n",
       "      <th>2206</th>\n",
       "      <th>2207</th>\n",
       "    </tr>\n",
       "  </thead>\n",
       "  <tbody>\n",
       "    <tr>\n",
       "      <th>YEAR</th>\n",
       "      <td>2000</td>\n",
       "      <td>2000</td>\n",
       "      <td>2000</td>\n",
       "      <td>2000</td>\n",
       "      <td>2000</td>\n",
       "      <td>2000</td>\n",
       "      <td>2000</td>\n",
       "      <td>2000</td>\n",
       "      <td>2000</td>\n",
       "      <td>2000</td>\n",
       "      <td>...</td>\n",
       "      <td>2019</td>\n",
       "      <td>2019</td>\n",
       "      <td>2019</td>\n",
       "      <td>2019</td>\n",
       "      <td>2019</td>\n",
       "      <td>2019</td>\n",
       "      <td>2019</td>\n",
       "      <td>2019</td>\n",
       "      <td>2019</td>\n",
       "      <td>2019</td>\n",
       "    </tr>\n",
       "    <tr>\n",
       "      <th>COUNTRY</th>\n",
       "      <td>AFG</td>\n",
       "      <td>AFG</td>\n",
       "      <td>AFG</td>\n",
       "      <td>AGO</td>\n",
       "      <td>AGO</td>\n",
       "      <td>AGO</td>\n",
       "      <td>ALB</td>\n",
       "      <td>ALB</td>\n",
       "      <td>ALB</td>\n",
       "      <td>ARE</td>\n",
       "      <td>...</td>\n",
       "      <td>YEM</td>\n",
       "      <td>ZAF</td>\n",
       "      <td>ZAF</td>\n",
       "      <td>ZAF</td>\n",
       "      <td>ZMB</td>\n",
       "      <td>ZMB</td>\n",
       "      <td>ZMB</td>\n",
       "      <td>ZWE</td>\n",
       "      <td>ZWE</td>\n",
       "      <td>ZWE</td>\n",
       "    </tr>\n",
       "    <tr>\n",
       "      <th>WHOSIS_000001</th>\n",
       "      <td>54.98949</td>\n",
       "      <td>55.41726</td>\n",
       "      <td>54.57449</td>\n",
       "      <td>49.30265</td>\n",
       "      <td>52.12018</td>\n",
       "      <td>46.77004</td>\n",
       "      <td>73.54528</td>\n",
       "      <td>76.91914</td>\n",
       "      <td>70.65347</td>\n",
       "      <td>73.18027</td>\n",
       "      <td>...</td>\n",
       "      <td>64.41312</td>\n",
       "      <td>65.25417</td>\n",
       "      <td>68.28989</td>\n",
       "      <td>62.20109</td>\n",
       "      <td>62.4529</td>\n",
       "      <td>65.36993</td>\n",
       "      <td>59.53606</td>\n",
       "      <td>60.68252</td>\n",
       "      <td>63.60674</td>\n",
       "      <td>57.51101</td>\n",
       "    </tr>\n",
       "    <tr>\n",
       "      <th>WHOSIS_000002</th>\n",
       "      <td>46.76397</td>\n",
       "      <td>46.58344</td>\n",
       "      <td>46.93113</td>\n",
       "      <td>42.87378</td>\n",
       "      <td>44.74432</td>\n",
       "      <td>41.18177</td>\n",
       "      <td>65.23516</td>\n",
       "      <td>67.68733</td>\n",
       "      <td>63.14932</td>\n",
       "      <td>63.85107</td>\n",
       "      <td>...</td>\n",
       "      <td>56.90595</td>\n",
       "      <td>56.15329</td>\n",
       "      <td>57.69447</td>\n",
       "      <td>54.58585</td>\n",
       "      <td>54.40409</td>\n",
       "      <td>56.31194</td>\n",
       "      <td>52.49771</td>\n",
       "      <td>53.06544</td>\n",
       "      <td>54.80482</td>\n",
       "      <td>51.20607</td>\n",
       "    </tr>\n",
       "    <tr>\n",
       "      <th>WHOSIS_000007</th>\n",
       "      <td>10.16798</td>\n",
       "      <td>10.11293</td>\n",
       "      <td>10.22541</td>\n",
       "      <td>10.73909</td>\n",
       "      <td>11.80188</td>\n",
       "      <td>9.66284</td>\n",
       "      <td>14.98377</td>\n",
       "      <td>16.71034</td>\n",
       "      <td>13.50208</td>\n",
       "      <td>13.58815</td>\n",
       "      <td>...</td>\n",
       "      <td>12.77636</td>\n",
       "      <td>13.8575</td>\n",
       "      <td>14.772</td>\n",
       "      <td>12.69391</td>\n",
       "      <td>12.58347</td>\n",
       "      <td>13.6557</td>\n",
       "      <td>11.27271</td>\n",
       "      <td>11.48429</td>\n",
       "      <td>12.43903</td>\n",
       "      <td>10.18165</td>\n",
       "    </tr>\n",
       "    <tr>\n",
       "      <th>WHOSIS_000015</th>\n",
       "      <td>13.92182</td>\n",
       "      <td>14.20647</td>\n",
       "      <td>13.63259</td>\n",
       "      <td>14.41537</td>\n",
       "      <td>16.00562</td>\n",
       "      <td>12.82086</td>\n",
       "      <td>18.9965</td>\n",
       "      <td>21.2058</td>\n",
       "      <td>17.10085</td>\n",
       "      <td>18.68954</td>\n",
       "      <td>...</td>\n",
       "      <td>16.77037</td>\n",
       "      <td>19.12211</td>\n",
       "      <td>20.52139</td>\n",
       "      <td>17.34433</td>\n",
       "      <td>16.53152</td>\n",
       "      <td>18.04779</td>\n",
       "      <td>14.6803</td>\n",
       "      <td>15.55015</td>\n",
       "      <td>16.98877</td>\n",
       "      <td>13.58761</td>\n",
       "    </tr>\n",
       "    <tr>\n",
       "      <th>life_expectancy</th>\n",
       "      <td>31.460815</td>\n",
       "      <td>31.580025</td>\n",
       "      <td>31.340905</td>\n",
       "      <td>29.332722</td>\n",
       "      <td>31.168</td>\n",
       "      <td>27.608877</td>\n",
       "      <td>43.190177</td>\n",
       "      <td>45.630653</td>\n",
       "      <td>41.10143</td>\n",
       "      <td>42.327258</td>\n",
       "      <td>...</td>\n",
       "      <td>37.71645</td>\n",
       "      <td>38.596767</td>\n",
       "      <td>40.319437</td>\n",
       "      <td>36.706295</td>\n",
       "      <td>36.492995</td>\n",
       "      <td>38.34634</td>\n",
       "      <td>34.496695</td>\n",
       "      <td>35.1956</td>\n",
       "      <td>36.95984</td>\n",
       "      <td>33.121585</td>\n",
       "    </tr>\n",
       "    <tr>\n",
       "      <th>SEX_BTSX</th>\n",
       "      <td>1</td>\n",
       "      <td>0</td>\n",
       "      <td>0</td>\n",
       "      <td>1</td>\n",
       "      <td>0</td>\n",
       "      <td>0</td>\n",
       "      <td>1</td>\n",
       "      <td>0</td>\n",
       "      <td>0</td>\n",
       "      <td>1</td>\n",
       "      <td>...</td>\n",
       "      <td>0</td>\n",
       "      <td>1</td>\n",
       "      <td>0</td>\n",
       "      <td>0</td>\n",
       "      <td>1</td>\n",
       "      <td>0</td>\n",
       "      <td>0</td>\n",
       "      <td>1</td>\n",
       "      <td>0</td>\n",
       "      <td>0</td>\n",
       "    </tr>\n",
       "    <tr>\n",
       "      <th>SEX_FMLE</th>\n",
       "      <td>0</td>\n",
       "      <td>1</td>\n",
       "      <td>0</td>\n",
       "      <td>0</td>\n",
       "      <td>1</td>\n",
       "      <td>0</td>\n",
       "      <td>0</td>\n",
       "      <td>1</td>\n",
       "      <td>0</td>\n",
       "      <td>0</td>\n",
       "      <td>...</td>\n",
       "      <td>0</td>\n",
       "      <td>0</td>\n",
       "      <td>1</td>\n",
       "      <td>0</td>\n",
       "      <td>0</td>\n",
       "      <td>1</td>\n",
       "      <td>0</td>\n",
       "      <td>0</td>\n",
       "      <td>1</td>\n",
       "      <td>0</td>\n",
       "    </tr>\n",
       "    <tr>\n",
       "      <th>SEX_MLE</th>\n",
       "      <td>0</td>\n",
       "      <td>0</td>\n",
       "      <td>1</td>\n",
       "      <td>0</td>\n",
       "      <td>0</td>\n",
       "      <td>1</td>\n",
       "      <td>0</td>\n",
       "      <td>0</td>\n",
       "      <td>1</td>\n",
       "      <td>0</td>\n",
       "      <td>...</td>\n",
       "      <td>1</td>\n",
       "      <td>0</td>\n",
       "      <td>0</td>\n",
       "      <td>1</td>\n",
       "      <td>0</td>\n",
       "      <td>0</td>\n",
       "      <td>1</td>\n",
       "      <td>0</td>\n",
       "      <td>0</td>\n",
       "      <td>1</td>\n",
       "    </tr>\n",
       "  </tbody>\n",
       "</table>\n",
       "<p>10 rows × 2208 columns</p>\n",
       "</div>"
      ],
      "text/plain": [
       "                      0          1          2          3         4     \\\n",
       "YEAR                  2000       2000       2000       2000      2000   \n",
       "COUNTRY                AFG        AFG        AFG        AGO       AGO   \n",
       "WHOSIS_000001     54.98949   55.41726   54.57449   49.30265  52.12018   \n",
       "WHOSIS_000002     46.76397   46.58344   46.93113   42.87378  44.74432   \n",
       "WHOSIS_000007     10.16798   10.11293   10.22541   10.73909  11.80188   \n",
       "WHOSIS_000015     13.92182   14.20647   13.63259   14.41537  16.00562   \n",
       "life_expectancy  31.460815  31.580025  31.340905  29.332722    31.168   \n",
       "SEX_BTSX                 1          0          0          1         0   \n",
       "SEX_FMLE                 0          1          0          0         1   \n",
       "SEX_MLE                  0          0          1          0         0   \n",
       "\n",
       "                      5          6          7         8          9     ...  \\\n",
       "YEAR                  2000       2000       2000      2000       2000  ...   \n",
       "COUNTRY                AGO        ALB        ALB       ALB        ARE  ...   \n",
       "WHOSIS_000001     46.77004   73.54528   76.91914  70.65347   73.18027  ...   \n",
       "WHOSIS_000002     41.18177   65.23516   67.68733  63.14932   63.85107  ...   \n",
       "WHOSIS_000007      9.66284   14.98377   16.71034  13.50208   13.58815  ...   \n",
       "WHOSIS_000015     12.82086    18.9965    21.2058  17.10085   18.68954  ...   \n",
       "life_expectancy  27.608877  43.190177  45.630653  41.10143  42.327258  ...   \n",
       "SEX_BTSX                 0          1          0         0          1  ...   \n",
       "SEX_FMLE                 0          0          1         0          0  ...   \n",
       "SEX_MLE                  1          0          0         1          0  ...   \n",
       "\n",
       "                     2198       2199       2200       2201       2202  \\\n",
       "YEAR                 2019       2019       2019       2019       2019   \n",
       "COUNTRY               YEM        ZAF        ZAF        ZAF        ZMB   \n",
       "WHOSIS_000001    64.41312   65.25417   68.28989   62.20109    62.4529   \n",
       "WHOSIS_000002    56.90595   56.15329   57.69447   54.58585   54.40409   \n",
       "WHOSIS_000007    12.77636    13.8575     14.772   12.69391   12.58347   \n",
       "WHOSIS_000015    16.77037   19.12211   20.52139   17.34433   16.53152   \n",
       "life_expectancy  37.71645  38.596767  40.319437  36.706295  36.492995   \n",
       "SEX_BTSX                0          1          0          0          1   \n",
       "SEX_FMLE                0          0          1          0          0   \n",
       "SEX_MLE                 1          0          0          1          0   \n",
       "\n",
       "                     2203       2204      2205      2206       2207  \n",
       "YEAR                 2019       2019      2019      2019       2019  \n",
       "COUNTRY               ZMB        ZMB       ZWE       ZWE        ZWE  \n",
       "WHOSIS_000001    65.36993   59.53606  60.68252  63.60674   57.51101  \n",
       "WHOSIS_000002    56.31194   52.49771  53.06544  54.80482   51.20607  \n",
       "WHOSIS_000007     13.6557   11.27271  11.48429  12.43903   10.18165  \n",
       "WHOSIS_000015    18.04779    14.6803  15.55015  16.98877   13.58761  \n",
       "life_expectancy  38.34634  34.496695   35.1956  36.95984  33.121585  \n",
       "SEX_BTSX                0          0         1         0          0  \n",
       "SEX_FMLE                1          0         0         1          0  \n",
       "SEX_MLE                 0          1         0         0          1  \n",
       "\n",
       "[10 rows x 2208 columns]"
      ]
     },
     "execution_count": 68,
     "metadata": {},
     "output_type": "execute_result"
    }
   ],
   "source": [
    "leam_df.T"
   ]
  },
  {
   "cell_type": "markdown",
   "id": "e256a979",
   "metadata": {},
   "source": [
    "<div class=\"alert alert-warning\">\n",
    "\n",
    "# Cache Clean DataFrame"
   ]
  },
  {
   "cell_type": "code",
   "execution_count": 69,
   "id": "8fc349a6",
   "metadata": {},
   "outputs": [],
   "source": [
    "# Cache a Clean version of my data\n",
    "leam_df.to_csv('clean_leam.csv')"
   ]
  },
  {
   "cell_type": "code",
   "execution_count": 70,
   "id": "8a1e90e4",
   "metadata": {},
   "outputs": [
    {
     "name": "stdout",
     "output_type": "stream",
     "text": [
      "clean_leam.csv     leam.csv           leam2.csv          online_example.csv\r\n"
     ]
    }
   ],
   "source": [
    "# Check it was written\n",
    "!ls *.csv"
   ]
  }
 ],
 "metadata": {
  "kernelspec": {
   "display_name": "Python 3 (ipykernel)",
   "language": "python",
   "name": "python3"
  },
  "language_info": {
   "codemirror_mode": {
    "name": "ipython",
    "version": 3
   },
   "file_extension": ".py",
   "mimetype": "text/x-python",
   "name": "python",
   "nbconvert_exporter": "python",
   "pygments_lexer": "ipython3",
   "version": "3.9.12"
  }
 },
 "nbformat": 4,
 "nbformat_minor": 5
}
