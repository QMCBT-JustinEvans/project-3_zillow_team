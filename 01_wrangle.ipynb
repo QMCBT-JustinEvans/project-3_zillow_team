{
 "cells": [
  {
   "cell_type": "markdown",
   "id": "6588ea10",
   "metadata": {},
   "source": [
    "# Imports"
   ]
  },
  {
   "cell_type": "code",
   "execution_count": 2,
   "id": "aa177f8f",
   "metadata": {},
   "outputs": [
    {
     "name": "stdout",
     "output_type": "stream",
     "text": [
      "**CUSTOM EXPLORATION FUNCTIONS\n",
      "nunique_column_all(df): PRINT NUNIQUE OF ALL COLUMNS\n",
      "nunique_column_objects(df): PRINT NUNIQUE OF COLUMNS THAT ARE OBJECTS\n",
      "nunique_column_qty(df): PRINT NUNIQUE OF COLUMNS THAT ARE *NOT* OBJECTS\n",
      "numeric_range(df): COMPUTE RANGE FOR ALL NUMERIC VARIABLES\n",
      "\n",
      "**USEFUL EXPLORATORY CODE**\n",
      "DFNAME.head()\n",
      "DFNAME.shape\n",
      "DFNAME.shape[0] #read row count\n",
      "DFNAME.describe().T\n",
      "DFNAME.columns.to_list()\n",
      "DFNAME.COLUMNNAME.value_counts(dropna=False)\n",
      "DFNAME.dtypes\n",
      "DFNAME.select_dtypes(include='object').columns\n",
      "DFNAME.select_dtypes(include='float').columns\n",
      "pd.crosstab(DFNAME.COLUMN-1, DFNAME.COLUMN-2)\n"
     ]
    }
   ],
   "source": [
    "import requests\n",
    "import numpy as np\n",
    "import pandas as pd\n",
    "import seaborn as sns\n",
    "import pandas as pd\n",
    "from xml.etree import ElementTree\n",
    "\n",
    "import matplotlib.pyplot as plt\n",
    "# Only works inside notebook\n",
    "%matplotlib inline \n",
    "#import matplotlib as mpl\n",
    "#mpl.rcParams['agg.path.chunksize'] = 10000 # assists with processor speed\n",
    "\n",
    "# import preprocessing\n",
    "from sklearn.preprocessing import MinMaxScaler \n",
    "from sklearn.preprocessing import StandardScaler\n",
    "from sklearn.preprocessing import RobustScaler\n",
    "from sklearn.preprocessing import QuantileTransformer\n",
    "\n",
    "from sklearn.neighbors import KNeighborsClassifier\n",
    "\n",
    "# import helper files from local environment\n",
    "from env import user, password, host\n",
    "import QMCBT_00_quicktips as qt\n",
    "import QMCBT_01_acquire as acquire\n",
    "import QMCBT_02_prepare as prepare\n",
    "import QMCBT_03_explore as explore\n",
    "import QMCBT_04_model as model\n",
    "import QMCBT_05_evaluate as evaluate\n",
    "import QMCBT_explore_evaluate as ee\n",
    "import QMCBT_wrangle as w\n",
    "\n",
    "# allows import reload without needing to clear kernel and rerun\n",
    "from importlib import reload\n",
    "# reload(packagename) \n",
    "\n",
    "import warnings\n",
    "warnings.filterwarnings(\"ignore\")"
   ]
  },
  {
   "cell_type": "code",
   "execution_count": 3,
   "id": "8a87a15c",
   "metadata": {},
   "outputs": [
    {
     "data": {
      "text/html": [
       "<style>table {align:left;display:block}</style>"
      ],
      "text/plain": [
       "<IPython.core.display.HTML object>"
      ]
     },
     "execution_count": 3,
     "metadata": {},
     "output_type": "execute_result"
    }
   ],
   "source": [
    "# Left Align Tables in Jupyter Notebook\n",
    "from IPython.core.display import HTML\n",
    "table_css = 'table {align:left;display:block}'\n",
    "HTML('<style>{}</style>'.format(table_css))"
   ]
  },
  {
   "cell_type": "markdown",
   "id": "4f2a3117",
   "metadata": {},
   "source": [
    "<div class=\"alert alert-success\">\n",
    "\n",
    "# Life Expectancy & Mortality across the Globe\n",
    "* **GHO Selections:** https://apps.who.int/gho/athena/api/GHO\n",
    "* **Homepage:** https://www.who.int/data/gho/info/athena-api-examples\n",
    "* **CSV Data Pull:** https://apps.who.int/gho/athena/api/GHO/WHOSIS_000001,WHOSIS_000002,WHOSIS_000003,WHOSIS_000004,WHOSIS_000005,WHOSIS_000006,WHOSIS_000007,WHOSIS_000008,WHOSIS_000009,WHOSIS_000010,WHOSIS_000012,WHOSIS_000013,WHOSIS_000014,WHOSIS_000015,WHOSIS_000016,MDG_0000000001,MDG_0000000003,MDG_0000000005,MDG_0000000007,MDG_0000000025,MDG_0000000026?format=csv"
   ]
  },
  {
   "cell_type": "code",
   "execution_count": 5,
   "id": "ba9e40ee",
   "metadata": {
    "scrolled": false
   },
   "outputs": [],
   "source": [
    "leam_df = pd.read_csv('leam.csv')"
   ]
  },
  {
   "cell_type": "code",
   "execution_count": 6,
   "id": "fe0ba439",
   "metadata": {},
   "outputs": [
    {
     "data": {
      "text/html": [
       "<div>\n",
       "<style scoped>\n",
       "    .dataframe tbody tr th:only-of-type {\n",
       "        vertical-align: middle;\n",
       "    }\n",
       "\n",
       "    .dataframe tbody tr th {\n",
       "        vertical-align: top;\n",
       "    }\n",
       "\n",
       "    .dataframe thead th {\n",
       "        text-align: right;\n",
       "    }\n",
       "</style>\n",
       "<table border=\"1\" class=\"dataframe\">\n",
       "  <thead>\n",
       "    <tr style=\"text-align: right;\">\n",
       "      <th></th>\n",
       "      <th>GHO</th>\n",
       "      <th>DATASOURCE</th>\n",
       "      <th>PUBLISHSTATE</th>\n",
       "      <th>YEAR</th>\n",
       "      <th>REGION</th>\n",
       "      <th>UNREGION</th>\n",
       "      <th>WORLDBANKINCOMEGROUP</th>\n",
       "      <th>COUNTRY</th>\n",
       "      <th>AGEGROUP</th>\n",
       "      <th>SEX</th>\n",
       "      <th>UNSDGREGION</th>\n",
       "      <th>Display Value</th>\n",
       "      <th>Numeric</th>\n",
       "      <th>Low</th>\n",
       "      <th>High</th>\n",
       "      <th>StdErr</th>\n",
       "      <th>StdDev</th>\n",
       "      <th>Comments</th>\n",
       "    </tr>\n",
       "  </thead>\n",
       "  <tbody>\n",
       "    <tr>\n",
       "      <th>0</th>\n",
       "      <td>WHOSIS_000004</td>\n",
       "      <td>NaN</td>\n",
       "      <td>PUBLISHED</td>\n",
       "      <td>2009</td>\n",
       "      <td>AFR</td>\n",
       "      <td>NaN</td>\n",
       "      <td>NaN</td>\n",
       "      <td>MUS</td>\n",
       "      <td>NaN</td>\n",
       "      <td>MLE</td>\n",
       "      <td>NaN</td>\n",
       "      <td>225</td>\n",
       "      <td>224.88920</td>\n",
       "      <td>NaN</td>\n",
       "      <td>NaN</td>\n",
       "      <td>NaN</td>\n",
       "      <td>NaN</td>\n",
       "      <td>NaN</td>\n",
       "    </tr>\n",
       "    <tr>\n",
       "      <th>1</th>\n",
       "      <td>WHOSIS_000004</td>\n",
       "      <td>NaN</td>\n",
       "      <td>PUBLISHED</td>\n",
       "      <td>2009</td>\n",
       "      <td>AFR</td>\n",
       "      <td>NaN</td>\n",
       "      <td>NaN</td>\n",
       "      <td>MUS</td>\n",
       "      <td>NaN</td>\n",
       "      <td>FMLE</td>\n",
       "      <td>NaN</td>\n",
       "      <td>102</td>\n",
       "      <td>102.27720</td>\n",
       "      <td>NaN</td>\n",
       "      <td>NaN</td>\n",
       "      <td>NaN</td>\n",
       "      <td>NaN</td>\n",
       "      <td>NaN</td>\n",
       "    </tr>\n",
       "    <tr>\n",
       "      <th>2</th>\n",
       "      <td>WHOSIS_000004</td>\n",
       "      <td>NaN</td>\n",
       "      <td>PUBLISHED</td>\n",
       "      <td>2009</td>\n",
       "      <td>AFR</td>\n",
       "      <td>NaN</td>\n",
       "      <td>NaN</td>\n",
       "      <td>MUS</td>\n",
       "      <td>NaN</td>\n",
       "      <td>BTSX</td>\n",
       "      <td>NaN</td>\n",
       "      <td>165</td>\n",
       "      <td>165.37340</td>\n",
       "      <td>NaN</td>\n",
       "      <td>NaN</td>\n",
       "      <td>NaN</td>\n",
       "      <td>NaN</td>\n",
       "      <td>NaN</td>\n",
       "    </tr>\n",
       "    <tr>\n",
       "      <th>3</th>\n",
       "      <td>WHOSIS_000004</td>\n",
       "      <td>NaN</td>\n",
       "      <td>PUBLISHED</td>\n",
       "      <td>2014</td>\n",
       "      <td>AFR</td>\n",
       "      <td>NaN</td>\n",
       "      <td>NaN</td>\n",
       "      <td>MUS</td>\n",
       "      <td>NaN</td>\n",
       "      <td>MLE</td>\n",
       "      <td>NaN</td>\n",
       "      <td>194</td>\n",
       "      <td>194.30180</td>\n",
       "      <td>NaN</td>\n",
       "      <td>NaN</td>\n",
       "      <td>NaN</td>\n",
       "      <td>NaN</td>\n",
       "      <td>NaN</td>\n",
       "    </tr>\n",
       "    <tr>\n",
       "      <th>4</th>\n",
       "      <td>WHOSIS_000004</td>\n",
       "      <td>NaN</td>\n",
       "      <td>PUBLISHED</td>\n",
       "      <td>2014</td>\n",
       "      <td>AFR</td>\n",
       "      <td>NaN</td>\n",
       "      <td>NaN</td>\n",
       "      <td>MUS</td>\n",
       "      <td>NaN</td>\n",
       "      <td>FMLE</td>\n",
       "      <td>NaN</td>\n",
       "      <td>99</td>\n",
       "      <td>98.80576</td>\n",
       "      <td>NaN</td>\n",
       "      <td>NaN</td>\n",
       "      <td>NaN</td>\n",
       "      <td>NaN</td>\n",
       "      <td>NaN</td>\n",
       "    </tr>\n",
       "    <tr>\n",
       "      <th>...</th>\n",
       "      <td>...</td>\n",
       "      <td>...</td>\n",
       "      <td>...</td>\n",
       "      <td>...</td>\n",
       "      <td>...</td>\n",
       "      <td>...</td>\n",
       "      <td>...</td>\n",
       "      <td>...</td>\n",
       "      <td>...</td>\n",
       "      <td>...</td>\n",
       "      <td>...</td>\n",
       "      <td>...</td>\n",
       "      <td>...</td>\n",
       "      <td>...</td>\n",
       "      <td>...</td>\n",
       "      <td>...</td>\n",
       "      <td>...</td>\n",
       "      <td>...</td>\n",
       "    </tr>\n",
       "    <tr>\n",
       "      <th>122810</th>\n",
       "      <td>MDG_0000000003</td>\n",
       "      <td>NaN</td>\n",
       "      <td>PUBLISHED</td>\n",
       "      <td>2010-2015</td>\n",
       "      <td>EUR</td>\n",
       "      <td>NaN</td>\n",
       "      <td>NaN</td>\n",
       "      <td>NaN</td>\n",
       "      <td>YEARS15-19</td>\n",
       "      <td>FMLE</td>\n",
       "      <td>NaN</td>\n",
       "      <td>19.9</td>\n",
       "      <td>19.92918</td>\n",
       "      <td>NaN</td>\n",
       "      <td>NaN</td>\n",
       "      <td>NaN</td>\n",
       "      <td>NaN</td>\n",
       "      <td>World population prospects: 2019 revision. Uni...</td>\n",
       "    </tr>\n",
       "    <tr>\n",
       "      <th>122811</th>\n",
       "      <td>MDG_0000000003</td>\n",
       "      <td>NaN</td>\n",
       "      <td>PUBLISHED</td>\n",
       "      <td>2015-2020</td>\n",
       "      <td>EUR</td>\n",
       "      <td>NaN</td>\n",
       "      <td>NaN</td>\n",
       "      <td>NaN</td>\n",
       "      <td>YEARS15-19</td>\n",
       "      <td>FMLE</td>\n",
       "      <td>NaN</td>\n",
       "      <td>17.1</td>\n",
       "      <td>17.09032</td>\n",
       "      <td>NaN</td>\n",
       "      <td>NaN</td>\n",
       "      <td>NaN</td>\n",
       "      <td>NaN</td>\n",
       "      <td>World population prospects: 2019 revision. Uni...</td>\n",
       "    </tr>\n",
       "    <tr>\n",
       "      <th>122812</th>\n",
       "      <td>MDG_0000000003</td>\n",
       "      <td>NaN</td>\n",
       "      <td>PUBLISHED</td>\n",
       "      <td>2005-2010</td>\n",
       "      <td>GLOBAL</td>\n",
       "      <td>NaN</td>\n",
       "      <td>NaN</td>\n",
       "      <td>NaN</td>\n",
       "      <td>YEARS15-19</td>\n",
       "      <td>FMLE</td>\n",
       "      <td>NaN</td>\n",
       "      <td>49.2</td>\n",
       "      <td>49.16947</td>\n",
       "      <td>NaN</td>\n",
       "      <td>NaN</td>\n",
       "      <td>NaN</td>\n",
       "      <td>NaN</td>\n",
       "      <td>World population prospects: 2019 revision. Uni...</td>\n",
       "    </tr>\n",
       "    <tr>\n",
       "      <th>122813</th>\n",
       "      <td>MDG_0000000003</td>\n",
       "      <td>NaN</td>\n",
       "      <td>PUBLISHED</td>\n",
       "      <td>2010-2015</td>\n",
       "      <td>GLOBAL</td>\n",
       "      <td>NaN</td>\n",
       "      <td>NaN</td>\n",
       "      <td>NaN</td>\n",
       "      <td>YEARS15-19</td>\n",
       "      <td>FMLE</td>\n",
       "      <td>NaN</td>\n",
       "      <td>46.7</td>\n",
       "      <td>46.69116</td>\n",
       "      <td>NaN</td>\n",
       "      <td>NaN</td>\n",
       "      <td>NaN</td>\n",
       "      <td>NaN</td>\n",
       "      <td>World population prospects: 2019 revision. Uni...</td>\n",
       "    </tr>\n",
       "    <tr>\n",
       "      <th>122814</th>\n",
       "      <td>MDG_0000000003</td>\n",
       "      <td>NaN</td>\n",
       "      <td>PUBLISHED</td>\n",
       "      <td>2015-2020</td>\n",
       "      <td>GLOBAL</td>\n",
       "      <td>NaN</td>\n",
       "      <td>NaN</td>\n",
       "      <td>NaN</td>\n",
       "      <td>YEARS15-19</td>\n",
       "      <td>FMLE</td>\n",
       "      <td>NaN</td>\n",
       "      <td>42.5</td>\n",
       "      <td>42.52991</td>\n",
       "      <td>NaN</td>\n",
       "      <td>NaN</td>\n",
       "      <td>NaN</td>\n",
       "      <td>NaN</td>\n",
       "      <td>World population prospects: 2019 revision. Uni...</td>\n",
       "    </tr>\n",
       "  </tbody>\n",
       "</table>\n",
       "<p>122815 rows × 18 columns</p>\n",
       "</div>"
      ],
      "text/plain": [
       "                   GHO DATASOURCE PUBLISHSTATE       YEAR  REGION  UNREGION  \\\n",
       "0        WHOSIS_000004        NaN    PUBLISHED       2009     AFR       NaN   \n",
       "1        WHOSIS_000004        NaN    PUBLISHED       2009     AFR       NaN   \n",
       "2        WHOSIS_000004        NaN    PUBLISHED       2009     AFR       NaN   \n",
       "3        WHOSIS_000004        NaN    PUBLISHED       2014     AFR       NaN   \n",
       "4        WHOSIS_000004        NaN    PUBLISHED       2014     AFR       NaN   \n",
       "...                ...        ...          ...        ...     ...       ...   \n",
       "122810  MDG_0000000003        NaN    PUBLISHED  2010-2015     EUR       NaN   \n",
       "122811  MDG_0000000003        NaN    PUBLISHED  2015-2020     EUR       NaN   \n",
       "122812  MDG_0000000003        NaN    PUBLISHED  2005-2010  GLOBAL       NaN   \n",
       "122813  MDG_0000000003        NaN    PUBLISHED  2010-2015  GLOBAL       NaN   \n",
       "122814  MDG_0000000003        NaN    PUBLISHED  2015-2020  GLOBAL       NaN   \n",
       "\n",
       "       WORLDBANKINCOMEGROUP COUNTRY    AGEGROUP   SEX UNSDGREGION  \\\n",
       "0                       NaN     MUS         NaN   MLE         NaN   \n",
       "1                       NaN     MUS         NaN  FMLE         NaN   \n",
       "2                       NaN     MUS         NaN  BTSX         NaN   \n",
       "3                       NaN     MUS         NaN   MLE         NaN   \n",
       "4                       NaN     MUS         NaN  FMLE         NaN   \n",
       "...                     ...     ...         ...   ...         ...   \n",
       "122810                  NaN     NaN  YEARS15-19  FMLE         NaN   \n",
       "122811                  NaN     NaN  YEARS15-19  FMLE         NaN   \n",
       "122812                  NaN     NaN  YEARS15-19  FMLE         NaN   \n",
       "122813                  NaN     NaN  YEARS15-19  FMLE         NaN   \n",
       "122814                  NaN     NaN  YEARS15-19  FMLE         NaN   \n",
       "\n",
       "       Display Value    Numeric  Low  High  StdErr  StdDev  \\\n",
       "0                225  224.88920  NaN   NaN     NaN     NaN   \n",
       "1                102  102.27720  NaN   NaN     NaN     NaN   \n",
       "2                165  165.37340  NaN   NaN     NaN     NaN   \n",
       "3                194  194.30180  NaN   NaN     NaN     NaN   \n",
       "4                 99   98.80576  NaN   NaN     NaN     NaN   \n",
       "...              ...        ...  ...   ...     ...     ...   \n",
       "122810          19.9   19.92918  NaN   NaN     NaN     NaN   \n",
       "122811          17.1   17.09032  NaN   NaN     NaN     NaN   \n",
       "122812          49.2   49.16947  NaN   NaN     NaN     NaN   \n",
       "122813          46.7   46.69116  NaN   NaN     NaN     NaN   \n",
       "122814          42.5   42.52991  NaN   NaN     NaN     NaN   \n",
       "\n",
       "                                                 Comments  \n",
       "0                                                     NaN  \n",
       "1                                                     NaN  \n",
       "2                                                     NaN  \n",
       "3                                                     NaN  \n",
       "4                                                     NaN  \n",
       "...                                                   ...  \n",
       "122810  World population prospects: 2019 revision. Uni...  \n",
       "122811  World population prospects: 2019 revision. Uni...  \n",
       "122812  World population prospects: 2019 revision. Uni...  \n",
       "122813  World population prospects: 2019 revision. Uni...  \n",
       "122814  World population prospects: 2019 revision. Uni...  \n",
       "\n",
       "[122815 rows x 18 columns]"
      ]
     },
     "execution_count": 6,
     "metadata": {},
     "output_type": "execute_result"
    }
   ],
   "source": [
    "leam_df"
   ]
  },
  {
   "cell_type": "code",
   "execution_count": 9,
   "id": "7324045c",
   "metadata": {
    "scrolled": false
   },
   "outputs": [
    {
     "data": {
      "text/plain": [
       "GHO                          0\n",
       "PUBLISHSTATE                 0\n",
       "YEAR                         0\n",
       "Numeric                      0\n",
       "Display Value                0\n",
       "REGION                     800\n",
       "COUNTRY                   3411\n",
       "SEX                      10541\n",
       "High                     26727\n",
       "Low                      26727\n",
       "Comments                114650\n",
       "AGEGROUP                117470\n",
       "WORLDBANKINCOMEGROUP    121954\n",
       "UNSDGREGION             122395\n",
       "UNREGION                122661\n",
       "DATASOURCE              122809\n",
       "StdDev                  122815\n",
       "StdErr                  122815\n",
       "dtype: int64"
      ]
     },
     "execution_count": 9,
     "metadata": {},
     "output_type": "execute_result"
    }
   ],
   "source": [
    "leam_df.isnull().sum().sort_values()"
   ]
  },
  {
   "cell_type": "code",
   "execution_count": 48,
   "id": "62d4ad11",
   "metadata": {},
   "outputs": [
    {
     "data": {
      "text/plain": [
       "GHO                     1\n",
       "DATASOURCE              1\n",
       "StdDev                  1\n",
       "StdErr                  1\n",
       "High                    1\n",
       "Low                     1\n",
       "Numeric                 1\n",
       "Display Value           1\n",
       "UNSDGREGION             1\n",
       "SEX                     1\n",
       "AGEGROUP                1\n",
       "COUNTRY                 1\n",
       "WORLDBANKINCOMEGROUP    1\n",
       "UNREGION                1\n",
       "REGION                  1\n",
       "YEAR                    1\n",
       "PUBLISHSTATE            1\n",
       "Comments                1\n",
       "dtype: int64"
      ]
     },
     "execution_count": 48,
     "metadata": {},
     "output_type": "execute_result"
    }
   ],
   "source": [
    "leam_df.columns.value_counts()"
   ]
  },
  {
   "cell_type": "code",
   "execution_count": 38,
   "id": "6c92c2f9",
   "metadata": {},
   "outputs": [
    {
     "data": {
      "text/plain": [
       "122815"
      ]
     },
     "execution_count": 38,
     "metadata": {},
     "output_type": "execute_result"
    }
   ],
   "source": [
    "leam_df.shape[0]"
   ]
  },
  {
   "cell_type": "code",
   "execution_count": 42,
   "id": "7f418bd6",
   "metadata": {},
   "outputs": [
    {
     "name": "stdout",
     "output_type": "stream",
     "text": [
      "MDG_0000000007    36084\n",
      "MDG_0000000001    35933\n",
      "WHOSIS_000004      9690\n",
      "WHOSIS_000003      9648\n",
      "WHOSIS_000016      6262\n",
      "MDG_0000000003     5345\n",
      "WHOSIS_000014      4353\n",
      "MDG_0000000026     3420\n",
      "WHOSIS_000002      2328\n",
      "WHOSIS_000007      2328\n",
      "WHOSIS_000015      2328\n",
      "WHOSIS_000001      2328\n",
      "MDG_0000000025     2153\n",
      "WHOSIS_000006       615\n",
      "Name: GHO, dtype: int64\n",
      "\n",
      "NUT_TCD2019SMART    1\n",
      "NUT_TCD2019MICS     1\n",
      "NUT_NGA2018SMART    1\n",
      "NUT_NGA2018DHS      1\n",
      "NUT_PAK2018NNS      1\n",
      "NUT_PAK2018DHS      1\n",
      "Name: DATASOURCE, dtype: int64\n",
      "\n",
      "PUBLISHED    122815\n",
      "Name: PUBLISHSTATE, dtype: int64\n",
      "\n",
      "2000         4689\n",
      "2010         4685\n",
      "2015         4661\n",
      "2019         3911\n",
      "2014         2342\n",
      "             ... \n",
      "1940            1\n",
      "1933            1\n",
      "1932            1\n",
      "2020-2021       1\n",
      "2010-2013       1\n",
      "Name: YEAR, Length: 207, dtype: int64\n",
      "\n",
      "EUR       31696\n",
      "AFR       29557\n",
      "AMR       23368\n",
      "WPR       16407\n",
      "EMR       13519\n",
      "SEAR       7092\n",
      "GLOBAL      376\n",
      "Name: REGION, dtype: int64\n",
      "\n",
      "143.0    8\n",
      "62.0     8\n",
      "9.0      8\n",
      "145.0    8\n",
      "150.0    8\n",
      "722.0    8\n",
      "199.0    8\n",
      "432.0    8\n",
      "747.0    8\n",
      "202.0    8\n",
      "34.0     8\n",
      "35.0     8\n",
      "513.0    8\n",
      "21.0     8\n",
      "419.0    8\n",
      "753.0    8\n",
      "30.0     8\n",
      "53.0     8\n",
      "543.0    5\n",
      "15.0     5\n",
      "Name: UNREGION, dtype: int64\n",
      "\n",
      "WB_LMI             325\n",
      "WB_UMI             217\n",
      "WB_LI              204\n",
      "WB_HI               66\n",
      "WB_WORLD_INCOME     49\n",
      "Name: WORLDBANKINCOMEGROUP, dtype: int64\n",
      "\n",
      "BRA    745\n",
      "SEN    731\n",
      "GHA    728\n",
      "CRI    725\n",
      "MYS    722\n",
      "      ... \n",
      "PLW    355\n",
      "AND    324\n",
      "NRU    319\n",
      "SMR    303\n",
      "MCO    299\n",
      "Name: COUNTRY, Length: 195, dtype: int64\n",
      "\n",
      "YEARS15-19    2704\n",
      "YEARS10-14    2641\n",
      "Name: AGEGROUP, dtype: int64\n",
      "\n",
      "BTSX    46545\n",
      "FMLE    35537\n",
      "MLE     30192\n",
      "Name: SEX, dtype: int64\n",
      "\n",
      "UNSDG_AUSTRALIANEWZEALAND                         20\n",
      "UNSDG_NORTHAFR                                    20\n",
      "UNSDG_SUBSAHARANAFRICA                            20\n",
      "UNSDG_SOUTHASIA                                   20\n",
      "UNSDG_SOUTHEASTERNASIA                            20\n",
      "UNSDG_SIDS                                        20\n",
      "UNSDG_OCEANIAexAUSNZL                             20\n",
      "UNSDG_OCEANIA                                     20\n",
      "UNSDG_NORTHERNAMR                                 20\n",
      "UNSDG_WESTERNASIANORTHERNAFR                      20\n",
      "UNSDG_LEASTDEVELOPED                              20\n",
      "UNSDG_CENTRALASIA                                 20\n",
      "UNSDG_LAC                                         20\n",
      "UNSDG_LLDC                                        20\n",
      "UNSDG_EUROPENORTHERNAMERICAAUSTRALIANEWZEALAND    20\n",
      "UNSDG_EUROPENORTHERNAMR                           20\n",
      "UNSDG_EUROPE                                      20\n",
      "UNSDG_EASTERNASIASOUTHEASTERNASIA                 20\n",
      "UNSDG_EASTERNASIA                                 20\n",
      "UNSDG_CENTRALASIASOUTHERNASIA                     20\n",
      "UNSDG_WESTERNASIA                                 20\n",
      "Name: UNSDGREGION, dtype: int64\n",
      "\n",
      "0                      668\n",
      "0.1                    393\n",
      "100                    254\n",
      "99.9                   220\n",
      "0.2                    160\n",
      "                      ... \n",
      "53.56 [44.27-65.21]      1\n",
      "53.59 [43.82-66.14]      1\n",
      "53.59 [43.55-66.93]      1\n",
      "48.86 [44.34-53.91]      1\n",
      "88.3                     1\n",
      "Name: Display Value, Length: 91044, dtype: int64\n",
      "\n",
      "0.00000      668\n",
      "0.10000      393\n",
      "99.90000     211\n",
      "100.00000    195\n",
      "0.20000      160\n",
      "            ... \n",
      "63.60194       1\n",
      "60.21330       1\n",
      "65.26314       1\n",
      "55.77503       1\n",
      "42.52991       1\n",
      "Name: Numeric, Length: 112780, dtype: int64\n",
      "\n",
      "5.00000     130\n",
      "4.00000     121\n",
      "6.00000      91\n",
      "3.00000      80\n",
      "8.00000      72\n",
      "           ... \n",
      "51.00984      1\n",
      "58.82737      1\n",
      "46.55322      1\n",
      "72.47560      1\n",
      "26.90904      1\n",
      "Name: Low, Length: 92605, dtype: int64\n",
      "\n",
      "6.00000     82\n",
      "8.00000     79\n",
      "7.00000     72\n",
      "13.00000    63\n",
      "14.00000    58\n",
      "            ..\n",
      "23.85417     1\n",
      "25.64149     1\n",
      "28.46236     1\n",
      "30.79432     1\n",
      "27.97914     1\n",
      "Name: High, Length: 92870, dtype: int64\n",
      "\n",
      "Series([], Name: StdErr, dtype: int64)\n",
      "\n",
      "Series([], Name: StdDev, dtype: int64)\n",
      "\n",
      "Registration UNSD & WPP2019                                                                                                                                                                                                                     1285\n",
      "Estimate Human Fertility Database                                                                                                                                                                                                                651\n",
      "Registration National Statistics                                                                                                                                                                                                                 584\n",
      "Registration National Statistics (Eurostat)                                                                                                                                                                                                      389\n",
      "Registration Eurostat                                                                                                                                                                                                                            305\n",
      "                                                                                                                                                                                                                                                ... \n",
      "Botswana 2006 Demographic Survey                                                                                                                                                                                                                   1\n",
      "Botswana 2007 Family Health Survey - Multiple Indicator Cluster Survey                                                                                                                                                                             1\n",
      "Bangladesh 2009 Multiple Indicator Cluster Survey                                                                                                                                                                                                  1\n",
      "Algeria 2002 Enquête sur la santé de la famille                                                                                                                                                                                                    1\n",
      "Definition includes other cadres that is not in alignment with the standard definition. Zambia Demographic and Health Survey 2018. Lusaka, Rockville, Maryland, USA: Zambia Statistics Agency, Ministry of Health (MOH) [Zambia], ICF; 2019.       1\n",
      "Name: Comments, Length: 2332, dtype: int64\n",
      "\n"
     ]
    }
   ],
   "source": [
    "ee.nunique_column_all(leam_df)"
   ]
  },
  {
   "cell_type": "markdown",
   "id": "5584ac27",
   "metadata": {},
   "source": [
    "#### Misc"
   ]
  },
  {
   "cell_type": "code",
   "execution_count": 39,
   "id": "e584a6b1",
   "metadata": {},
   "outputs": [
    {
     "data": {
      "text/plain": [
       "array([nan, 'NUT_TCD2019SMART', 'NUT_TCD2019MICS', 'NUT_NGA2018SMART',\n",
       "       'NUT_NGA2018DHS', 'NUT_PAK2018NNS', 'NUT_PAK2018DHS'], dtype=object)"
      ]
     },
     "execution_count": 39,
     "metadata": {},
     "output_type": "execute_result"
    }
   ],
   "source": [
    "leam_df.DATASOURCE.unique()"
   ]
  },
  {
   "cell_type": "code",
   "execution_count": 15,
   "id": "b7600ada",
   "metadata": {
    "scrolled": true
   },
   "outputs": [
    {
     "data": {
      "text/plain": [
       "array(['PUBLISHED'], dtype=object)"
      ]
     },
     "execution_count": 15,
     "metadata": {},
     "output_type": "execute_result"
    }
   ],
   "source": [
    "leam_df.PUBLISHSTATE.unique()"
   ]
  },
  {
   "cell_type": "code",
   "execution_count": 18,
   "id": "ccee89d5",
   "metadata": {
    "scrolled": true
   },
   "outputs": [
    {
     "data": {
      "text/plain": [
       "(112780, 0.0, 2480.0)"
      ]
     },
     "execution_count": 18,
     "metadata": {},
     "output_type": "execute_result"
    }
   ],
   "source": [
    "leam_df.Numeric.nunique(), leam_df.Numeric.min(), leam_df.Numeric.max(), "
   ]
  },
  {
   "cell_type": "code",
   "execution_count": 10,
   "id": "54521187",
   "metadata": {
    "scrolled": true
   },
   "outputs": [
    {
     "data": {
      "text/plain": [
       "array([2009, 2014, 2015, 2002, 2003, 2008, 2013, 2007, 2001, 2012, 2006,\n",
       "       2000, 2011, 2005, 2016, 2010, 2004, 2017, 2018, 2019, 1990, 1991,\n",
       "       1993, 1996, 1999, 2020, 1959, 1961, 1962, 1963, 1964, 1966, 1967,\n",
       "       1969, 1970, 1972, 1973, 1975, 1978, 1980, 1981, 1983, 1984, 1986,\n",
       "       1987, 1989, 1992, 1994, 1995, 1997, 1998, 1960, 1965, 1971, 1976,\n",
       "       1977, 1982, 1988, 1985, 1974, 1968, 1979, 1951, 1952, 1953, 1957,\n",
       "       1958, 1956, 1949, 1954, 1955, 1950, 1946, 1947, 1948, 1944, 1943,\n",
       "       1945, 1941, 1942, 1940, 1934, 1939, 1937, 1938, 1935, 1936, 1933,\n",
       "       1932, '1983', '1986', '1989', '1991', '1992', '1994', '1995',\n",
       "       '1997', '1998', '1999', '2000', '2001', '2002', '2003', '2005',\n",
       "       '2006', '2008', '2009', '2011', '2014', '2017', '2019', '2020',\n",
       "       '1970', '1973', '1975', '1976', '1978', '1979', '1981', '1982',\n",
       "       '1984', '1987', '1990', '2004', '2007', '2012', '2015', '1956',\n",
       "       '1958', '1959', '1961', '1962', '1964', '1965', '1966', '1967',\n",
       "       '1968', '1969', '1972', '1993', '2018', '1951', '1952', '1954',\n",
       "       '1955', '1957', '1960', '1963', '1971', '1974', '1977', '1980',\n",
       "       '1985', '1988', '1996', '2010', '2013', '2016', '1950', '1953',\n",
       "       '1946', '1948', '1949', '1945', '1947', '1944', '1943', '1941',\n",
       "       '1942', '2001-2007', '2008-2014', '2015-2021', '2010-2011',\n",
       "       '2012-2013', '2018-2019', '1940', '2011-2012', '2008-2009',\n",
       "       '2019-2020', '2017-2018', '2013-2014', '2016-2017', '2015-2016',\n",
       "       '2005-2006', '2014-2015', '2002-2003', '2003-2004', '2001-2003',\n",
       "       '2000-2001', '1999-2000', '2021', '2007-2008', '2019-2021',\n",
       "       '2013-2015', '2009-2010', '2016-2018', '2012-2014', '2006-2007',\n",
       "       '2004-2005', '2001-2002', '2004-2006', '2015-2020', '2000-2005',\n",
       "       '2005-2010', '2010-2015', '2020-2021', '2010-2013'], dtype=object)"
      ]
     },
     "execution_count": 10,
     "metadata": {},
     "output_type": "execute_result"
    }
   ],
   "source": [
    "leam_df.YEAR.unique()"
   ]
  },
  {
   "cell_type": "markdown",
   "id": "418f623d",
   "metadata": {},
   "source": [
    "#### GHO Stats"
   ]
  },
  {
   "cell_type": "code",
   "execution_count": 11,
   "id": "5208ad14",
   "metadata": {
    "scrolled": true
   },
   "outputs": [
    {
     "data": {
      "text/plain": [
       "array(['WHOSIS_000004', 'MDG_0000000026', 'WHOSIS_000014',\n",
       "       'WHOSIS_000002', 'WHOSIS_000007', 'WHOSIS_000015', 'WHOSIS_000001',\n",
       "       'MDG_0000000001', 'WHOSIS_000016', 'WHOSIS_000003',\n",
       "       'MDG_0000000007', 'WHOSIS_000006', 'MDG_0000000003',\n",
       "       'MDG_0000000025'], dtype=object)"
      ]
     },
     "execution_count": 11,
     "metadata": {},
     "output_type": "execute_result"
    }
   ],
   "source": [
    "leam_df.GHO.unique()"
   ]
  },
  {
   "cell_type": "code",
   "execution_count": 12,
   "id": "6596ee6f",
   "metadata": {},
   "outputs": [
    {
     "data": {
      "text/plain": [
       "0"
      ]
     },
     "execution_count": 12,
     "metadata": {},
     "output_type": "execute_result"
    }
   ],
   "source": [
    "leam_df.GHO.isnull().sum()"
   ]
  },
  {
   "cell_type": "code",
   "execution_count": 13,
   "id": "1541b847",
   "metadata": {
    "scrolled": true
   },
   "outputs": [
    {
     "data": {
      "text/plain": [
       "MDG_0000000007    36084\n",
       "MDG_0000000001    35933\n",
       "WHOSIS_000004      9690\n",
       "WHOSIS_000003      9648\n",
       "WHOSIS_000016      6262\n",
       "MDG_0000000003     5345\n",
       "WHOSIS_000014      4353\n",
       "MDG_0000000026     3420\n",
       "WHOSIS_000002      2328\n",
       "WHOSIS_000007      2328\n",
       "WHOSIS_000015      2328\n",
       "WHOSIS_000001      2328\n",
       "MDG_0000000025     2153\n",
       "WHOSIS_000006       615\n",
       "Name: GHO, dtype: int64"
      ]
     },
     "execution_count": 13,
     "metadata": {},
     "output_type": "execute_result"
    }
   ],
   "source": [
    "leam_df.GHO.value_counts()"
   ]
  },
  {
   "cell_type": "markdown",
   "id": "b05e0bd4",
   "metadata": {},
   "source": [
    "#### MDG Stats"
   ]
  },
  {
   "cell_type": "markdown",
   "id": "7ba1cc14",
   "metadata": {},
   "source": [
    "<div class=\"alert alert-info\">\n",
    "\n",
    "#### Over 35K value counts\n",
    "* 'MDG_0000000007': 'Under-five mortality rate (per 1000 live births)', \n",
    "* 'MDG_0000000001': 'Infant mortality rate (between birth and 11 months per 1000 live births)', \n",
    "\n",
    "#### Between 2-5k value counts\n",
    "* 'MDG_0000000003': 'Adolescent birth rate (per 1000 women)', \n",
    "* 'MDG_0000000026': 'Maternal mortality ratio (per 100 000 live births)', \n",
    "* 'MDG_0000000025': 'Births attended by skilled health personnel (%)', \n",
    "\n",
    "#### MDG...05 returned no data\n",
    "* 'MDG_0000000005': 'Contraceptive prevalence (%)', "
   ]
  },
  {
   "cell_type": "code",
   "execution_count": 36,
   "id": "68e91dfb",
   "metadata": {},
   "outputs": [
    {
     "name": "stdout",
     "output_type": "stream",
     "text": [
      "MDG_0000000007    29.38%\n",
      "MDG_0000000001    29.26%\n",
      "MDG_0000000003     4.35%\n",
      "MDG_0000000026     2.78%\n",
      "MDG_0000000025     1.75%\n"
     ]
    }
   ],
   "source": [
    "print(f'MDG_0000000007    {round(36084/leam_df.shape[0]*100,2)}%')\n",
    "print(f'MDG_0000000001    {round(35933/leam_df.shape[0]*100,2)}%')\n",
    "print(f'MDG_0000000003     {round(5345/leam_df.shape[0]*100,2)}%')\n",
    "print(f'MDG_0000000026     {round(3420/leam_df.shape[0]*100,2)}%')\n",
    "print(f'MDG_0000000025     {round(2153/leam_df.shape[0]*100,2)}%')"
   ]
  },
  {
   "cell_type": "markdown",
   "id": "0c4cf120",
   "metadata": {},
   "source": [
    "'MDG_0000000001': 'Infant mortality rate (between birth and 11 months per 1000 live births)', \n",
    "'MDG_0000000003': 'Adolescent birth rate (per 1000 women)', \n",
    "'MDG_0000000005': 'Contraceptive prevalence (%)', \n",
    "'MDG_0000000007': 'Under-five mortality rate (per 1000 live births)', \n",
    "'MDG_0000000025': 'Births attended by skilled health personnel (%)', \n",
    "'MDG_0000000026': 'Maternal mortality ratio (per 100 000 live births)', "
   ]
  },
  {
   "cell_type": "markdown",
   "id": "2abc06a2",
   "metadata": {},
   "source": [
    "|[GHO Code](https://apps.who.int/gho/athena/api/GHO)      |[Documentation](https://www.who.int/data/gho/indicator-metadata-registry)|[Global Health Observatory](https://www.who.int/data/gho) (GHO) Code Description|\n",
    "|:-------------|:-----------:|:------------------------------------------------|\n",
    "|MDG_0000000001|[📖](https://www.who.int/data/gho/indicator-metadata-registry/imr-details/1)|Infant mortality rate (between birth and 11 months per 1000 live births)| \n",
    "|MDG_0000000003|[📖](https://www.who.int/data/gho/indicator-metadata-registry/imr-details/4669)|Adolescent birth rate (per 1000 women)| \n",
    "|MDG_0000000005|[📖](https://www.who.int/data/gho/indicator-metadata-registry/imr-details/5)|Contraceptive prevalence (%)| \n",
    "|MDG_0000000007|[📖](https://www.who.int/data/gho/indicator-metadata-registry/imr-details/7)|Under-five mortality rate (per 1000 live births)| \n",
    "|MDG_0000000025|[📖](https://www.who.int/data/gho/indicator-metadata-registry/imr-details/25)|Births attended by skilled health personnel (%)| \n",
    "|MDG_0000000026|[📖](https://www.who.int/data/gho/indicator-metadata-registry/imr-details/26)|Maternal mortality ratio (per 100 000 live births)| "
   ]
  },
  {
   "cell_type": "markdown",
   "id": "57d41180",
   "metadata": {},
   "source": [
    "#### WHOSIS Stats"
   ]
  },
  {
   "cell_type": "markdown",
   "id": "b993e8d3",
   "metadata": {},
   "source": [
    "<div class=\"alert alert-info\">\n",
    "\n",
    "#### About 24% of data\n",
    "* 'WHOSIS_000004': 'Adult mortality rate (probability of dying between 15 and 60 years per 1000 population)',\n",
    "* 'WHOSIS_000003': 'Neonatal mortality rate (0 to 27 days) per 1000 live births)',\n",
    "\n",
    "#### Between 10-15% of data\n",
    "* 'WHOSIS_000016': 'Mortality rate among children ages 5 to 9 years (per 1000 children aged 5)', \n",
    "* 'WHOSIS_000014': 'Stillbirth rate (per 1000 total births)', \n",
    "\n",
    "#### These are all exactly the same record count at 5.84%\n",
    "* 'WHOSIS_000001': 'Life expectancy at birth (years)', \n",
    "* 'WHOSIS_000002': 'Healthy life expectancy (HALE) at birth (years)', \n",
    "* 'WHOSIS_000007': 'Healthy life expectancy (HALE) at age 60 (years)', \n",
    "* 'WHOSIS_000015': 'Life expectancy at age 60 (years)', \n",
    "\n",
    "#### Very little representation at only 1.54% with just 615 records\n",
    "* 'WHOSIS_000006': 'Infants exclusively breastfed for the first six months of life (%)', "
   ]
  },
  {
   "cell_type": "code",
   "execution_count": 37,
   "id": "a4966099",
   "metadata": {},
   "outputs": [
    {
     "name": "stdout",
     "output_type": "stream",
     "text": [
      "WHOSIS_000004    7.89%\n",
      "WHOSIS_000003    7.86%\n",
      "WHOSIS_000016     5.1%\n",
      "WHOSIS_000014     3.54%\n",
      "WHOSIS_000002     1.9%\n",
      "WHOSIS_000007     1.9%\n",
      "WHOSIS_000015     1.9%\n",
      "WHOSIS_000001     1.9%\n",
      "WHOSIS_000006     0.5%\n"
     ]
    }
   ],
   "source": [
    "print(f'WHOSIS_000004    {round(9690/leam_df.shape[0]*100,2)}%')\n",
    "print(f'WHOSIS_000003    {round(9648/leam_df.shape[0]*100,2)}%')\n",
    "print(f'WHOSIS_000016     {round(6262/leam_df.shape[0]*100,2)}%')\n",
    "print(f'WHOSIS_000014     {round(4353/leam_df.shape[0]*100,2)}%')\n",
    "print(f'WHOSIS_000002     {round(2328/leam_df.shape[0]*100,2)}%')\n",
    "print(f'WHOSIS_000007     {round(2328/leam_df.shape[0]*100,2)}%')\n",
    "print(f'WHOSIS_000015     {round(2328/leam_df.shape[0]*100,2)}%')\n",
    "print(f'WHOSIS_000001     {round(2328/leam_df.shape[0]*100,2)}%')\n",
    "print(f'WHOSIS_000006     {round(615/leam_df.shape[0]*100,2)}%')"
   ]
  },
  {
   "cell_type": "markdown",
   "id": "51e63873",
   "metadata": {},
   "source": [
    "'WHOSIS_000001': 'Life expectancy at birth (years)', \n",
    "'WHOSIS_000002': 'Healthy life expectancy (HALE) at birth (years)', \n",
    "'WHOSIS_000003': 'Neonatal mortality rate (0 to 27 days) per 1000 live births) (SDG 3.2.2)',\n",
    "'WHOSIS_000004': 'Adult mortality rate (probability of dying between 15 and 60 years per 1000 population)',\n",
    "'WHOSIS_000006': 'Infants exclusively breastfed for the first six months of life (%)', \n",
    "'WHOSIS_000007': 'Healthy life expectancy (HALE) at age 60 (years)', \n",
    "'WHOSIS_000014': 'Stillbirth rate (per 1000 total births)', \n",
    "'WHOSIS_000015': 'Life expectancy at age 60 (years)', \n",
    "'WHOSIS_000016': 'Mortality rate among children ages 5 to 9 years (per 1000 children aged 5)', "
   ]
  },
  {
   "cell_type": "markdown",
   "id": "d9c1d454",
   "metadata": {},
   "source": [
    "|[GHO Code](https://apps.who.int/gho/athena/api/GHO)      |[Documentation](https://www.who.int/data/gho/indicator-metadata-registry)|[Global Health Observatory](https://www.who.int/data/gho) (GHO) Code Description|\n",
    "|:-------------|:-----------:|:------------------------------------------------|\n",
    "|WHOSIS_000001|[📖](https://www.who.int/data/gho/indicator-metadata-registry/imr-details/65)|Life expectancy at birth (years)| \n",
    "|WHOSIS_000002|[📖](https://www.who.int/data/gho/indicator-metadata-registry/imr-details/66)|Healthy life expectancy (HALE) at birth (years)| \n",
    "|WHOSIS_000003|[📖](https://www.who.int/data/gho/indicator-metadata-registry/imr-details/67)|Neonatal mortality rate (0 to 27 days) per 1000 live births)|\n",
    "|WHOSIS_000004|[📖](https://www.who.int/data/gho/indicator-metadata-registry/imr-details/64)|Adult mortality rate (probability of dying between 15 and 60 years per 1000 population)|\n",
    "|WHOSIS_000006|[📖](https://www.who.int/data/gho/indicator-metadata-registry/imr-details/130)|Infants exclusively breastfed for the first six months of life (%)| \n",
    "|WHOSIS_000007|[📖](https://www.who.int/data/gho/indicator-metadata-registry/imr-details/3443)|Healthy life expectancy (HALE) at age 60 (years)| \n",
    "|WHOSIS_000014|[📖](https://www.who.int/data/gho/indicator-metadata-registry/imr-details/2444)|Stillbirth rate (per 1000 total births)| \n",
    "|WHOSIS_000015|[📖](https://www.who.int/data/gho/indicator-metadata-registry/imr-details/2977)|Life expectancy at age 60 (years)| \n",
    "|WHOSIS_000016|[📖](https://www.who.int/data/gho/indicator-metadata-registry/imr-details/5669)|Mortality rate among children ages 5 to 9 years (per 1000 children aged 5)| \n"
   ]
  },
  {
   "cell_type": "markdown",
   "id": "81a08229",
   "metadata": {},
   "source": [
    "#### Country"
   ]
  },
  {
   "cell_type": "code",
   "execution_count": 21,
   "id": "706d811a",
   "metadata": {
    "scrolled": false
   },
   "outputs": [
    {
     "data": {
      "text/plain": [
       "3411"
      ]
     },
     "execution_count": 21,
     "metadata": {},
     "output_type": "execute_result"
    }
   ],
   "source": [
    "leam_df.COUNTRY.isnull().sum()"
   ]
  },
  {
   "cell_type": "code",
   "execution_count": 19,
   "id": "aab81220",
   "metadata": {},
   "outputs": [
    {
     "data": {
      "text/plain": [
       "195"
      ]
     },
     "execution_count": 19,
     "metadata": {},
     "output_type": "execute_result"
    }
   ],
   "source": [
    "leam_df.COUNTRY.nunique()"
   ]
  },
  {
   "cell_type": "code",
   "execution_count": 29,
   "id": "f5007c84",
   "metadata": {
    "scrolled": true
   },
   "outputs": [
    {
     "name": "stdout",
     "output_type": "stream",
     "text": [
      "Country Null is 2.78 % of entire database\n"
     ]
    }
   ],
   "source": [
    "print(f'Country Null is {round(leam_df.COUNTRY.isnull().sum() / leam_df.shape[0] *100, 2)} % of entire database')"
   ]
  },
  {
   "cell_type": "code",
   "execution_count": 20,
   "id": "b5c76fe1",
   "metadata": {
    "scrolled": true
   },
   "outputs": [
    {
     "data": {
      "text/plain": [
       "array(['MUS', 'MWI', 'MYS', 'NAM', 'NER', 'NGA', 'NIC', 'NLD', 'NOR',\n",
       "       'NPL', 'NZL', 'OMN', 'PAK', 'PAN', 'PER', 'PHL', 'PNG', 'POL',\n",
       "       'PRK', 'PRT', 'PRY', 'QAT', 'ROU', 'RUS', 'RWA', 'SAU', 'SDN',\n",
       "       'SEN', 'SGP', 'SLB', 'SLE', 'SLV', 'SOM', 'SRB', 'SSD', 'STP',\n",
       "       'SUR', 'SVK', 'SVN', 'SWE', 'SWZ', 'SYC', nan, 'AFG', 'AGO', 'ALB',\n",
       "       'ARE', 'ARG', 'ARM', 'ATG', 'AUS', 'AUT', 'AZE', 'BDI', 'BEL',\n",
       "       'BEN', 'BFA', 'BGD', 'BGR', 'BHR', 'BHS', 'BIH', 'BLR', 'BLZ',\n",
       "       'BOL', 'BRA', 'BRB', 'BRN', 'BTN', 'BWA', 'CAF', 'CAN', 'CHE',\n",
       "       'CHL', 'CHN', 'CIV', 'CMR', 'COD', 'COG', 'COL', 'COM', 'CPV',\n",
       "       'CRI', 'CUB', 'CYP', 'CZE', 'DEU', 'DJI', 'DNK', 'DOM', 'DZA',\n",
       "       'ECU', 'EGY', 'ERI', 'ESP', 'EST', 'ETH', 'FIN', 'FJI', 'FRA',\n",
       "       'FSM', 'GAB', 'GBR', 'GEO', 'GHA', 'GIN', 'GMB', 'GNB', 'GNQ',\n",
       "       'GRC', 'GRD', 'GTM', 'GUY', 'HND', 'HRV', 'HTI', 'HUN', 'IDN',\n",
       "       'IND', 'IRL', 'IRN', 'IRQ', 'ISL', 'ISR', 'ITA', 'JAM', 'JOR',\n",
       "       'JPN', 'KAZ', 'KEN', 'KGZ', 'KHM', 'KIR', 'KOR', 'KWT', 'LAO',\n",
       "       'LBN', 'LBR', 'LBY', 'LCA', 'LKA', 'LSO', 'LTU', 'LUX', 'LVA',\n",
       "       'MAR', 'MDA', 'MDG', 'MDV', 'MEX', 'MKD', 'MLI', 'MLT', 'MMR',\n",
       "       'MNE', 'TCD', 'MRT', 'MNG', 'MOZ', 'TZA', 'ZWE', 'TLS', 'UGA',\n",
       "       'TGO', 'ZMB', 'YEM', 'VUT', 'ZAF', 'VEN', 'WSM', 'TON', 'VCT',\n",
       "       'TTO', 'VNM', 'TUN', 'SYR', 'THA', 'TJK', 'TKM', 'TUR', 'UKR',\n",
       "       'URY', 'USA', 'UZB', 'COK', 'DMA', 'KNA', 'MCO', 'MHL', 'NIU',\n",
       "       'AND', 'NRU', 'PLW', 'PSE', 'SMR', 'TUV'], dtype=object)"
      ]
     },
     "execution_count": 20,
     "metadata": {},
     "output_type": "execute_result"
    }
   ],
   "source": [
    "leam_df.COUNTRY.unique()"
   ]
  },
  {
   "cell_type": "markdown",
   "id": "ed9eac46",
   "metadata": {},
   "source": [
    "#### Sex"
   ]
  },
  {
   "cell_type": "code",
   "execution_count": 30,
   "id": "774f5dce",
   "metadata": {
    "scrolled": true
   },
   "outputs": [
    {
     "data": {
      "text/plain": [
       "10541"
      ]
     },
     "execution_count": 30,
     "metadata": {},
     "output_type": "execute_result"
    }
   ],
   "source": [
    "leam_df.SEX.isnull().sum()"
   ]
  },
  {
   "cell_type": "code",
   "execution_count": 32,
   "id": "dfe4703d",
   "metadata": {
    "scrolled": true
   },
   "outputs": [
    {
     "name": "stdout",
     "output_type": "stream",
     "text": [
      "Sex Null is 8.58 % of entire database\n"
     ]
    }
   ],
   "source": [
    "print(f'Sex Null is {round(leam_df.SEX.isnull().sum() / leam_df.shape[0] *100, 2)} % of entire database')"
   ]
  },
  {
   "cell_type": "markdown",
   "id": "a0054a7b",
   "metadata": {},
   "source": [
    "<div class=\"alert alert-success\">\n",
    "\n",
    "# Checkpoint #1\n",
    "\n",
    "1. a brief (one-sentence) description of your project\n",
    "* Predict future Life Expectancy or Healthy Life Expectancy\n",
    "\n",
    "2. a link to the data source\n",
    "* **GHO Selections:** https://apps.who.int/gho/athena/api/GHO\n",
    "* **Homepage:** https://www.who.int/data/gho/info/athena-api-examples\n",
    "* **CSV Data Pull:** https://apps.who.int/gho/athena/api/GHO/WHOSIS_000001,WHOSIS_000002,WHOSIS_000003,WHOSIS_000004,WHOSIS_000005,WHOSIS_000006,WHOSIS_000007,WHOSIS_000008,WHOSIS_000009,WHOSIS_000010,WHOSIS_000012,WHOSIS_000013,WHOSIS_000014,WHOSIS_000015,WHOSIS_000016?format=csv \n",
    "\n",
    "3. your target variable\n",
    "* Numeric (Expected Years of continued Life)\n",
    "\n",
    "4. what one observation represents\n",
    "* Numeric for one year in specified country according to category of life expectancy\n",
    "    * 'WHOSIS_000001': 'Life expectancy at birth (years)', \n",
    "    * 'WHOSIS_000002': 'Healthy life expectancy (HALE) at birth (years)', \n",
    "    * 'WHOSIS_000007': 'Healthy life expectancy (HALE) at age 60 (years)', \n",
    "    * 'WHOSIS_000015': 'Life expectancy at age 60 (years)', \n"
   ]
  },
  {
   "cell_type": "markdown",
   "id": "8b3d2462",
   "metadata": {},
   "source": [
    "<div class=\"alert alert-danger\">\n",
    "\n",
    "# Sometimes it is faster to read the unreadable data than it is to read about how to make the data readable!"
   ]
  },
  {
   "cell_type": "code",
   "execution_count": null,
   "id": "65095911",
   "metadata": {},
   "outputs": [],
   "source": []
  }
 ],
 "metadata": {
  "kernelspec": {
   "display_name": "Python 3 (ipykernel)",
   "language": "python",
   "name": "python3"
  },
  "language_info": {
   "codemirror_mode": {
    "name": "ipython",
    "version": 3
   },
   "file_extension": ".py",
   "mimetype": "text/x-python",
   "name": "python",
   "nbconvert_exporter": "python",
   "pygments_lexer": "ipython3",
   "version": "3.9.12"
  }
 },
 "nbformat": 4,
 "nbformat_minor": 5
}
